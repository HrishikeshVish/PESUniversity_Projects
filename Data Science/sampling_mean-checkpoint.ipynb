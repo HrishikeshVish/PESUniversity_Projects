{
 "cells": [
  {
   "cell_type": "code",
   "execution_count": 1,
   "metadata": {},
   "outputs": [
    {
     "data": {
      "image/png": "[encoded data removed]",
      "text/plain": [
       "<matplotlib.figure.Figure at 0x18f5ed8cb00>"
      ]
     },
     "metadata": {},
     "output_type": "display_data"
    },
    {
     "data": {
      "image/png": "[encoded data removed]",
      "text/plain": [
       "<matplotlib.figure.Figure at 0x18f610e7f28>"
      ]
     },
     "metadata": {},
     "output_type": "display_data"
    },
    {
     "data": {
      "image/png": "[encoded data removed]",
      "text/plain": [
       "<matplotlib.figure.Figure at 0x18f6129a860>"
      ]
     },
     "metadata": {},
     "output_type": "display_data"
    }
   ],
   "source": [
    "import numpy as np\n",
    "import matplotlib.pyplot as plt\n",
    "from random import sample\n",
    "from statistics import mean\n",
    "\n",
    "def plot(arr, N, n_samples):\n",
    "    x = []\n",
    "    for i in range(1, n_samples):\n",
    "        #to find N samples from the arr\n",
    "        smp = sample(arr, N)\n",
    "        mu = mean(smp)\n",
    "        x.append(mu)\n",
    "    plt.hist(x)\n",
    "    plt.show()\n",
    "\n",
    "#example data(population)\n",
    "arr = [i for i in range(1000)]\n",
    "\n",
    "#variations\n",
    "plot(arr, 30, 500)\n",
    "plot(arr, 5, 500)\n",
    "plot(arr, 30, 50)\n",
    "#so as number of samples(n_sample) increases the distribution becomes normal\n",
    "#so as sample size increases the flatness of the distribution decreses"
   ]
  },
  {
   "cell_type": "code",
   "execution_count": null,
   "metadata": {
    "collapsed": true
   },
   "outputs": [],
   "source": []
  },
  {
   "cell_type": "code",
   "execution_count": null,
   "metadata": {
    "collapsed": true
   },
   "outputs": [],
   "source": []
  }
 ],
 "metadata": {
  "kernelspec": {
   "display_name": "Python 3",
   "language": "python",
   "name": "python3"
  },
  "language_info": {
   "codemirror_mode": {
    "name": "ipython",
    "version": 3
   },
   "file_extension": ".py",
   "mimetype": "text/x-python",
   "name": "python",
   "nbconvert_exporter": "python",
   "pygments_lexer": "ipython3",
   "version": "3.7.0"
  }
 },
 "nbformat": 4,
 "nbformat_minor": 2
}
