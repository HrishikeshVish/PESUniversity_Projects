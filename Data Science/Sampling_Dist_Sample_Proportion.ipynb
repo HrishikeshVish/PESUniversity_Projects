{
 "cells": [
  {
   "cell_type": "code",
   "execution_count": 1,
   "metadata": {
    "collapsed": false
   },
   "outputs": [
    {
     "name": "stdout",
     "output_type": "stream",
     "text": [
      "Population Proportion 0.08508\n",
      "mean of p_hats 0.0906\n",
      "Uncertinity in the estimate 0.0344880931834245\n",
      "Expectes SD (from formula) =  0.03945665814536249\n",
      "mean of p_hats 0.08434\n",
      "Uncertinity in the estimate 0.008913667560984932\n",
      "Expectes SD (from formula) =  0.03945665814536249\n"
     ]
    },
    {
     "data": {
      "image/png": "[encoded data removed]",
      "text/plain": [
       "<matplotlib.figure.Figure at 0x1fda3fc9a20>"
      ]
     },
     "metadata": {},
     "output_type": "display_data"
    },
    {
     "name": "stdout",
     "output_type": "stream",
     "text": [
      "mean of p_hats 0.08451\n",
      "Uncertinity in the estimate 0.02716058905100546\n",
      "Expectes SD (from formula) =  0.00882277697780013\n",
      "mean of p_hats 0.085402\n",
      "Uncertinity in the estimate 0.008800559405279067\n",
      "Expectes SD (from formula) =  0.00882277697780013\n"
     ]
    },
    {
     "data": {
      "image/png": "[encoded data removed]",
      "text/plain": [
       "<matplotlib.figure.Figure at 0x1fda40fb518>"
      ]
     },
     "metadata": {},
     "output_type": "display_data"
    }
   ],
   "source": [
    "%matplotlib inline\n",
    "import math\n",
    "import matplotlib.pyplot as plt\n",
    "import statistics as stat\n",
    "import pandas as pd\n",
    "\n",
    "df = pd.read_csv('height-weight.csv')\n",
    "\n",
    "count = 0\n",
    "for index, row in df.weight.iteritems():\n",
    "    if row > 143:\n",
    "        count = count + 1\n",
    "    \n",
    "p = count/len(df)\n",
    "print('Population Proportion', p)\n",
    "    \n",
    "    \n",
    "def sampling(sample_size,no_of_samples):\n",
    "    p_hats=[]\n",
    "    for i in range(no_of_samples):\n",
    "        count=0\n",
    "        sample=df.weight.sample(sample_size)\n",
    "        for item in sample:\n",
    "            if item>143:\n",
    "                count=count+1\n",
    "        sample_proportion= count/sample_size\n",
    "        #print(\"sample\",i+1,\"\\t p_hat=\",sample_proportion, 'count', count)\n",
    "        p_hats.append(sample_proportion)\n",
    "    mean_phats=stat.mean(p_hats)\n",
    "    print(\"mean of p_hats\",mean_phats)\n",
    "    print(\"Uncertinity in the estimate\", stat.stdev(p_hats))\n",
    "    print(\"Expectes SD (from formula) = \", pow((p*(1-p)/no_of_samples), 0.5))\n",
    "    # print(\"Expected of p_hats\",math.sqrt(p*(1-p)/sample_no)\n",
    "    plt.hist(p_hats)\n",
    "    \n",
    "\n",
    "sampling(100,50)\n",
    "sampling(1000,50)\n",
    "plt.show()\n",
    "\n",
    "sampling(100, 1000)\n",
    "sampling(1000, 1000)"
   ]
  },
  {
   "cell_type": "code",
   "execution_count": null,
   "metadata": {
    "collapsed": true
   },
   "outputs": [],
   "source": []
  }
 ],
 "metadata": {
  "kernelspec": {
   "display_name": "Python 3",
   "language": "python",
   "name": "python3"
  },
  "language_info": {
   "codemirror_mode": {
    "name": "ipython",
    "version": 3
   },
   "file_extension": ".py",
   "mimetype": "text/x-python",
   "name": "python",
   "nbconvert_exporter": "python",
   "pygments_lexer": "ipython3",
   "version": "3.6.0"
  }
 },
 "nbformat": 4,
 "nbformat_minor": 0
}
