{
 "cells": [
  {
   "cell_type": "code",
   "execution_count": 2,
   "metadata": {},
   "outputs": [
    {
     "name": "stdout",
     "output_type": "stream",
     "text": [
      "z-score: 0.674489750196\n"
     ]
    }
   ],
   "source": [
    "#Z-score for given area\n",
    "\n",
    "import matplotlib.pyplot as plt\n",
    "import numpy as np\n",
    "from scipy.stats import norm\n",
    "\n",
    "area = 0.75     #area under the graph\n",
    "#convert values to z-score\n",
    "print('z-score:',norm.ppf(area))"
   ]
  },
  {
   "cell_type": "code",
   "execution_count": 5,
   "metadata": {},
   "outputs": [
    {
     "name": "stdout",
     "output_type": "stream",
     "text": [
      "Finding P(z < -254.375 )\n",
      "Area to left of x :  0.0\n",
      "Finding P(z > -254.375 )\n",
      "Area to right of x :  0.135666060946\n"
     ]
    }
   ],
   "source": [
    "#Given X ~ N(mu, var)\n",
    "#Finding Probabilities\n",
    "\n",
    "import matplotlib.pyplot as plt\n",
    "import numpy as np\n",
    "from scipy.stats import norm\n",
    "\n",
    "mu = 2.505\n",
    "x = 0.47\n",
    "sigma = 0.008\n",
    "z = (x - mu)/sigma\n",
    "print('Finding P(z <',z,')')\n",
    "print('Area to left of x : ',norm.cdf(z))\n",
    "\n",
    "print('Finding P(z >', z,')')\n",
    "print('Area to right of x : ',1 - norm.cdf(1.1))\n",
    "#since total area under the graph is 1\n"
   ]
  },
  {
   "cell_type": "code",
   "execution_count": 3,
   "metadata": {},
   "outputs": [
    {
     "name": "stdout",
     "output_type": "stream",
     "text": [
      "Finding P( -1.1 < z < 1.1 )\n",
      "Area to left of a :  0.135666060946\n",
      "Area to left of b :  0.864333939054\n",
      "Area to between a and b:  0.728667878107\n"
     ]
    }
   ],
   "source": [
    "#Area in an interval between two values a and b\n",
    "from scipy.stats import norm\n",
    "def prob(a,b):\n",
    "    z1 = (a - mu)/sigma\n",
    "    z2 = (b - mu)/sigma\n",
    "    print('Finding P(',z1,'< z <', z2,')')\n",
    "    print('Area to left of a : ',norm.cdf(z1))\n",
    "    print('Area to left of b : ',norm.cdf(z2))\n",
    "    print('Area to between a and b: ',norm.cdf(z2) - norm.cdf(z1))\n",
    "    \n",
    "mu = 50\n",
    "sigma = 5\n",
    "prob(44.5, 55.5)   "
   ]
  },
  {
   "cell_type": "code",
   "execution_count": null,
   "metadata": {
    "collapsed": true
   },
   "outputs": [],
   "source": []
  }
 ],
 "metadata": {
  "kernelspec": {
   "display_name": "Python 3",
   "language": "python",
   "name": "python3"
  },
  "language_info": {
   "codemirror_mode": {
    "name": "ipython",
    "version": 3
   },
   "file_extension": ".py",
   "mimetype": "text/x-python",
   "name": "python",
   "nbconvert_exporter": "python",
   "pygments_lexer": "ipython3",
   "version": "3.6.1"
  }
 },
 "nbformat": 4,
 "nbformat_minor": 1
}
