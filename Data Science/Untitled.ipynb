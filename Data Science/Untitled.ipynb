{
 "cells": [
  {
   "cell_type": "code",
   "execution_count": 21,
   "metadata": {},
   "outputs": [
    {
     "name": "stdout",
     "output_type": "stream",
     "text": [
      "Population mean:  67.99311359679979\n",
      "Population SD :  1.9016407372498367\n",
      "________________________________________________\n",
      "Expected SD among the means 0.4360780592107148\n",
      "________________________________________________\n",
      "\n",
      "Means of mean of 100 with sample size 10 is 67.98424795\n",
      "Standard deviation among the means : 0.5460883994652216\n",
      "--------------------------------------------------------------------------\n",
      "Means of mean of 100 with sample size 50 is 67.98077046200001\n",
      "Standard deviation among the means : 0.2613875526119007\n",
      "--------------------------------------------------------------------------\n",
      "Means of mean of 100 with sample size 100 is 67.98786805099999\n",
      "Standard deviation among the means : 0.19155308492323225\n",
      "--------------------------------------------------------------------------\n",
      "Means of mean of 100 with sample size 1000 is 67.9991115334\n",
      "Standard deviation among the means : 0.06431370365547288\n",
      "--------------------------------------------------------------------------\n"
     ]
    },
    {
     "data": {
      "image/png": "[encoded data removed]",
      "text/plain": [
       "<Figure size 432x288 with 1 Axes>"
      ]
     },
     "metadata": {},
     "output_type": "display_data"
    }
   ],
   "source": [
    "%matplotlib inline\n",
    "import matplotlib.pyplot as plt\n",
    "import pandas as pd\n",
    "import numpy as np\n",
    "from math import sqrt\n",
    "df = pd.read_csv('height-weight.csv')\n",
    "\n",
    "means = [] #append all the means in the list\n",
    "pop_mean = np.mean(df.height)\n",
    "pop_sd=np.std(df.height)\n",
    "print('Population mean: ',pop_mean)\n",
    "print('Population SD : ',pop_sd)\n",
    "print('________________________________________________')\n",
    "\n",
    "def sampling(sample_size, no_of_sampls):\n",
    "    means=[]\n",
    "    for i in range(no_of_sampls):\n",
    "        sample = df.height.sample(sample_size)\n",
    "        means.append(np.mean(sample))\n",
    "    print('Means of mean of',no_of_sampls,'with sample size',sample_size,'is',np.mean(means))\n",
    "    print('Standard deviation among the means :',np.std(means))\n",
    "    print('--------------------------------------------------------------------------')\n",
    "    plt.hist(means)\n",
    "\n",
    "print('Expected SD among the means',sqrt(pop_sd/sqrt(100)))\n",
    "print('________________________________________________')\n",
    "print()\n",
    "sampling(10,100)\n",
    "sampling(50,100)\n",
    "sampling(100,100)\n",
    "sampling(1000,100)"
   ]
  },
  {
   "cell_type": "code",
   "execution_count": null,
   "metadata": {},
   "outputs": [],
   "source": []
  }
 ],
 "metadata": {
  "kernelspec": {
   "display_name": "Python 3",
   "language": "python",
   "name": "python3"
  },
  "language_info": {
   "codemirror_mode": {
    "name": "ipython",
    "version": 3
   },
   "file_extension": ".py",
   "mimetype": "text/x-python",
   "name": "python",
   "nbconvert_exporter": "python",
   "pygments_lexer": "ipython3",
   "version": "3.6.5"
  }
 },
 "nbformat": 4,
 "nbformat_minor": 2
}
