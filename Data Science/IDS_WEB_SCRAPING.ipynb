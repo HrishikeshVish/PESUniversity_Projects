{
 "cells": [
  {
   "cell_type": "code",
   "execution_count": 25,
   "metadata": {},
   "outputs": [
    {
     "name": "stdout",
     "output_type": "stream",
     "text": [
      "https://pythonprogramming.net/\n",
      "https://pythonprogramming.net/parsememcparseface/#\n",
      "https://pythonprogramming.net/\n",
      "https://pythonprogramming.net/+=1/\n",
      "https://pythonprogramming.net/support/\n",
      "https://goo.gl/7zgAVQ\n",
      "https://pythonprogramming.net/login/\n",
      "https://pythonprogramming.net/register/\n",
      "https://pythonprogramming.net/\n",
      "https://pythonprogramming.net/+=1/\n",
      "https://pythonprogramming.net/support/\n",
      "https://goo.gl/7zgAVQ\n",
      "https://pythonprogramming.net/login/\n",
      "https://pythonprogramming.net/register/\n",
      "https://www.crummy.com/software/BeautifulSoup/bs4/doc/\n",
      "https://pythonprogramming.net/sitemap.xml\n",
      "https://pythonprogramming.net/parsememcparseface/#\n",
      "https://pythonprogramming.net/parsememcparseface/#\n",
      "https://pythonprogramming.net/parsememcparseface/#\n",
      "https://pythonprogramming.net/support-donate/\n",
      "https://pythonprogramming.net/consulting/\n",
      "https://www.facebook.com/pythonprogramming.net/\n",
      "https://twitter.com/sentdex\n",
      "https://plus.google.com/+sentdex\n",
      "https://pythonprogramming.net/about/tos/\n",
      "https://pythonprogramming.net/about/privacy-policy/\n",
      "https://xkcd.com/353/\n"
     ]
    }
   ],
   "source": [
    "from bs4 import BeautifulSoup\n",
    "\n",
    "url=r'Python Programming Tutorials.html'  \n",
    "page = open(url,'rb').read() \n",
    "print(page)"
   ]
  },
  {
   "cell_type": "code",
   "execution_count": 26,
   "metadata": {},
   "outputs": [
    {
     "name": "stdout",
     "output_type": "stream",
     "text": [
      "<title>Python Programming Tutorials</title>\n",
      "Python Programming Tutorials\n",
      "<p class=\"introduction\">Oh, hello! This is a <span style=\"font-size:115%\">wonderful</span> page meant to let you practice web scraping. This page was originally created to help people work with the <a href=\"https://www.crummy.com/software/BeautifulSoup/bs4/doc/\" target=\"blank\"><strong>Beautiful Soup 4</strong></a> library.</p>\n",
      "[<p class=\"introduction\">Oh, hello! This is a <span style=\"font-size:115%\">wonderful</span> page meant to let you practice web scraping. This page was originally created to help people work with the <a href=\"https://www.crummy.com/software/BeautifulSoup/bs4/doc/\" target=\"blank\"><strong>Beautiful Soup 4</strong></a> library.</p>, <p>The following table gives some general information for the following <code>programming languages</code>:</p>, <p>I think it's clear that, on a scale of 1-10, python is:</p>, <p>Javascript (dynamic data) test:</p>, <p class=\"jstest\" id=\"yesnojs\">Look at you shinin!</p>, <p>Whᶐt hαppéns now¿</p>, <p><a href=\"https://pythonprogramming.net/sitemap.xml\" target=\"blank\"><strong>sitemap</strong></a></p>, <p>\n",
      "<a class=\"btn btn-flat white modal-close\" href=\"https://pythonprogramming.net/parsememcparseface/#\">Cancel</a>  \n",
      "\t\t\t\t\t\t<a class=\"waves-effect waves-blue blue btn btn-flat modal-action modal-close\" href=\"https://pythonprogramming.net/parsememcparseface/#\">Login</a>\n",
      "</p>, <p>\n",
      "<a class=\"btn btn-flat white modal-close\" href=\"https://pythonprogramming.net/parsememcparseface/#\">Cancel</a>  \n",
      "\t\t\t\t\t\t\t\t<button class=\"btn\" type=\"submit\" value=\"Register\">Sign Up</button>\n",
      "</p>, <p class=\"grey-text text-lighten-4\">Contact: Harrison@pythonprogramming.net.</p>, <p class=\"grey-text right\" style=\"padding-right:10px\">Programming is a superpower.</p>]\n"
     ]
    }
   ],
   "source": [
    "soup= BeautifulSoup(page, 'lxml') #lxml is the parser i.e a tool that is required to process an html code ----> python understandable\n",
    "print(soup.title) #prints the tag with the contents of the tag\n",
    "print(soup.title.text) #used to print only the content/text of the tag\n",
    "print(soup.p) #ONLY the first p tag encountered is printed\n",
    "print(soup.findAll('p')) #to find all the p tags in the website --->This is returned in form of a list\n"
   ]
  },
  {
   "cell_type": "code",
   "execution_count": 27,
   "metadata": {},
   "outputs": [
    {
     "name": "stdout",
     "output_type": "stream",
     "text": [
      "Oh, hello! This is a wonderful page meant to let you practice web scraping. This page was originally created to help people work with the Beautiful Soup 4 library.\n",
      "The following table gives some general information for the following programming languages:\n",
      "I think it's clear that, on a scale of 1-10, python is:\n",
      "Javascript (dynamic data) test:\n",
      "Look at you shinin!\n",
      "Whᶐt hαppéns now¿\n",
      "sitemap\n",
      "\n",
      "Cancel  \n",
      "\t\t\t\t\t\tLogin\n",
      "\n",
      "\n",
      "Cancel  \n",
      "\t\t\t\t\t\t\t\tSign Up\n",
      "\n",
      "Contact: Harrison@pythonprogramming.net.\n",
      "Programming is a superpower.\n"
     ]
    }
   ],
   "source": [
    "p_list=soup.findAll('p')\n",
    "for i in p_list:\n",
    "    print(i.text) #i.type is an object of bs4 module"
   ]
  },
  {
   "cell_type": "code",
   "execution_count": 28,
   "metadata": {},
   "outputs": [
    {
     "name": "stdout",
     "output_type": "stream",
     "text": [
      "<pre>Beautiful is better than ugly.\n",
      "Explicit is better than implicit.\n",
      "Simple is better than complex.\n",
      "Complex is better than complicated.\n",
      "Flat is better than nested.\n",
      "Sparse is better than dense.\n",
      "Readability counts.\n",
      "Special cases aren't special enough to break the rules.\n",
      "Although practicality beats purity.\n",
      "Errors should never pass silently.\n",
      "Unless explicitly silenced.\n",
      "In the face of ambiguity, refuse the temptation to guess.\n",
      "There should be one-- and preferably only one --obvious way to do it.\n",
      "Although that way may not be obvious at first unless you're Dutch.\n",
      "Now is better than never.\n",
      "Although never is often better than *right* now.\n",
      "If the implementation is hard to explain, it's a bad idea.\n",
      "If the implementation is easy to explain, it may be a good idea.\n",
      "Namespaces are one honking great idea -- let's do more of those!</pre>\n"
     ]
    }
   ],
   "source": [
    "print(soup.pre) #Some text on the website is not put in <p></p> as the scrapers/bots target these tags first...example of something put in pre\n"
   ]
  },
  {
   "cell_type": "code",
   "execution_count": 29,
   "metadata": {},
   "outputs": [
    {
     "name": "stdout",
     "output_type": "stream",
     "text": [
      "https://pythonprogramming.net/\n",
      "https://pythonprogramming.net/parsememcparseface/#\n",
      "https://pythonprogramming.net/\n",
      "https://pythonprogramming.net/+=1/\n",
      "https://pythonprogramming.net/support/\n",
      "https://goo.gl/7zgAVQ\n",
      "https://pythonprogramming.net/login/\n",
      "https://pythonprogramming.net/register/\n",
      "https://pythonprogramming.net/\n",
      "https://pythonprogramming.net/+=1/\n",
      "https://pythonprogramming.net/support/\n",
      "https://goo.gl/7zgAVQ\n",
      "https://pythonprogramming.net/login/\n",
      "https://pythonprogramming.net/register/\n",
      "https://www.crummy.com/software/BeautifulSoup/bs4/doc/\n",
      "https://pythonprogramming.net/sitemap.xml\n",
      "https://pythonprogramming.net/parsememcparseface/#\n",
      "https://pythonprogramming.net/parsememcparseface/#\n",
      "https://pythonprogramming.net/parsememcparseface/#\n",
      "https://pythonprogramming.net/support-donate/\n",
      "https://pythonprogramming.net/consulting/\n",
      "https://www.facebook.com/pythonprogramming.net/\n",
      "https://twitter.com/sentdex\n",
      "https://plus.google.com/+sentdex\n",
      "https://pythonprogramming.net/about/tos/\n",
      "https://pythonprogramming.net/about/privacy-policy/\n",
      "https://xkcd.com/353/\n"
     ]
    }
   ],
   "source": [
    "\n",
    "for i in soup.findAll('a'):\n",
    "    print(i.get('href'))   #extracts all the URLs in the page\n"
   ]
  },
  {
   "cell_type": "code",
   "execution_count": 34,
   "metadata": {},
   "outputs": [
    {
     "name": "stdout",
     "output_type": "stream",
     "text": [
      "<table style=\"width:100%\">\n",
      "<tbody><tr>\n",
      "<th>Program Name</th>\n",
      "<th>Internet Points</th>\n",
      "<th>Kittens?</th>\n",
      "</tr>\n",
      "<tr>\n",
      "<td>Python</td>\n",
      "<td>932914021</td>\n",
      "<td>Definitely</td>\n",
      "</tr>\n",
      "<tr>\n",
      "<td>Pascal</td>\n",
      "<td>532</td>\n",
      "<td>Unlikely</td>\n",
      "</tr>\n",
      "<tr>\n",
      "<td>Lisp</td>\n",
      "<td>1522</td>\n",
      "<td>Uncertain</td>\n",
      "</tr>\n",
      "<tr>\n",
      "<td>D#</td>\n",
      "<td>12</td>\n",
      "<td>Possibly</td>\n",
      "</tr>\n",
      "<tr>\n",
      "<td>Cobol</td>\n",
      "<td>3</td>\n",
      "<td>No.</td>\n",
      "</tr>\n",
      "<tr>\n",
      "<td>Fortran</td>\n",
      "<td>52124</td>\n",
      "<td>Yes.</td>\n",
      "</tr>\n",
      "<tr>\n",
      "<td>Haskell</td>\n",
      "<td>24</td>\n",
      "<td>lol.</td>\n",
      "</tr>\n",
      "</tbody></table>\n"
     ]
    }
   ],
   "source": [
    "print(soup.table)"
   ]
  },
  {
   "cell_type": "code",
   "execution_count": 49,
   "metadata": {},
   "outputs": [
    {
     "name": "stdout",
     "output_type": "stream",
     "text": [
      "\n",
      "Program Name\n",
      "Internet Points\n",
      "Kittens?\n",
      "\n",
      "\n",
      "Python\n",
      "932914021\n",
      "Definitely\n",
      "\n",
      "\n",
      "Pascal\n",
      "532\n",
      "Unlikely\n",
      "\n",
      "\n",
      "Lisp\n",
      "1522\n",
      "Uncertain\n",
      "\n",
      "\n",
      "D#\n",
      "12\n",
      "Possibly\n",
      "\n",
      "\n",
      "Cobol\n",
      "3\n",
      "No.\n",
      "\n",
      "\n",
      "Fortran\n",
      "52124\n",
      "Yes.\n",
      "\n",
      "\n",
      "Haskell\n",
      "24\n",
      "lol.\n",
      "\n"
     ]
    }
   ],
   "source": [
    "for i in soup.findAll('tr'):\n",
    "    string= i.text\n",
    "    print(string)"
   ]
  },
  {
   "cell_type": "code",
   "execution_count": null,
   "metadata": {},
   "outputs": [],
   "source": []
  }
 ],
 "metadata": {
  "kernelspec": {
   "display_name": "Python 3",
   "language": "python",
   "name": "python3"
  },
  "language_info": {
   "codemirror_mode": {
    "name": "ipython",
    "version": 3
   },
   "file_extension": ".py",
   "mimetype": "text/x-python",
   "name": "python",
   "nbconvert_exporter": "python",
   "pygments_lexer": "ipython3",
   "version": "3.6.5"
  }
 },
 "nbformat": 4,
 "nbformat_minor": 2
}
