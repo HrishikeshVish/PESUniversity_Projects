{
 "cells": [
  {
   "cell_type": "code",
   "execution_count": 26,
   "metadata": {},
   "outputs": [],
   "source": [
    "import pandas as pd\n",
    "import csv\n",
    "data = list(csv.reader(open('cleaned_dataset.csv')))"
   ]
  },
  {
   "cell_type": "raw",
   "metadata": {},
   "source": []
  },
  {
   "cell_type": "code",
   "execution_count": 27,
   "metadata": {},
   "outputs": [
    {
     "name": "stdout",
     "output_type": "stream",
     "text": [
      "3741\n"
     ]
    }
   ],
   "source": [
    "print(len(data))"
   ]
  },
  {
   "cell_type": "code",
   "execution_count": 28,
   "metadata": {},
   "outputs": [
    {
     "name": "stdout",
     "output_type": "stream",
     "text": [
      "2618 1122\n"
     ]
    }
   ],
   "source": [
    "test_dataset=[]\n",
    "validation_dataset=[]\n",
    "import random\n",
    "td_size=int(0.7*3740)\n",
    "vd_size=3740-td_size\n",
    "temp_data = list(data)\n",
    "header=temp_data[0]\n",
    "del(temp_data[0])\n",
    "count=0\n",
    "while count!=td_size:\n",
    "    index=random.randrange(1,len(temp_data))\n",
    "    test_dataset.append(temp_data[index])\n",
    "    del(temp_data[index])\n",
    "    count+=1\n",
    "validation_dataset=temp_data\n",
    "print(len(test_dataset),len(validation_dataset))"
   ]
  },
  {
   "cell_type": "code",
   "execution_count": 29,
   "metadata": {},
   "outputs": [
    {
     "name": "stdout",
     "output_type": "stream",
     "text": [
      "['Hot', 'Neptunian', 'rocky-iron', 'metals-rich', 'non-habitable', '37.1', '2.55', '2.23', '5.69', '3.81', '70.65758000000001', '159.991', '444.5796', '738.6', '872.5', '1169.9', '82.7', '-24.87', '4.85', '22.95', '0.1775', '0.43', '0.16', '0.0', 'Cyg', 'F', '1.42', '1.89', '6144.0', '4.552381', '0.13', '2.62', '11.9', '584.1', '19.4258', '44.5292', '-32.4', '6.2773', '2', '0', '1.5659999999999998', '3.658', '-2.32', '-0.25', '0.69', '0.29', '0.24', '0', '0', '0', '1', 'Primary Transit']\n"
     ]
    }
   ],
   "source": [
    "print(test_dataset[0])"
   ]
  },
  {
   "cell_type": "code",
   "execution_count": 30,
   "metadata": {},
   "outputs": [
    {
     "name": "stdout",
     "output_type": "stream",
     "text": [
      "non-habitable 2581\n",
      "hypopsychroplanet 2\n",
      "psychroplanet 14\n",
      "mesoplanet 19\n",
      "thermoplanet 2\n"
     ]
    }
   ],
   "source": [
    "data_by_class={}\n",
    "for row in test_dataset:\n",
    "    if row[4] not in data_by_class:\n",
    "        data_by_class[row[4]]=[]\n",
    "    data_by_class[row[4]].append(row)\n",
    "for i in data_by_class.keys():\n",
    "    print(i,len(data_by_class[i]))"
   ]
  },
  {
   "cell_type": "code",
   "execution_count": 31,
   "metadata": {},
   "outputs": [],
   "source": [
    "#for i in test_dataset[0]:\n",
    " #   print(type(i))"
   ]
  },
  {
   "cell_type": "code",
   "execution_count": 32,
   "metadata": {},
   "outputs": [],
   "source": [
    "test_df1=[]\n",
    "test_df1.extend(test_dataset)"
   ]
  },
  {
   "cell_type": "code",
   "execution_count": 33,
   "metadata": {},
   "outputs": [],
   "source": [
    "test_dataframe=pd.DataFrame(test_df1,columns=header)\n",
    "test_dataframe.to_csv('test_dataset.csv')"
   ]
  },
  {
   "cell_type": "code",
   "execution_count": 34,
   "metadata": {},
   "outputs": [],
   "source": [
    "test_df=pd.read_csv('test_dataset.csv')"
   ]
  },
  {
   "cell_type": "code",
   "execution_count": 35,
   "metadata": {},
   "outputs": [],
   "source": [
    "import statistics\n",
    "num_column_stats={}\n",
    "for i in test_df.columns:\n",
    "    if test_df[i].dtype == 'float64':\n",
    "        num_column_stats[i]=(statistics.mean(test_df[i]),statistics.stdev(test_df[i]))\n",
    "\n",
    "                    \n",
    "            "
   ]
  },
  {
   "cell_type": "code",
   "execution_count": 36,
   "metadata": {},
   "outputs": [
    {
     "data": {
      "text/plain": [
       "{'P. Mass (EU)': (485.4473223834989, 1707.8390495837486),\n",
       " 'P. Radius (EU)': (5.222257448433919, 4.745153260375832),\n",
       " 'P. Density (EU)': (1.4467914438502674, 13.549440249858916),\n",
       " 'P. Gravity (EU)': (5.840710466004584, 26.20075102750392),\n",
       " 'P. Esc Vel (EU)': (4.087937356760886, 5.4860197789984575),\n",
       " 'P. SFlux Min (EU)': (465.1695373588527, 4183.856447414017),\n",
       " 'P. SFlux Mean (EU)': (478.54131007651966, 4189.778330014169),\n",
       " 'P. SFlux Max (EU)': (505.79189707768694, 4201.944409883849),\n",
       " 'P. Teq Min (K)': (763.8827349121467, 469.5254722935153),\n",
       " 'P. Teq Mean (K)': (775.2755156608098, 469.9695377247409),\n",
       " 'P. Teq Max (K)': (797.8327731092437, 473.12327298075405),\n",
       " 'P. Surf Press (EU)': (3709.258708938121, 37213.29069822474),\n",
       " 'P. Mag': (-23.72283040488923, 3.7783942283542142),\n",
       " 'P. Appar Size (deg)': (9.979526355996944, 9.118959577304787),\n",
       " 'P. Period (days)': (816.5241207032437, 16183.592761606134),\n",
       " 'P. Sem Major Axis (AU)': (8.848852024446142, 157.80632387229983),\n",
       " 'P. Eccentricity': (0.061149732620320855, 0.14059027169592545),\n",
       " 'P. Mean Distance (AU)': (8.818976317799848, 157.80460106805688),\n",
       " 'P. Omega (deg)': (40.20435446906035, 91.78052218798173),\n",
       " 'S. Mass (SU)': (0.9812547792391875, 0.33720987973564315),\n",
       " 'S. Radius (SU)': (1.5447592346735695, 3.3354615775293666),\n",
       " 'S. Teff (K)': (5454.701581225791, 1210.2580928223135),\n",
       " 'S. Luminosity (SU)': (5.0765456233766235, 31.397900164587753),\n",
       " 'S. [Fe/H]': (-0.06795429038721998, 1.5148000610547396),\n",
       " 'S. Age (Gyrs)': (4.185536155464696, 1.8059432960496447),\n",
       " 'S. Appar Mag': (12.25075986828879, 2.917464061681154),\n",
       " 'S. Distance (pc)': (534.0349563898119, 522.0638012300572),\n",
       " 'S. RA (hrs)': (16.604647402597404, 5.558717830378117),\n",
       " 'S. DEC (deg)': (25.558954927425514, 31.822029740487988),\n",
       " 'S. Mag from Planet': (-30.55007639419404, 3.7460790855732324),\n",
       " 'S. Size from Planet (deg)': (7.0763846461267645, 7.167077000409079),\n",
       " 'S. Hab Zone Min (AU)': (0.9903008751826089, 1.455188525000185),\n",
       " 'S. Hab Zone Max (AU)': (2.366183773605136, 3.603726063403049),\n",
       " 'P. HZD': (105.75883880825057, 2077.4211855771705),\n",
       " 'P. HZC': (3.5885790679908327, 5.029935685972368),\n",
       " 'P. HZA': (4.1269022154316275, 24.644535676284175),\n",
       " 'P. HZI': (0.2193048128342246, 0.10857420833624307),\n",
       " 'P. ESI': (0.26646294881589, 0.13464348388109032)}"
      ]
     },
     "execution_count": 36,
     "metadata": {},
     "output_type": "execute_result"
    }
   ],
   "source": [
    "num_column_stats"
   ]
  },
  {
   "cell_type": "code",
   "execution_count": 37,
   "metadata": {},
   "outputs": [],
   "source": [
    "import math\n",
    "def num_probability(x, mean, stdev):\n",
    "    exponent = math.exp(-(math.pow(x-mean,2)/(2*math.pow(stdev,2))))\n",
    "    return (1 / (math.sqrt(2*math.pi) * stdev)) * exponent\n"
   ]
  },
  {
   "cell_type": "code",
   "execution_count": 38,
   "metadata": {},
   "outputs": [],
   "source": [
    "attr_stats_by_class={}\n",
    "for class_name in test_df['P. Habitable Class'].value_counts().keys():\n",
    "    attr_stats_by_class[class_name]={}\n",
    "    frame=test_df.loc[test_df['P. Habitable Class']==class_name]\n",
    "    for col in frame.columns:\n",
    "        if frame[col].dtype=='float64':\n",
    "            attr_stats_by_class[class_name][col]=(frame[col].mean(),frame[col].std())\n",
    "                \n",
    "            "
   ]
  },
  {
   "cell_type": "code",
   "execution_count": 39,
   "metadata": {},
   "outputs": [
    {
     "data": {
      "text/plain": [
       "{'non-habitable': {'P. Mass (EU)': (492.31219682293766, 1719.0714580249187),\n",
       "  'P. Radius (EU)': (5.273297171638903, 4.75931328677308),\n",
       "  'P. Density (EU)': (1.4515071677644327, 13.646135419042702),\n",
       "  'P. Gravity (EU)': (5.897334366524613, 26.38342310527783),\n",
       "  'P. Esc Vel (EU)': (4.121573033707865, 5.517464689001035),\n",
       "  'P. SFlux Min (EU)': (471.82695470332277, 4213.377893949591),\n",
       "  'P. SFlux Mean (EU)': (485.3882589119839, 4219.321145221091),\n",
       "  'P. SFlux Max (EU)': (513.0236526914307, 4231.529973625315),\n",
       "  'P. Teq Min (K)': (771.4888415342887, 468.516964647239),\n",
       "  'P. Teq Mean (K)': (782.9238667183256, 468.91761299720497),\n",
       "  'P. Teq Max (K)': (805.6012398295231, 471.9615736953318),\n",
       "  'P. Surf Press (EU)': (3762.308446338619, 37476.52261933087),\n",
       "  'P. Mag': (-23.80557923285551, 3.7394241596992224),\n",
       "  'P. Appar Size (deg)': (10.077318868655585, 9.146409751147177),\n",
       "  'P. Period (days)': (826.7188523832193, 16298.98806472586),\n",
       "  'P. Sem Major Axis (AU)': (8.971157458349454, 158.93051518817379),\n",
       "  'P. Eccentricity': (0.060864006199147655, 0.14085037041965967),\n",
       "  'P. Mean Distance (AU)': (8.941007361487827, 158.92879622597505),\n",
       "  'P. Omega (deg)': (39.90647036032543, 91.46306761304368),\n",
       "  'S. Mass (SU)': (0.9884250337265377, 0.3320308112590185),\n",
       "  'S. Radius (SU)': (1.5603330787971366, 3.35658951726239),\n",
       "  'S. Teff (K)': (5476.331166078701, 1197.2662542041835),\n",
       "  'S. Luminosity (SU)': (5.144335754358766, 31.616639816359786),\n",
       "  'S. [Fe/H]': (-0.0670128604194857, 1.5254440347722278),\n",
       "  'S. Age (Gyrs)': (4.193712392043924, 1.807519093584485),\n",
       "  'S. Appar Mag': (12.254824959404056, 2.9123852596478614),\n",
       "  'S. Distance (pc)': (539.0268466796905, 523.1576251046428),\n",
       "  'S. RA (hrs)': (16.634306392870926, 5.534374568555985),\n",
       "  'S. DEC (deg)': (25.848636071290215, 31.64395679213472),\n",
       "  'S. Mag from Planet': (-30.608097636574964, 3.7403809841702533),\n",
       "  'S. Size from Planet (deg)': (7.160563426408291, 7.183224708719517),\n",
       "  'S. Hab Zone Min (AU)': (1.0010204150438065, 1.4622103964519442),\n",
       "  'S. Hab Zone Max (AU)': (2.3916393333197408, 3.6218680552454847),\n",
       "  'P. HZD': (107.2809918636185, 2092.2252012534213),\n",
       "  'P. HZC': (3.6410848508330287, 5.046208576068298),\n",
       "  'P. HZA': (4.179907012785739, 24.816457604850928),\n",
       "  'P. HZI': (0.2150561797752806, 0.10236754886028981),\n",
       "  'P. ESI': (0.259631925610227, 0.12234426951306669)},\n",
       " 'mesoplanet': {'P. Mass (EU)': (8.467368421052633, 7.618621078285947),\n",
       "  'P. Radius (EU)': (1.758421052631579, 0.4076526729390915),\n",
       "  'P. Density (EU)': (1.1921052631578948, 0.24049899393110016),\n",
       "  'P. Gravity (EU)': (2.188421052631579, 0.9657194391166201),\n",
       "  'P. Esc Vel (EU)': (1.953157894736842, 0.6526531547084387),\n",
       "  'P. SFlux Min (EU)': (1.0106126473684212, 0.24205060282632218),\n",
       "  'P. SFlux Mean (EU)': (1.1671262315789472, 0.24970766962792504),\n",
       "  'P. SFlux Max (EU)': (1.4201211000000002, 0.5374937549001446),\n",
       "  'P. Teq Min (K)': (254.07368421052624, 15.784656477635462),\n",
       "  'P. Teq Mean (K)': (262.9263157894737, 14.72004838855509),\n",
       "  'P. Teq Max (K)': (275.0684210526316, 24.00456097012443),\n",
       "  'P. Surf Press (EU)': (11.821052631578949, 13.356088039515845),\n",
       "  'P. Mag': (-18.5, 0.47549973711874927),\n",
       "  'P. Appar Size (deg)': (3.342631578947368, 0.7740000151109899),\n",
       "  'P. Period (days)': (77.37157894736842, 74.02716245204698),\n",
       "  'P. Sem Major Axis (AU)': (0.26817894736842113, 0.21596396196008508),\n",
       "  'P. Eccentricity': (0.0768421052631579, 0.08863487096440766),\n",
       "  'P. Mean Distance (AU)': (0.26684210526315794, 0.21618029079602744),\n",
       "  'P. Omega (deg)': (59.752631578947366, 113.79838589179965),\n",
       "  'S. Mass (SU)': (0.5221052631578947, 0.23434492497096907),\n",
       "  'S. Radius (SU)': (0.48947368421052634, 0.2217975474318497),\n",
       "  'S. Teff (K)': (4031.4210526315787, 827.2697609062849),\n",
       "  'S. Luminosity (SU)': (0.14238399999999998, 0.2203176889725885),\n",
       "  'S. [Fe/H]': (-0.11606756287514267, 0.1932178099985639),\n",
       "  'S. Age (Gyrs)': (4.111111914022054, 1.204094650153389),\n",
       "  'S. Appar Mag': (11.003918209651552, 2.909191848142338),\n",
       "  'S. Distance (pc)': (216.41052631578953, 282.61825179861904),\n",
       "  'S. RA (hrs)': (13.580742105263155, 6.623570701862636),\n",
       "  'S. DEC (deg)': (14.517963157894739, 33.9005037843132),\n",
       "  'S. Mag from Planet': (-26.889473684210525, 0.2705852439971657),\n",
       "  'S. Size from Planet (deg)': (1.302526315789474, 0.47105210356074817),\n",
       "  'S. Hab Zone Min (AU)': (0.22905263157894734, 0.1875424318459427),\n",
       "  'S. Hab Zone Max (AU)': (0.5641052631578947, 0.4400417776551123),\n",
       "  'P. HZD': (-0.7678947368421052, 0.16923287529871772),\n",
       "  'P. HZC': (-0.1431578947368421, 0.017654911680117475),\n",
       "  'P. HZA': (0.6031578947368421, 0.7972595606310054),\n",
       "  'P. HZI': (0.47263157894736835, 0.08157083528805284),\n",
       "  'P. ESI': (0.7868421052631579, 0.06532420272753663)},\n",
       " 'psychroplanet': {'P. Mass (EU)': (4.364285714285715, 3.1537809159696026),\n",
       "  'P. Radius (EU)': (1.592857142857143, 0.6707565025508778),\n",
       "  'P. Density (EU)': (1.0314285714285714, 0.4486536636316591),\n",
       "  'P. Gravity (EU)': (1.5564285714285713, 0.7661954675573945),\n",
       "  'P. Esc Vel (EU)': (1.5142857142857145, 0.47495286058746894),\n",
       "  'P. SFlux Min (EU)': (0.46109962857142867, 0.1386129987837162),\n",
       "  'P. SFlux Mean (EU)': (0.518207142857143, 0.13174412927556972),\n",
       "  'P. SFlux Max (EU)': (0.6186511357142858, 0.24538429934716566),\n",
       "  'P. Teq Min (K)': (208.17142857142858, 16.46966575586433),\n",
       "  'P. Teq Mean (K)': (214.25714285714284, 14.231477261863757),\n",
       "  'P. Teq Max (K)': (223.20714285714288, 20.80556376348605),\n",
       "  'P. Surf Press (EU)': (4.835714285714286, 4.6314322660668195),\n",
       "  'P. Mag': (-17.310000000000002, 0.7910363212510926),\n",
       "  'P. Appar Size (deg)': (3.025, 1.2756220202166229),\n",
       "  'P. Period (days)': (107.91642857142858, 169.8571831142107),\n",
       "  'P. Sem Major Axis (AU)': (0.29240714285714287, 0.34022059690800543),\n",
       "  'P. Eccentricity': (0.06714285714285714, 0.10336109753440355),\n",
       "  'P. Mean Distance (AU)': (0.29000000000000004, 0.3384580419399813),\n",
       "  'P. Omega (deg)': (78.64999999999999, 122.54256874183011),\n",
       "  'S. Mass (SU)': (0.3692857142857143, 0.22441254200910657),\n",
       "  'S. Radius (SU)': (0.38357142857142856, 0.23539188741190858),\n",
       "  'S. Teff (K)': (3641.9285714285716, 904.1127792385292),\n",
       "  'S. Luminosity (SU)': (0.09506064285714286, 0.2048572387401706),\n",
       "  'S. [Fe/H]': (-0.15991827117274812, 0.19446312406908023),\n",
       "  'S. Age (Gyrs)': (3.281835998500849, 1.8482461596755897),\n",
       "  'S. Appar Mag': (12.893690641076372, 3.197682607717582),\n",
       "  'S. Distance (pc)': (137.95285714285714, 268.35634321747443),\n",
       "  'S. RA (hrs)': (14.699707142857145, 7.543973730220217),\n",
       "  'S. DEC (deg)': (-11.248378571428573, 41.40025140992371),\n",
       "  'S. Mag from Planet': (-26.0, 0.3137858162210947),\n",
       "  'S. Size from Planet (deg)': (1.1076357142857143, 0.484795112324852),\n",
       "  'S. Hab Zone Min (AU)': (0.1622857142857143, 0.18210370188922095),\n",
       "  'S. Hab Zone Max (AU)': (0.4021428571428572, 0.4297265422322679),\n",
       "  'P. HZD': (-0.022857142857142854, 0.3187820227396426),\n",
       "  'P. HZC': (0.0457142857142857, 0.8445090907714399),\n",
       "  'P. HZA': (0.26928571428571424, 0.6331540617685919),\n",
       "  'P. HZI': (0.5764285714285714, 0.14542283932657277),\n",
       "  'P. ESI': (0.7121428571428572, 0.09861959326535562)},\n",
       " 'thermoplanet': {'P. Mass (EU)': (9.26, 10.620743853421944),\n",
       "  'P. Radius (EU)': (1.74, 0.7212489168102785),\n",
       "  'P. Density (EU)': (1.205, 0.3747665940288702),\n",
       "  'P. Gravity (EU)': (2.23, 1.5273506473629428),\n",
       "  'P. Esc Vel (EU)': (1.96, 1.0889444430272832),\n",
       "  'P. SFlux Min (EU)': (1.1469418, 0.32264179338963506),\n",
       "  'P. SFlux Mean (EU)': (2.0364865, 0.9353643856874709),\n",
       "  'P. SFlux Max (EU)': (6.460222, 7.191471126138796),\n",
       "  'P. Teq Min (K)': (262.65, 18.73832970144349),\n",
       "  'P. Teq Mean (K)': (290.4, 20.506096654409877),\n",
       "  'P. Teq Max (K)': (372.75, 136.9665835158343),\n",
       "  'P. Surf Press (EU)': (13.15, 16.334166645409248),\n",
       "  'P. Mag': (-19.105, 0.26162950903902077),\n",
       "  'P. Appar Size (deg)': (3.31, 1.3717871555019026),\n",
       "  'P. Period (days)': (387.805, 522.3468503303145),\n",
       "  'P. Sem Major Axis (AU)': (1.0355, 1.3357247096613882),\n",
       "  'P. Eccentricity': (0.28, 0.39597979746446665),\n",
       "  'P. Mean Distance (AU)': (0.865, 1.0960155108391487),\n",
       "  'P. Omega (deg)': (10.0, 14.142135623730951),\n",
       "  'S. Mass (SU)': (1.045, 1.053589103967956),\n",
       "  'S. Radius (SU)': (0.805, 0.7000357133746821),\n",
       "  'S. Teff (K)': (6054.5, 3768.172036943112),\n",
       "  'S. Luminosity (SU)': (4.387097999999999, 6.188189841225138),\n",
       "  'S. [Fe/H]': (-0.14, 0.15556349186104046),\n",
       "  'S. Age (Gyrs)': (2.602570397901189, 2.2663767913695088),\n",
       "  'S. Appar Mag': (12.7, 4.101219330881975),\n",
       "  'S. Distance (pc)': (323.9922741253365, 302.630776311112),\n",
       "  'S. RA (hrs)': (15.486899999999999, 5.283360447669645),\n",
       "  'S. DEC (deg)': (20.36835, 28.797701481281457),\n",
       "  'S. Mag from Planet': (-27.55, 0.6363961030678917),\n",
       "  'S. Size from Planet (deg)': (1.1189, 0.985141167549098),\n",
       "  'S. Hab Zone Min (AU)': (1.07, 1.3901719318127523),\n",
       "  'S. Hab Zone Max (AU)': (2.4795, 3.1841018356830233),\n",
       "  'P. HZD': (-0.97, 0.028284271247461926),\n",
       "  'P. HZC': (-0.14, 0.02828427124746191),\n",
       "  'P. HZA': (0.485, 1.3647160876900366),\n",
       "  'P. HZI': (0.42, 0.07071067811865474),\n",
       "  'P. ESI': (0.69, 0.02828427124746185)},\n",
       " 'hypopsychroplanet': {'P. Mass (EU)': (1.405, 0.0919238815542511),\n",
       "  'P. Radius (EU)': (1.15, 0.028284271247461926),\n",
       "  'P. Density (EU)': (0.9299999999999999, 0.014142135623730885),\n",
       "  'P. Gravity (EU)': (1.065, 0.007071067811865481),\n",
       "  'P. Esc Vel (EU)': (1.105, 0.021213203435596444),\n",
       "  'P. SFlux Min (EU)': (0.26389874999999996, 0.012145195362982076),\n",
       "  'P. SFlux Mean (EU)': (0.27512854999999997, 0.028026530825719435),\n",
       "  'P. SFlux Max (EU)': (0.28754599999999997, 0.04558731560445294),\n",
       "  'P. Teq Min (K)': (182.6, 2.1213203435596424),\n",
       "  'P. Teq Mean (K)': (184.39999999999998, 4.66690475583121),\n",
       "  'P. Teq Max (K)': (186.35, 7.424621202458749),\n",
       "  'P. Surf Press (EU)': (1.3, 0.0),\n",
       "  'P. Mag': (-16.06, 0.16970562748477155),\n",
       "  'P. Appar Size (deg)': (2.18, 0.05656854249492385),\n",
       "  'P. Period (days)': (71.145, 83.14868639972612),\n",
       "  'P. Sem Major Axis (AU)': (0.23855000000000004, 0.2735796136410753),\n",
       "  'P. Eccentricity': (0.02, 0.0282842712474619),\n",
       "  'P. Mean Distance (AU)': (0.24, 0.26870057685088805),\n",
       "  'P. Omega (deg)': (0.0, 0.0),\n",
       "  'S. Mass (SU)': (0.31, 0.3252691193458119),\n",
       "  'S. Radius (SU)': (0.34, 0.311126983722081),\n",
       "  'S. Teff (K)': (3152.5, 852.0636713297897),\n",
       "  'S. Luminosity (SU)': (0.0277595, 0.0385238845458243),\n",
       "  'S. [Fe/H]': (-0.11, 0.21213203435596428),\n",
       "  'S. Age (Gyrs)': (2.25, 2.4748737341529163),\n",
       "  'S. Appar Mag': (13.9, 6.929646455628166),\n",
       "  'S. Distance (pc)': (92.05, 113.06637431172895),\n",
       "  'S. RA (hrs)': (21.509149999999998, 2.2612567755564608),\n",
       "  'S. DEC (deg)': (19.456799999999998, 34.64568669372856),\n",
       "  'S. Mag from Planet': (-25.299999999999997, 0.141421356237309),\n",
       "  'S. Size from Planet (deg)': (1.0340500000000001, 0.49278271580890504),\n",
       "  'S. Hab Zone Min (AU)': (0.105, 0.12162236636408617),\n",
       "  'S. Hab Zone Max (AU)': (0.2705, 0.31041987694089435),\n",
       "  'P. HZD': (0.625, 0.021213203435596444),\n",
       "  'P. HZC': (-0.19, 0.028284271247461888),\n",
       "  'P. HZA': (-0.155, 0.007071067811865481),\n",
       "  'P. HZI': (0.595, 0.007071067811865481),\n",
       "  'P. ESI': (0.595, 0.021213203435596444)}}"
      ]
     },
     "execution_count": 39,
     "metadata": {},
     "output_type": "execute_result"
    }
   ],
   "source": [
    "attr_stats_by_class"
   ]
  },
  {
   "cell_type": "code",
   "execution_count": 40,
   "metadata": {},
   "outputs": [
    {
     "data": {
      "text/plain": [
       "{'non-habitable': 0.9858670741023682,\n",
       " 'mesoplanet': 0.007257448433919022,\n",
       " 'psychroplanet': 0.0053475935828877,\n",
       " 'thermoplanet': 0.0007639419404125286,\n",
       " 'hypopsychroplanet': 0.0007639419404125286}"
      ]
     },
     "execution_count": 40,
     "metadata": {},
     "output_type": "execute_result"
    }
   ],
   "source": [
    "class_prob={}\n",
    "for class_name,count in test_df['P. Habitable Class'].value_counts().items():\n",
    "    class_prob[class_name]=count/len(test_df)\n",
    "class_prob"
   ]
  },
  {
   "cell_type": "code",
   "execution_count": 41,
   "metadata": {},
   "outputs": [],
   "source": [
    "class_names=['non-habitable','mesoplanet','psychroplanet','hypopsychroplanet','thermoplanet']\n",
    "def disc_probability(x,attribute,df,class_name):\n",
    "    frame=df.loc[df['P. Habitable Class']==class_name]\n",
    "    v_counts=frame[attribute].value_counts()\n",
    "    #print(v_counts)\n",
    "    if x in v_counts.keys():\n",
    "        x_count=v_counts[x]\n",
    "    else:\n",
    "        x_count=0\n",
    "    return x_count/len(frame)\n"
   ]
  },
  {
   "cell_type": "code",
   "execution_count": 42,
   "metadata": {},
   "outputs": [],
   "source": [
    "def predict_class(instance,test_df,class_names,attr_stats_by_class,class_prob):\n",
    "    class_wise_output={}\n",
    "    for class_name in class_names:\n",
    "        class_wise_output[class_name]=class_prob[class_name]\n",
    "        for i in range(1,len(instance)):\n",
    "            #print(instance[i],test_df.columns[i],type(instance[i]))\n",
    "            if i!=5:\n",
    "                if type(instance[i])==float:\n",
    "                    mean,std_dev=attr_stats_by_class[class_name][test_df.columns[i]]\n",
    "                    if std_dev!=0.0:\n",
    "                        class_wise_output[class_name]*=num_probability(instance[i],mean,std_dev)\n",
    "                        \n",
    "                else:\n",
    "                    class_wise_output[class_name]*=disc_probability(instance[i],test_df.columns[i],test_df,class_name)\n",
    "    #print(class_wise_output)\n",
    "    max_class=''\n",
    "    max_probability=0.0\n",
    "    for i,j in class_wise_output.items():\n",
    "        if j > max_probability:\n",
    "            max_probability=j\n",
    "            max_class=i\n",
    "    if max_probability==0.0:\n",
    "        max_class = 'non-habitable'\n",
    "    return max_class,max_probability\n",
    "        "
   ]
  },
  {
   "cell_type": "code",
   "execution_count": 43,
   "metadata": {},
   "outputs": [],
   "source": [
    "validation_dataframe=pd.DataFrame(validation_dataset,columns=header)\n",
    "validation_dataframe.to_csv('validation_dataset.csv')"
   ]
  },
  {
   "cell_type": "code",
   "execution_count": 48,
   "metadata": {},
   "outputs": [],
   "source": [
    "validation_df = pd.read_csv('validation_dataset.csv')"
   ]
  },
  {
   "cell_type": "code",
   "execution_count": 55,
   "metadata": {},
   "outputs": [
    {
     "name": "stdout",
     "output_type": "stream",
     "text": [
      "Accuracy :  0.9937611408199644\n",
      "Precision :  1.0\n",
      "Recall :  0.6111111111111112\n",
      "F-score :  0.7586206896551725\n"
     ]
    }
   ],
   "source": [
    "#habitableclass = 0;\n",
    "true_positive = 0\n",
    "true_positive = 0\n",
    "false_positive = 0\n",
    "true_negative = 0\n",
    "false_negative = 0\n",
    "for row in list(validation_df.itertuples(index=False)):\n",
    "    predicted_class, prob = predict_class(row,test_df,class_names,attr_stats_by_class,class_prob)\n",
    "    #print(predicted_class,'->',row[5])\n",
    "    if predicted_class!='non-habitable' and row[5]!='non-habitable':\n",
    "        true_positive+=1\n",
    "    if predicted_class=='non-habitable' and row[5]=='non-habitable':\n",
    "        true_negative+=1\n",
    "    if predicted_class!='non-habitable' and row[5]=='non-habitable':\n",
    "        false_positive+=1\n",
    "    if predicted_class=='non-habitable' and row[5]!='non-habitable':\n",
    "        false_negative+=1\n",
    "# Performance metrics calculated based on the assumption that all non non-habitable classes are habitable i.e binary classification\n",
    "accuracy = (true_positive+true_negative)/len(validation_df)\n",
    "precision = true_positive/(true_positive+false_positive)\n",
    "recall = true_positive/(true_positive+false_negative)\n",
    "f_score = (2*recall*precision)/(recall+precision)\n",
    "print('Accuracy : ',accuracy)\n",
    "print('Precision : ',precision)\n",
    "print('Recall : ',recall)\n",
    "print('F-score : ',f_score)"
   ]
  },
  {
   "cell_type": "code",
   "execution_count": 25,
   "metadata": {},
   "outputs": [],
   "source": [
    "\n",
    "#print(habitableclass/16.0*100);"
   ]
  },
  {
   "cell_type": "code",
   "execution_count": null,
   "metadata": {},
   "outputs": [],
   "source": []
  },
  {
   "cell_type": "code",
   "execution_count": null,
   "metadata": {},
   "outputs": [],
   "source": []
  },
  {
   "cell_type": "code",
   "execution_count": null,
   "metadata": {},
   "outputs": [],
   "source": []
  }
 ],
 "metadata": {
  "kernelspec": {
   "display_name": "Python 3",
   "language": "python",
   "name": "python3"
  },
  "language_info": {
   "codemirror_mode": {
    "name": "ipython",
    "version": 3
   },
   "file_extension": ".py",
   "mimetype": "text/x-python",
   "name": "python",
   "nbconvert_exporter": "python",
   "pygments_lexer": "ipython3",
   "version": "3.7.0"
  }
 },
 "nbformat": 4,
 "nbformat_minor": 2
}
