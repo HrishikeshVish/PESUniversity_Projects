{
 "cells": [
  {
   "cell_type": "code",
   "execution_count": 2,
   "metadata": {},
   "outputs": [],
   "source": [
    "import pandas as pd\n",
    "import numpy as np\n",
    "import math"
   ]
  },
  {
   "cell_type": "code",
   "execution_count": 3,
   "metadata": {},
   "outputs": [
    {
     "name": "stdout",
     "output_type": "stream",
     "text": [
      "['P. Name', 'P. Zone Class', 'P. Mass Class', 'P. Composition Class', 'P. Atmosphere Class', 'P. Habitable Class', 'P. Mass (EU)', 'P. Radius (EU)', 'P. Density (EU)', 'P. Gravity (EU)', 'P. Esc Vel (EU)', 'P. SFlux Min (EU)', 'P. SFlux Mean (EU)', 'P. SFlux Max (EU)', 'P. Teq Min (K)', 'P. Teq Mean (K)', 'P. Teq Max (K)', 'P. Surf Press (EU)', 'P. Mag', 'P. Appar Size (deg)', 'P. Period (days)', 'P. Sem Major Axis (AU)', 'P. Eccentricity', 'P. Mean Distance (AU)', 'P. Omega (deg)', 'S. Constellation', 'S. Type', 'S. Mass (SU)', 'S. Radius (SU)', 'S. Teff (K)', 'S. Luminosity (SU)', 'S. [Fe/H]', 'S. Age (Gyrs)', 'S. Appar Mag', 'S. Distance (pc)', 'S. RA (hrs)', 'S. DEC (deg)', 'S. Mag from Planet', 'S. Size from Planet (deg)', 'S. No. Planets', 'S. No. Planets HZ', 'S. Hab Zone Min (AU)', 'S. Hab Zone Max (AU)', 'P. HZD', 'P. HZC', 'P. HZA', 'P. HZI', 'P. ESI', 'S. HabCat', 'P. Habitable', 'P. Hab Moon', 'P. Confirmed', 'P. Disc. Method']\n"
     ]
    }
   ],
   "source": [
    "data = pd.read_csv(\"cleaninput.csv\", low_memory = False);\n",
    "cols = list(data);\n",
    "print(cols);"
   ]
  },
  {
   "cell_type": "code",
   "execution_count": null,
   "metadata": {},
   "outputs": [],
   "source": []
  },
  {
   "cell_type": "code",
   "execution_count": 4,
   "metadata": {},
   "outputs": [],
   "source": [
    "data = data.drop('P. Name', 1);"
   ]
  },
  {
   "cell_type": "code",
   "execution_count": 5,
   "metadata": {},
   "outputs": [],
   "source": [
    "data = data.drop('P. Disc. Method',1);\n",
    "data = data.drop('P. Confirmed', 1);\n",
    "data = data.drop('P. Hab Moon', 1);\n",
    "data = data.drop('P. Habitable', 1);\n",
    "data = data.drop('S. HabCat', 1);\n",
    "data = data.drop('S. Type', 1);\n",
    "data = data.drop('S. Constellation', 1);\n",
    "data.to_csv('knn.csv');"
   ]
  },
  {
   "cell_type": "code",
   "execution_count": 6,
   "metadata": {},
   "outputs": [
    {
     "name": "stdout",
     "output_type": "stream",
     "text": [
      "['P. Zone Class', 'P. Mass Class', 'P. Composition Class', 'P. Atmosphere Class', 'P. Habitable Class', 'P. Mass (EU)', 'P. Radius (EU)', 'P. Density (EU)', 'P. Gravity (EU)', 'P. Esc Vel (EU)', 'P. SFlux Min (EU)', 'P. SFlux Mean (EU)', 'P. SFlux Max (EU)', 'P. Teq Min (K)', 'P. Teq Mean (K)', 'P. Teq Max (K)', 'P. Surf Press (EU)', 'P. Mag', 'P. Appar Size (deg)', 'P. Period (days)', 'P. Sem Major Axis (AU)', 'P. Eccentricity', 'P. Mean Distance (AU)', 'P. Omega (deg)', 'S. Mass (SU)', 'S. Radius (SU)', 'S. Teff (K)', 'S. Luminosity (SU)', 'S. [Fe/H]', 'S. Age (Gyrs)', 'S. Appar Mag', 'S. Distance (pc)', 'S. RA (hrs)', 'S. DEC (deg)', 'S. Mag from Planet', 'S. Size from Planet (deg)', 'S. No. Planets', 'S. No. Planets HZ', 'S. Hab Zone Min (AU)', 'S. Hab Zone Max (AU)', 'P. HZD', 'P. HZC', 'P. HZA', 'P. HZI', 'P. ESI']\n"
     ]
    }
   ],
   "source": [
    "cols = list(data);\n",
    "print(cols);"
   ]
  },
  {
   "cell_type": "code",
   "execution_count": 7,
   "metadata": {},
   "outputs": [
    {
     "name": "stdout",
     "output_type": "stream",
     "text": [
      "Hot     3220\n",
      "Cold     341\n",
      "Warm     229\n",
      "Name: P. Zone Class, dtype: int64\n"
     ]
    }
   ],
   "source": [
    "print(data['P. Zone Class'].value_counts())"
   ]
  },
  {
   "cell_type": "code",
   "execution_count": 8,
   "metadata": {},
   "outputs": [
    {
     "name": "stdout",
     "output_type": "stream",
     "text": [
      "1    3220\n",
      "2     341\n",
      "3     229\n",
      "Name: P. Zone Class, dtype: int64\n"
     ]
    }
   ],
   "source": [
    "zoneclass = {'Hot':1, 'Cold':2, 'Warm':3};\n",
    "data['P. Zone Class'] = [zoneclass[item] for item in data['P. Zone Class']];\n",
    "print(data['P. Zone Class'].value_counts())"
   ]
  },
  {
   "cell_type": "code",
   "execution_count": 9,
   "metadata": {},
   "outputs": [
    {
     "name": "stdout",
     "output_type": "stream",
     "text": [
      "Jovian         1205\n",
      "Superterran     990\n",
      "Neptunian       808\n",
      "Terran          710\n",
      "Subterran        72\n",
      "Mercurian         5\n",
      "Name: P. Mass Class, dtype: int64\n"
     ]
    }
   ],
   "source": [
    "print(data['P. Mass Class'].value_counts())"
   ]
  },
  {
   "cell_type": "code",
   "execution_count": 10,
   "metadata": {},
   "outputs": [
    {
     "name": "stdout",
     "output_type": "stream",
     "text": [
      "1    1205\n",
      "2     990\n",
      "3     808\n",
      "4     710\n",
      "5      72\n",
      "6       5\n",
      "Name: P. Mass Class, dtype: int64\n"
     ]
    }
   ],
   "source": [
    "massclass = {'Jovian':1, 'Superterran':2, 'Neptunian':3, 'Terran':4, 'Subterran':5, 'Mercurian':6};\n",
    "data['P. Mass Class'] = [massclass[item] for item in data['P. Mass Class']];\n",
    "print(data['P. Mass Class'].value_counts())"
   ]
  },
  {
   "cell_type": "code",
   "execution_count": 11,
   "metadata": {},
   "outputs": [
    {
     "name": "stdout",
     "output_type": "stream",
     "text": [
      "gas            2041\n",
      "rocky-iron     1663\n",
      "rocky-water      45\n",
      "water-gas        24\n",
      "iron             17\n",
      "Name: P. Composition Class, dtype: int64\n"
     ]
    }
   ],
   "source": [
    "print(data['P. Composition Class'].value_counts())"
   ]
  },
  {
   "cell_type": "code",
   "execution_count": 12,
   "metadata": {},
   "outputs": [
    {
     "name": "stdout",
     "output_type": "stream",
     "text": [
      "1    2041\n",
      "2    1663\n",
      "3      45\n",
      "4      24\n",
      "5      17\n",
      "Name: P. Composition Class, dtype: int64\n"
     ]
    }
   ],
   "source": [
    "compclass = {'gas':1, 'rocky-iron':2, 'rocky-water':3, 'water-gas':4, 'iron':5};\n",
    "data['P. Composition Class'] = [compclass[item] for item in data['P. Composition Class']];\n",
    "print(data['P. Composition Class'].value_counts())"
   ]
  },
  {
   "cell_type": "code",
   "execution_count": 13,
   "metadata": {},
   "outputs": [
    {
     "name": "stdout",
     "output_type": "stream",
     "text": [
      "metals-rich      2372\n",
      "hydrogen-rich    1041\n",
      "no-atmosphere     377\n",
      "Name: P. Atmosphere Class, dtype: int64\n"
     ]
    }
   ],
   "source": [
    "print(data['P. Atmosphere Class'].value_counts())"
   ]
  },
  {
   "cell_type": "code",
   "execution_count": 14,
   "metadata": {},
   "outputs": [
    {
     "name": "stdout",
     "output_type": "stream",
     "text": [
      "1    2372\n",
      "2    1041\n",
      "3     377\n",
      "Name: P. Atmosphere Class, dtype: int64\n"
     ]
    }
   ],
   "source": [
    "atclass = {'metals-rich':1, 'hydrogen-rich':2, 'no-atmosphere':3};\n",
    "data['P. Atmosphere Class'] = [atclass[item] for item in data['P. Atmosphere Class']];\n",
    "print(data['P. Atmosphere Class'].value_counts())"
   ]
  },
  {
   "cell_type": "code",
   "execution_count": 15,
   "metadata": {},
   "outputs": [
    {
     "name": "stdout",
     "output_type": "stream",
     "text": [
      "non-habitable        3735\n",
      "mesoplanet             31\n",
      "psychroplanet          18\n",
      "thermoplanet            3\n",
      "hypopsychroplanet       3\n",
      "Name: P. Habitable Class, dtype: int64\n"
     ]
    }
   ],
   "source": [
    "print(data['P. Habitable Class'].value_counts())"
   ]
  },
  {
   "cell_type": "code",
   "execution_count": 16,
   "metadata": {},
   "outputs": [
    {
     "name": "stdout",
     "output_type": "stream",
     "text": [
      "0    3735\n",
      "1      55\n",
      "Name: P. Habitable Class, dtype: int64\n"
     ]
    }
   ],
   "source": [
    "habclass = {'non-habitable':0, 'mesoplanet':1, 'psychroplanet':1, 'hypopsychroplanet':1, 'thermoplanet':1};\n",
    "data['P. Habitable Class'] = [habclass[item] for item in data['P. Habitable Class']];\n",
    "print(data['P. Habitable Class'].value_counts())"
   ]
  },
  {
   "cell_type": "code",
   "execution_count": 17,
   "metadata": {},
   "outputs": [],
   "source": [
    "data.to_csv('knn.csv');"
   ]
  },
  {
   "cell_type": "code",
   "execution_count": 18,
   "metadata": {},
   "outputs": [
    {
     "name": "stdout",
     "output_type": "stream",
     "text": [
      "['P. Zone Class', 'P. Mass Class', 'P. Composition Class', 'P. Atmosphere Class', 'P. Habitable Class', 'P. Mass (EU)', 'P. Radius (EU)', 'P. Density (EU)', 'P. Gravity (EU)', 'P. Esc Vel (EU)', 'P. SFlux Min (EU)', 'P. SFlux Mean (EU)', 'P. SFlux Max (EU)', 'P. Teq Min (K)', 'P. Teq Mean (K)', 'P. Teq Max (K)', 'P. Surf Press (EU)', 'P. Mag', 'P. Appar Size (deg)', 'P. Period (days)', 'P. Sem Major Axis (AU)', 'P. Eccentricity', 'P. Mean Distance (AU)', 'P. Omega (deg)', 'S. Mass (SU)', 'S. Radius (SU)', 'S. Teff (K)', 'S. Luminosity (SU)', 'S. [Fe/H]', 'S. Age (Gyrs)', 'S. Appar Mag', 'S. Distance (pc)', 'S. RA (hrs)', 'S. DEC (deg)', 'S. Mag from Planet', 'S. Size from Planet (deg)', 'S. No. Planets', 'S. No. Planets HZ', 'S. Hab Zone Min (AU)', 'S. Hab Zone Max (AU)', 'P. HZD', 'P. HZC', 'P. HZA', 'P. HZI', 'P. ESI']\n"
     ]
    }
   ],
   "source": [
    "print(cols)"
   ]
  },
  {
   "cell_type": "code",
   "execution_count": 19,
   "metadata": {},
   "outputs": [],
   "source": [
    "cols.remove('P. Habitable Class');"
   ]
  },
  {
   "cell_type": "code",
   "execution_count": 20,
   "metadata": {},
   "outputs": [
    {
     "name": "stdout",
     "output_type": "stream",
     "text": [
      "['P. Zone Class', 'P. Mass Class', 'P. Composition Class', 'P. Atmosphere Class', 'P. Mass (EU)', 'P. Radius (EU)', 'P. Density (EU)', 'P. Gravity (EU)', 'P. Esc Vel (EU)', 'P. SFlux Min (EU)', 'P. SFlux Mean (EU)', 'P. SFlux Max (EU)', 'P. Teq Min (K)', 'P. Teq Mean (K)', 'P. Teq Max (K)', 'P. Surf Press (EU)', 'P. Mag', 'P. Appar Size (deg)', 'P. Period (days)', 'P. Sem Major Axis (AU)', 'P. Eccentricity', 'P. Mean Distance (AU)', 'P. Omega (deg)', 'S. Mass (SU)', 'S. Radius (SU)', 'S. Teff (K)', 'S. Luminosity (SU)', 'S. [Fe/H]', 'S. Age (Gyrs)', 'S. Appar Mag', 'S. Distance (pc)', 'S. RA (hrs)', 'S. DEC (deg)', 'S. Mag from Planet', 'S. Size from Planet (deg)', 'S. No. Planets', 'S. No. Planets HZ', 'S. Hab Zone Min (AU)', 'S. Hab Zone Max (AU)', 'P. HZD', 'P. HZC', 'P. HZA', 'P. HZI', 'P. ESI']\n"
     ]
    }
   ],
   "source": [
    "print(cols);"
   ]
  },
  {
   "cell_type": "code",
   "execution_count": 21,
   "metadata": {},
   "outputs": [],
   "source": [
    "def euclid(rows, remval):\n",
    "    value = 0;\n",
    "    loopcounter = 0;\n",
    "    fintuple = [];\n",
    "    allrows = data.itertuples(index = False);\n",
    "    allrows = list(allrows);\n",
    "    for k in allrows:\n",
    "        loopcounter = loopcounter + 1;\n",
    "        value = 0;\n",
    "        l = list(k);\n",
    "       \n",
    "        if(loopcounter == remval):\n",
    "            loopcounter = loopcounter + 1;\n",
    "            \n",
    "        else:\n",
    "            for j in range(len(rows)):\n",
    "                value+=(rows[j]-l[j])**2;\n",
    "            fintuple.append(math.sqrt(value));\n",
    "        \n",
    "            loopcounter = loopcounter + 1;\n",
    "            #print(loopcounter);\n",
    "    return fintuple "
   ]
  },
  {
   "cell_type": "code",
   "execution_count": 22,
   "metadata": {},
   "outputs": [],
   "source": [
    "def mode(a, b, c):\n",
    "    if(a==b and b==c):\n",
    "        return a\n",
    "    if(a==b):\n",
    "        return a\n",
    "    if(b==c):\n",
    "        return b\n",
    "    if(c ==a):\n",
    "        return c"
   ]
  },
  {
   "cell_type": "code",
   "execution_count": 23,
   "metadata": {},
   "outputs": [
    {
     "name": "stdout",
     "output_type": "stream",
     "text": [
      "[True, True, True, True, True, True, True, True, True, True, True, True, True, True, True, True, True, True, True, True, True, True, True, True, True, True, True, True, True, True, True, True, True, True, True, True, True, True, True, True, True, True, True, True, True, True, True, True, True, True, True, True, True, True, True, True, True, True, True, True, True, True, True, True, True, True, True, True, True, True, True, True, True, True, True, True, True, True, True, True, True, True, True, True, True, True, True, True, True, True, True, True, True, True, True, True, True, True, True, True, True, True, True, True, True, True, True, True, True, True, True, True, True, True, True, True, True, True, True, True, True, True, True, True, True, True, True, True, True, True, True, True, True, True, True, True, True, True, True, True, True, True, True, True, True, True, True, True, True, True, True, True, True, True, True, True, True, True, True, True, True, True, True, True, True, True, True, True, True, True, True, True, True, True, True, True, True, True, True, True, True, True, True, True, True, True, True, True, True, True, True, True, True, True, True, True, True, False, True, True, True, False, True, True, True, True, True, True, True, False, True, True, True, True, True, True, True, True, True, True, True, True, True, False, False, True, True, False, True, True, True, True, True, True, False, True, True, True, True, True, True, True, True, True, True, True, False, True, False, True, True, True, True, True, False, False, False, True, True, True, True, True, True, True, True, True, True, True, True, True, True, True, True, True, True, True, True, True, True, True, True, True, True, True, True, True, True, True, True, True, True, True, True, True, True, True, True, True, True, True, True, True, True, True, True, True, True, True, True, True, True, True, True, True, True, True, True, True, True, True, True, True, True, True, True, True, True, True, True, True, True, True, True, True, True, True, True, True, True, True, True, True, True, True, True, True, True, True, True, True, True, True, True, True, True, True, True, True, True, True, True, True, True, True, True, True, True, True, True, True, True, True, True, True, True, True, True, True, True, True, True, True, True, True, True, True, True, True, True, True, True, True, True, True, True, True, True, True, True, True, True, True, True, True, True, True, True, True, True, True, True, True, True, True, True, True, True, True, True, True, True, True, True, True, True, True, True, True, True, True, True, True, True, True, True, True, True, True, True, True, True, True, True, True, True, True, True, True, True, True, True, True, True, True, True, True, True, True, True, True, True, True, True, True, True, True, True, True, True, True, True, True, True, True, True, True, True, True, True, True, True, True, True, True, True, True, True, True, True, True, True, True, True, True, True, True, True, True, True, True, True, True, True, True, True, True, True, True, True, True, True, True, True, True, True, True, True, True, True, True, True, True, True, True, True, True, True, True, True, True, True, True, True, True, True, True, True, True, True, False, True, True, True, True, True, True, True, True, True, True, True, True, True, True, True, True, True, True, True, True, True, True, True, True, True, True, True, True, True, True, True, True, True, True, True, True, True, True, True, True, True, True, True, True, True, True, True, True, True, True, True, True, True, True, True, True, True, True, True, True, True, True, True, True, True, True, True, True, True, True, True, True, True, True, True, True, True, True, True, True, True, True, True, True, True, True, True, True, True, True, True, True, True, True, True, True, True, True, True, True, True, True, True, True, True, True, True, True, True, True, True, True, True, True, True, True, True, True, True, True, True, True, True, True, True, True, True, True, True, True, True, True, True, True, True, True, True, True, True, True, True, True, True, True, True, True, True, True, True, True, True, True, True, True, True, True, True, True, True, True, True, True, True, True, True, True, True, True, True, True, True, True, True, True, True, True, True, True, True, True, True, True, True, True, True, True, True, True, True, True, True, True, True, True, True, True, True, True, True, True, True, True, True, True, True, True, True, True, True, True, True, True, True, True, True, True, True, True, True, True, True, True, True, True, True, True, True, True, True, True, True, True, True, True, True, True, True, True, True, True, True, True, True, True, True, True, True, True, True, True, True, True, True, True, True, True, True, True, True, True, True, True, True, True, True, True, True, True, True, True, True, True, True, True, True, True, True, True, True, True, True, True, True, True, True, True, True, True, True, True, True, True, True, True, True, True, True, True, True, True, True, True, True, True, True, True, True, True, True, True, True, True, True, True, True, True, True, True, True, True, True, True, True, True, True, True, True, True, True, True, True, True, True, True, True, True, True, True, True, True, True, True, True, True, True, True, True, True, True, True, True, True, True, True, True, True, True, True, True, True, True, True, True, True, True, True, True, True, True, True, True, True, True, True, False, True, True, True, True, True, True, True, True, True, True, True, True, True, True, True, True, True, True, True, False, True, True, True, True, True, True, True, True, True, True, True, True, True, True, True, True, True, True, True, True, True, True, True, True, True, True, True, True, True, True, True, True, True, True, True, True, True, True, True, True, True, True, True, True, True, True, True, True, True, True, True, True, True, True, True, True, True, True, True, True, False, True, True, True, True, True, True, True, True, True, True, True, True, True, True, True, True, True, True, True, True, True, True, True, True, True, True, True, True, True, True, True, True, True, True, True, True, True, True, True, True, True, True, True, True, True, True, True, True, True, True, True, True, True, True, True, True, True, True, True, True, True, True, True, True, True, False, True, True, True, True, True, True, True, True, True, True, True, True, True, True, True, True, True, True, True, True, True, True, True, True, True, True, True, True, True, True, True, True, True, True, True, True, True, True, True, True, True, True, True, True, True, True, True, False, True, True, True, True, True, True, True, True, True, True, True, True, True, True, True, True, True, True, True, True, True, True, True, True, True, True, True, True, True, True, True, True, True, True, True, True, True, True, True, True, True, True, True, True, True, True, True, True, True, True, True, True, True, False, True, True, True, True, True, True, True, True, True, True, True, True, True, True, True, True, True, True, True, True, True, True, True, True, True, True, True, True, True, True, True, True, True, True, True, True, True, True, True, True, True, True, True, True, True, True, True, True, True, True, True, True, True, True, True, True, True, True, True, True, True, True, True, True, True, True, True, True, True, True, True, True, True, True, True, True, True, True, True, True, True, True, True, True, True, True, True, True, True, False, True, True, True, False, True, True, True, True, True, True, True, True, True, True, True, True, True, True, True, True, True, True, True, True, True, True, True, True, True, True, True, True, True, True, True, True, True, True, True, True, True, True, True, True, True, True, True, True, True, True, True, True, True, True, True, True, True, True, True, True, True, True, True, True, True, True, True, True, True, True, True, True, True, True, True, True, True, True, True, True, True, True, True, True, True, True, True, True, True, True, True, True, True, True, True, True, True, True, True, True, True, True, True, True, True, True, True, True, True, True, True, True, True, True, True, True, True, True, True, True, True, True, True, True, True, True, True, True, True, True, True, True, True, True, True, True, True, True, True, True, True, True, True, True, True, True, True, True, True, True, True, True, True, True, True, True, True, True, True, True, True, True, True, True, True, True, True, True, True, True, True, True, True, True, True, True, True, True, True, True, True, True, True, True, True, True, True, True, True, True, True, True, True, True, True, True, True, True, True, True, True, True, False, True, True, True, True, True, True, True, True, True, True, True, True, True, True, True, True, True, True, True, True, True, True, True, True, True, True, True, True, True, True, True, True, True, True, True, True, True, True, True, True, True, True, True, True, True, True, True, True, True, True, True, True, True, True, True, True, True, True, True, True, False, True, True, True, True, True, True, True, True, True, True, True, True, True, True, True, True, True, True, True, True, True, True, True, True, True, True, True, True, True, False, True, True, True, True, True, True, True, True, True, True, True, True, True, True, True, True, True, True, True, True, True, True, True, True, True, True, True, True, True, True, True, True, True, True, True, True, True, True, True, True, True, True, True, True, True, True, True, True, True, True, True, True, True, True, True, True, True, True, True, True, True, True, True, True, True, True, True, True, True, True, True, True, True, True, True, True, True, True, True, True, True, True, True, True, True, True, True, True, True, True, True, True, True, True, True, True, True, True, True, True, True, True, True, True, True, True, True, True, True, True, True, True, True, True, True, True, True, True, True, True, True, True, True, True, True, True, True, True, True, True, True, True, True, True, True, True, True, True, True, True, True, True, True, True, True, True, True, True, True, True, True, True, True, True, True, True, True, True, True, True, True, True, True, True, True, True, True, True, True, True, True, True, True, True, True, True, True, True, True, True, True, True, True, True, True, True, True, True, True, True, True, True, True, True, True, True, True, True, True, True, True, True, True, True, True, True, True, True, True, True, True, True, True, True, True, True, True, True, True, True, True, True, True, True, True, True, True, True, True, True, True, True, True, True, True, True, True, True, True, True, True, True, True, True, True, True, True, True, True, True, True, True, True, True, True, True, True, True, True, True, True, True, True, True, True, True, True, True, True, True, True, True, True, True, True, True, True, True, True, True, True, True, True, False, True, True, True, True, False, True, True, True, True, True, True, True, True, True, True, True, True, True, True, True, True, True, True, True, True, True, True, True, True, True, True, True, True, True, True, True, True, True, True, True, True, True, True, True, True, True, True, True, True, True, True, True, True, True, True, True, True, True, True, True, True, True, True, True, True, True, True, True, True, True, True, True, True, True, True, True, True, True, True, True, True, True, True, True, True, True, True, True, True, True, True, True, True, True, True, True, True, True, True, True, True, True, True, True, True, True, True, True, True, True, True, True, True, True, True, True, True, True, True, True, True, True, True, True, True, True, True, True, True, True, True, True, True, True, True, True, True, True, True, True, True, True, True, True, True, True, True, True, True, True, True, True, True, True, True, True, True, True, True, True, True, True, True, True, True, True, True, True, True, True, True, True, True, True, True, True, True, True, True, True, True, True, True, True, True, True, True, True, True, True, True, True, True, True, True, True, True, True, True, True, True, True, True, True, True, True, True, True, True, True, True, True, True, True, True, True, True, True, True, True, True, True, True, True, True, True, True, True, True, True, True, True, True, True, True, True, True, True, True, True, True, True, True, True, True, True, True, True, True, True, True, True, True, True, True, True, True, True, True, True, True, True, True, True, True, True, True, True, True, True, True, True, True, True, True, True, True, True, True, True, True, True, True, False, True, False, True, False, False, True, True, True, True, True, True, True, True, True, True, True, True, True, True, True, True, True, True, False, True, True, True, True, True, True, True, True, True, True, True, True, True, True, True, True, True, True, True, True, True, True, True, True, True, True, True, True, True, True, True, True, True, True, True, True, True, True, True, True, True, True, True, True, True, True, True, True, True, True, True, True, True, True, True, True, True, True, True, True, True, True, True, True, True, True, True, True, True, True, True, True, True, True, True, True, True, True, True, True, True, True, True, True, True, True, True, True, True, True, True, True, True, True, True, True, True, True, True, True, True, True, True, True, True, True, True, True, True, True, True, True, True, True, True, True, True, True, True, True, True, True, True, True, True, True, True, True, True, True, True, True, True, True, True, True, True, True, True, True, True, True, True, True, True, True, True, True, True, True, True, True, True, True, True, True, True, True, True, True, True, True, True, True, True, True, True, True, True, True, True, True, True, True, True, True, True, True, True, True, True, True, True, True, True, True, True, True, True, True, True, True, True, True, True, True, True, True, True, True, True, True, True, True, True, True, True, True, True, True, True, True, True, True, True, True, True, True, True, True, True, True, True, True, True, True, True, True, True, True, True, True, True, True, True, True, True, True, True, True, True, True, True, True, True, True, True, True, True, True, True, True, True, True, True, True, True, True, True, True, True, True, True, False, True, True, True, True, True, True, True, True, True, True, True, True, True, True, True, True, True, True, True, True, True, True, True, True, True, True, True, True, True, True, True, True, True, True, True, True, True, True, True, True, True, True, True, True, True, True, True, True, True, True, True, True, True, True, True, True, True, True, True, True, True, True, True, True, True, True, True, True, True, True, True, True, True, True, True, True, True, True, True, True, True, True, True, True, True, True, True, True, True, True, True, True, True, True, True, True, True, True, True, True, True, True, True, True, True, True, True, True, True, True, True, True, True, True, True, True, True, True, True, True, True, True, True, True, True, True, True, True, True, True, True, True, True, True, True, True, True, True, True, True, True, True, True, True, True, True, True, True, True, True, True, True, True, True, True, True, True, True, True, True, True, True, True, True, True, True, True, True, True, True, True, True, True, True, True, True, True, True, True, True, True, True, True, True, True, True, True, True, True, True, True, True, True, True, True, True, True, True, True, True, True, True, True, True, True, True, True, True, True, True, True, True, True, True, True, True, True, True, True, True, True, True, True, True, True, True, True, True, True, True, True, True, True, True, True, True, True, True, True, True, True, True, True, True, True, True, True, True, True, True, True, True, True, True, True, True, True, True, True, True, True, True, True, True, True, True, True, True, True, True, True, True, True, True, True, True, True, True, True, True, True, True, True, True, True, True, True, True, True, True, True, True, True, True, True, True, True, True, True, True, False, True, True, True, True, True, True, True, True, True, True, True, True, True, True, True, True, True, True, True, True, True, True, True, True, True, True, True, True, True, True, True, True, True, True, True, True, True, True, True, True, True, True, True, True, True, True, True, True, True, True, True, True, True, True, True, True, True, True, True, True, True, True, True, True, True, True, True, True, True, True, True, True, True, True, True, True, True, True, True, True, True, True, True, True, True, True, True, True, True, True, True, True, True, True, True, True, True, True, True, True, True, True, True, True, False, True, True, True, True, True, True, True, True, True, True, True, True, True, True, True, True, True, True, True, True, True, True, True, True, True, True, True, True, True, True, True, True, True, True, True, True, True, True, True, True, True, True, True, True, True, True, True, True, True, True, True, True, True, True, True, True, True, True, True, True, True, True, True, True, True, True, True, True, True, True, True, True, True, True, True, True, True, True, True, True, True, True, True, True, True, True, True, True, True, True, True, True, True, True, True, True, True, True, True, True, True, True, True, True, True, True, True, True, True, True, True, True, True, True, True, True, True, True, True, True, True, True, True, True, True, True, True, True, True, True, True, True, True, True, True, True, True, True, True, True, True, True, True, True, True, True, True, True, True, True, True, True, True, True, True, True, True, True, True, True, True, True, True, True, True, True, True, True, True, True, True, True, True, True, True, True, True, True, True, True, True, True, True, True, True, True, True, True, True, True, True, True, True, True, True, True, True, True, True, True, True, True, True, True, True, True, True, True, True, True, True, True, True, True, True, True, True, True, True, True, True, True, True, True, True, True, True, True, True, True, True, True, True, True, True, True, True, True, True, True, True, True, True, True, True, True, True, True, True, True, True, True, True, True, True, True, True, True, True, True, True, True, True, True, True, True, True, True, True, True, True, True, True, True, True, True, True, True, True, True, True, True, True, True, True, True, True, True, True, True, True, True, True, True, True, True, True, True, True, True, True, True, True, True, True, True, True, True, True, True, True, True, True, True, True, True, True, True, True, True, True, True, True, True, True, True, True, True, True, True, True, True, True, True, True, True, True, True, True, True, True, True, True, True, True, True, True, True, True, True, True, True, True, True, True, True, True, True, True, True, True, True, True, True, True, True, True, True, True, True, True, True, True, True, True, True, True, True, True, True, True, True, True, True, True, True, True, True, True, True, True, True, True, True, True, True, True, True, True, True, True, True, True, True, True, True, True, True, True, True, True, True, True, True, True, True, True, True, True, True, True, True, True, True, True, True, True, True, True, True, True, True, True, True, True, True, True, True, True, True, True, True, True, True, True, True, True, True, True, True, True, True, True, True, True, True, True, True, True, True, True, True, True, True, True, True, True, True, True, True, True, True, True, True, True, True, True, True, True, True, True, True, True, True, True, False, True, True, True, True, True, True, True, True, True, True, True, True, True, True, True, True, True, True, True, True, True, True, True, True, True, True, True, True, True, True, True, True, True, True, True, True, True, True, True, True, True, True, True, True, True, True, True, True, True, True, True, True, True, False, True, True, True, True, True, True, True, True, True, True, True, True, True, True, True, True, True, True, True, True, True, True, True, False, True, True, True, True, True, True, True, False, True, True, True, True, True, True, True, True, True, True, True, True, True, False, True, True, False, True, False, True, True, True, True, True, True, True, True, True, True, True, True, True, True, True, True, True, True, True, True, True, True, True, True, True, True, True, True, False, True, True, True, True, True, True, True, True, True, True, True, True, True, True, True, True, True, True, True, True, True, True, True, True, True, True, True, True, True, True, True, True, True, True, True, True, True, True, True, True, True, True, True, True, True, True, True, True, True, True, True, True, True, True, True, True, True, True, True, True, True, True, True, True, True, True, True, True, True, True, True, True, True, True, True, True, True, True, True, True, True, True, True, True, True, True, True, True, True, True, True, True, True, True, True, True, True, True, True, True, True, True, True, True, True, True, True, True, True, True, True, True, True, True, True, True, True, False, True, True, True, True, True, True, True, True, True, True, True, True, True, True, True, True, True, True, True, True, True, True, True, True, True, True, True, True, True, True, True, True, True, True, True, False, True, True, True, True, True, True, True, False, True, True, True, False, True, True, True, True, True, True, True, True, True, True, True, True, True, True, True, True, True, True, True, True, True, True, True, True, True, True, True, True, True, True, True, True, True, True, True, True, True, True, True, True, True, True, True, True, True, True, True, True, True, True, True, True, True, True, True, True, True, True, True, True, True, True, True, True, True, True, True, True, True, True, True, True, True, True, True, True, True, True, True, True, True, True, True, True, True, True, True, True, True, True, True, True, True, True, True, True, True, True, True, True, True, True, True, True, True, True, True, True, True, True, True, True, True, True, True, True, True, True, True, True, True, True, True, True, True, True, True, True, True, True, True, True, True, True, True, True, True, True, True, True, True, True, True, True, True, True, True, True, True, True, True, True, True, True, True, True, True, True, True, True, True, True, True, True, True, True, True, True, True, True, True, True, True, True, True, True, True, True, True, True, True, True, True, True, True, True, True, True, True, True, True, True, True, True]\n"
     ]
    }
   ],
   "source": [
    "outputval = []\n",
    "eucdist = [];\n",
    "i = 0;\n",
    "for row in data.itertuples(index=False):\n",
    " \n",
    "    dist = euclid(list(row), i);\n",
    "    m1 = dist.index(min(dist));\n",
    "    dist[m1] = math.inf;\n",
    "    m2 = dist.index(min(dist));\n",
    "    dist[m2] = math.inf;\n",
    "    m3 = dist.index(min(dist));\n",
    "    dist[m3] = math.inf;\n",
    "  \n",
    "    out = mode(data['P. Habitable Class'][m1], data['P. Habitable Class'][m2], data['P. Habitable Class'][m3])\n",
    "    outputval.append(out);\n",
    "    eucdist.append(out == row[4]);\n",
    "    #print(str(len(dist))+\" \"+str(len(data)));\n",
    "    \n",
    "    i = i + 1;\n",
    "print(eucdist)"
   ]
  },
  {
   "cell_type": "code",
   "execution_count": 24,
   "metadata": {},
   "outputs": [
    {
     "name": "stdout",
     "output_type": "stream",
     "text": [
      "0.9878627968337731\n"
     ]
    }
   ],
   "source": [
    "count = 0;\n",
    "for i in range(len(eucdist)):\n",
    "    if(eucdist[i] == True):\n",
    "        count = count + 1;\n",
    "accuracy = count /len(eucdist);\n",
    "print(accuracy);"
   ]
  },
  {
   "cell_type": "code",
   "execution_count": 25,
   "metadata": {},
   "outputs": [],
   "source": [
    "import random"
   ]
  },
  {
   "cell_type": "code",
   "execution_count": 28,
   "metadata": {},
   "outputs": [
    {
     "name": "stdout",
     "output_type": "stream",
     "text": [
      "[496, 3149, 905, 725, 2149, 3091, 1076, 3069, 1750, 3632, 3662, 125, 3589, 728, 3320, 2798, 442, 2404, 1504, 3058, 2346, 1139, 322, 3715, 980, 2685, 1849, 1763, 3136, 201, 2668, 2411, 3022, 897, 2110, 3380, 135, 1844, 1677, 210, 1731, 2379, 939, 353, 403, 3773, 1102, 3683, 3437, 2958, 2450, 1250, 1855, 3339, 444, 2612, 1156, 2052, 177, 2724, 1756, 2244, 311, 2837, 3649, 3473, 2146, 3496, 3264, 1656, 2145, 73, 2750, 541, 1922, 1788, 783, 3255, 37, 464, 1778, 511, 2754, 291, 780, 703, 644, 1146, 2433, 1921, 1915, 2554, 109, 904, 2999, 3450, 1658, 3283, 1449, 1703]\n"
     ]
    }
   ],
   "source": [
    "testrows = []\n",
    "while(len(testrows)!=100):\n",
    "    a = random.randint(1,len(data)+1)\n",
    "    if(a not in testrows):\n",
    "        testrows.append(a)\n",
    "print(testrows)"
   ]
  },
  {
   "cell_type": "code",
   "execution_count": 33,
   "metadata": {},
   "outputs": [
    {
     "name": "stdout",
     "output_type": "stream",
     "text": [
      "[[2.0, 1.0, 1.0, 2.0, 0.0, 2565.78, 11.65, 1.62, 18.92, 14.84, 0.06115041, 0.08654641, 0.1266103, 126.7, 137.3, 152.0, 4167.5, -19.88, 22.27, 2532.5, 3.58, 0.18, 3.52, 32.0, 1.05, 1.12, 5580.0, 1.091095, 0.33, 11.6, 8.4, 54.7, 4.6983, -58.0206, -24.1, 0.1695, 2.0, 0.0, 0.7929999999999999, 1.879, 4.16, 10.47, 22.63, 0.04, 0.15], [1.0, 3.0, 1.0, 1.0, 0.0, 4.34, 2.82, 0.19, 0.55, 1.24, 5.555006, 5.555006, 5.555007, 391.1, 391.1, 391.1, 0.8, -21.31, 5.37, 86.12, 0.3751, 0.0, 0.38, 0.0, 0.95, 0.92, 5664.0, 0.7815529999999999, -0.06071394910461843, 4.17, 15.8, 1431.0, 19.0908, 42.9639, -28.6, 1.3071, 1.0, 0.0, 0.6679999999999999, 1.579, -1.64, 2.48, -0.52, 0.25, 0.4], [3.0, 1.0, 1.0, 2.0, 0.0, 2464.04, 11.66, 1.56, 18.14, 14.54, 0.2249588, 0.9718142, 8.847733, 175.5, 221.6, 439.4, 3834.4, -22.91, 22.29, 572.38, 1.35, 0.72, 0.93, 319.0, 0.99, 1.15, 5662.0, 1.219453, -0.023, 6.16, 7.7, 42.0, 23.6975, -5.9856, -27.1, 0.6591, 1.0, 1.0, 0.8340000000000001, 1.972, 0.1, 10.33, 15.14, 0.05, 0.39], [1.0, 1.0, 1.0, 2.0, 0.0, 505.52, 10.99, 0.38, 4.18, 6.78, 1.525963, 2.385112, 3.942727, 283.2, 313.3, 359.0, 192.3, -23.38, 21.01, 258.19, 0.81, 0.23, 0.79, 252.7, 1.07, 1.25, 5740.0, 1.5218, 0.25, 9.7, 6.5, 22.2, 15.2244, -25.3092, -27.7, 0.8457, 2.0, 0.0, 0.928, 2.188, -1.18, 7.1, 5.61, 0.1, 0.38], [3.0, 3.0, 1.0, 2.0, 0.0, 33.06, 5.5, 0.2, 1.09, 2.45, 0.4033852000000001, 0.4033853, 0.4033853, 203.0, 203.0, 203.0, 6.6, -19.9, 10.47, 854.08, 1.7672, 0.0, 1.77, 0.0, 1.01, 1.01, 6091.0, 1.259757, -0.04, 4.205140795802378, 12.237222991689752, 608.4120264650286, 19.1585, 47.7712, -25.7, 0.3046, 1.0, 1.0, 0.826, 1.933, 0.7, 3.68, 1.6, 0.2, 0.43], [1.0, 3.0, 1.0, 1.0, 0.0, 7.73, 3.39, 0.2, 0.67, 1.51, 90.40209, 90.40209, 90.40211, 785.6, 785.6, 785.6, 1.5, -24.75, 6.45, 40.53, 0.2649, 0.0, 0.26, 0.0, 1.51, 1.83, 6778.0, 6.341593, -0.06071394910461843, 1.55, 13.9, 1405.0, 20.0229, 45.6232, -31.6, 3.6828, 1.0, 0.0, 1.7819999999999998, 4.12, -2.3, 2.68, -0.69, 0.22, 0.21], [1.0, 2.0, 2.0, 1.0, 0.0, 22.72, 2.41, 1.62, 3.91, 3.07, 179.0692, 179.0693, 179.0693, 932.0, 932.0, 932.0, 36.9, -24.75, 4.58, 6.42, 0.0665, 0.0, 0.07, 0.0, 0.95, 0.93, 5652.0, 0.7918890000000001, -0.06071394910461843, 4.205140795802378, 13.4, 608.4120264650286, 3.7206, 16.6345, -32.4, 7.4581, 2.0, 0.0, 0.6729999999999999, 1.591, -2.32, -0.12, 0.22, 0.3, 0.24], [1.0, 5.0, 2.0, 3.0, 0.0, 0.28, 0.71, 0.8, 0.56, 0.63, 1389.986, 1389.986, 1389.986, 1555.6, 1555.6, 1555.6, 0.2, -24.31, 1.34, 1.34, 0.0233, 0.0, 0.02, 0.0, 0.94, 0.93, 5586.0, 0.755544, -0.06071394910461843, 5.62, 12.3, 267.0, 18.9164, 48.3734, -34.6, 21.3816, 1.0, 0.0, 0.66, 1.5630000000000002, -2.41, -0.18, -1.42, 0.26, 0.28], [1.0, 2.0, 2.0, 1.0, 0.0, 26.25, 2.49, 1.71, 4.25, 3.25, 22.59512, 22.59513, 22.59513, 555.5, 555.5, 555.5, 44.8, -22.56, 4.73, 43.13, 0.236, 0.0, 0.24, 0.0, 1.03, 1.1, 5835.0, 1.258458, -0.311, 4.205140795802378, 12.237222991689752, 608.4120264650286, 19.3674, 41.2448, -30.1, 2.4841, 4.0, 0.0, 0.8390000000000001, 1.974, -2.06, -0.11, 0.94, 0.31, 0.29], [1.0, 1.0, 1.0, 1.0, 0.0, 154.52, 22.3, 0.01, 0.31, 2.63, 1192.191, 1260.348, 1333.484, 1497.0, 1517.8, 1539.5, 2.2, -31.74, 43.41, 3.74, 0.0515, 0.03, 0.05, 277.4, 1.2, 1.38, 6650.0, 3.341447, -0.19, 3.0, 11.6, 608.4120264650286, 15.9975, -28.0617, -34.5, 14.3229, 1.0, 0.0, 1.3019999999999998, 3.016, -2.46, 19.16, -0.42, 0.05, 0.04], [1.0, 3.0, 1.0, 1.0, 0.0, 13.61, 3.71, 0.27, 0.99, 1.92, 130.7253, 132.5642, 134.4364, 861.5, 864.5, 867.5, 3.6, -25.36, 7.05, 9.03, 0.08800000000000001, 0.01, 0.09, 76.0, 1.11, 1.16, 5400.0, 1.026552, 0.18, 4.205140795802378, 11.9, 200.0, 22.0803, -12.0189, -32.1, 7.0294, 4.0, 1.0, 0.777, 1.852, -2.28, 2.37, -0.47, 0.23, 0.19], [1.0, 2.0, 2.0, 1.0, 0.0, 8.68, 1.92, 1.24, 2.37, 2.13, 8.198086, 8.198087, 8.198089, 431.1, 431.1, 431.1, 10.7, -20.89, 3.64, 15.5, 0.1026, 0.0, 0.1, 0.0, 0.64, 0.6, 4043.0, 0.086299, -0.11, 4.205140795802378, 12.8, 65.0, 22.6869, -14.489, -29.0, 3.1169, 2.0, 0.0, 0.238, 0.601, -1.75, -0.14, 0.25, 0.36, 0.4], [1.0, 4.0, 3.0, 1.0, 0.0, 0.86, 1.09, 0.67, 0.73, 0.89, 4.20721, 4.20721, 4.207211, 364.9, 364.9, 364.9, 0.6, -18.92, 2.06, 1.51, 0.0111, 0.0, 0.01, 0.0, 0.08, 0.12, 2550.0, 0.000519, 0.04, 0.5, 18.8, 12.1, 23.1081, -5.0414, -28.3, 5.6144, 7.0, 4.0, 0.019, 0.051, -1.48, 0.13, -0.83, 0.37, 0.56], [1.0, 3.0, 1.0, 1.0, 0.0, 11.38, 3.85, 0.2, 0.77, 1.72, 28.10861, 38.31127, 53.59649, 586.6, 630.8, 689.3, 2.3, -24.11, 7.33, 27.58, 0.1665, 0.16, 0.16, 0.0, 0.81, 0.97, 5940.0, 1.048391, -0.06071394910461843, 4.205140795802378, 5.7, 14.8, 15.3633, -48.3175, -30.7, 3.1527, 3.0, 0.0, 0.7609999999999999, 1.785, -2.16, 2.88, -0.41, 0.22, 0.28], [1.0, 4.0, 2.0, 1.0, 0.0, 1.31, 1.13, 0.91, 1.02, 1.08, 72.64885, 72.64886, 72.64886, 743.8, 743.8, 743.8, 1.2, -22.12, 2.15, 6.31, 0.0615, 0.0, 0.06, 0.0, 0.78, 0.74, 4862.0, 0.274545, -0.06071394910461843, 4.27, 15.1, 543.0, 19.5304, 47.5731, -31.4, 6.4184, 1.0, 0.0, 0.413, 1.004, -2.19, -0.17, -0.97, 0.29, 0.31], [1.0, 3.0, 1.0, 1.0, 0.0, 6.97, 3.28, 0.2, 0.65, 1.46, 11.31817, 11.31817, 11.31817, 467.3, 467.3, 467.3, 1.4, -22.41, 6.24, 77.25, 0.3664, 0.0, 0.37, 0.0, 1.1, 1.16, 5956.0, 1.519234, -0.06071394910461843, 3.89, 13.8, 688.0, 19.7643, 49.1829, -29.4, 1.6874, 1.0, 0.0, 0.915, 2.146, -1.89, 2.64, -0.43, 0.23, 0.3], [3.0, 1.0, 1.0, 2.0, 0.0, 1093.71, 11.62, 0.7, 8.1, 9.7, 0.2618857, 0.3995083, 0.6405649999999999, 182.3, 200.7, 227.9, 762.7, -21.55, 22.22, 1270.0, 2.43, 0.22, 2.37, 4.5, 1.19, 1.38, 6058.0, 2.301257, 0.31, 5.4, 7.5, 53.82, 1.8808, -19.5069, -25.8, 0.3102, 2.0, 1.0, 1.119, 2.619, 0.77, 8.27, 11.41, 0.07, 0.34], [1.0, 4.0, 2.0, 1.0, 0.0, 2.3, 1.33, 0.97, 1.29, 1.31, 362.8238, 362.8238, 362.8239, 1111.9, 1111.9, 1111.9, 2.2, -24.23, 2.53, 2.24, 0.0311, 0.0, 0.03, 0.0, 0.8, 0.76, 5099.0, 0.350314, -0.06071394910461843, 4.9, 15.0, 626.0, 19.3338, 42.1165, -33.2, 13.0627, 1.0, 0.0, 0.461, 1.111, -2.32, -0.16, -0.97, 0.28, 0.29], [1.0, 3.0, 1.0, 1.0, 0.0, 6.39, 3.19, 0.2, 0.63, 1.42, 154.6934, 154.6934, 154.6935, 898.5, 898.5, 898.5, 1.3, -25.21, 6.07, 7.93, 0.08, 0.0, 0.08, 0.0, 1.09, 1.03, 5679.0, 0.990038, 0.234, 4.205140795802378, 12.237222991689752, 608.4120264650286, 18.9681, 41.6296, -32.2, 6.8654, 2.0, 0.0, 0.7509999999999999, 1.774, -2.31, 2.61, -0.82, 0.22, 0.21], [1.0, 2.0, 2.0, 1.0, 0.0, 14.46, 2.17, 1.41, 3.06, 2.58, 28.970370000000006, 28.970370000000006, 28.970370000000006, 591.1, 591.1, 591.1, 20.4, -22.54, 4.13, 9.34, 0.0778, 0.0, 0.08, 0.0, 0.72, 0.69, 4500.0, 0.17516099999999998, -0.06071394910461843, 5.62, 15.9, 624.0, 18.7765, 48.271, -30.4, 4.7303, 1.0, 0.0, 0.335, 0.8270000000000001, -2.04, -0.13, 0.32, 0.33, 0.29], [1.0, 2.0, 2.0, 1.0, 0.0, 10.17, 1.99, 1.28, 2.56, 2.26, 51.44343, 51.44344, 51.44345, 682.3, 682.3, 682.3, 13.1, -22.98, 3.79, 15.87, 0.1206, 0.0, 0.12, 0.0, 0.93, 0.91, 5634.0, 0.748583, -0.06071394910461843, 4.57, 13.8, 513.0, 19.3648, 44.3871, -31.0, 4.021, 1.0, 0.0, 0.655, 1.5490000000000002, -2.19, -0.13, -0.06, 0.31, 0.28], [1.0, 4.0, 1.0, 3.0, 0.0, 2.9, 2.87, 0.12, 0.35, 1.01, 100.5673, 100.5673, 100.5673, 806.8, 806.8, 806.8, 0.4, -24.5, 5.45, 13.03, 0.106, 0.0, 0.11, 0.0, 0.95, 1.1, 5680.0, 1.129974, 0.0, 8.0, 13.7, 608.4120264650286, 19.8078, 41.9092, -31.8, 5.5324, 6.0, 0.0, 0.802, 1.896, -2.27, 3.3, -1.04, 0.19, 0.23], [1.0, 1.0, 1.0, 1.0, 0.0, 65.5, 14.71, 0.02, 0.3, 2.11, 1099.111, 1099.111, 1099.112, 1466.9, 1466.9, 1466.9, 1.3, -30.68, 28.23, 4.73, 0.0615, 0.0, 0.06, 0.0, 1.39, 1.51, 6703.0, 4.157114, 0.0, 1.5, 10.6, 268.0, 2.5539, 30.3606, -34.4, 13.1568, 1.0, 0.0, 1.4480000000000002, 3.352, -2.46, 13.4, -0.66, 0.07, 0.06], [1.0, 1.0, 1.0, 1.0, 0.0, 158.97, 15.79, 0.04, 0.64, 3.17, 978.336, 978.3361, 978.3362, 1424.8, 1424.8, 1424.8, 6.4, -30.71, 30.36, 3.59, 0.0506, 0.0, 0.05, 0.0, 1.34, 1.29, 6400.0, 2.504893, 0.2, 0.9, 10.3, 608.4120264650286, 6.5567, -23.4861, -34.2, 13.6182, 1.0, 0.0, 1.144, 2.659, -2.44, 12.53, -0.1, 0.07, 0.06], [1.0, 2.0, 2.0, 1.0, 0.0, 17.1, 2.26, 1.48, 3.35, 2.75, 10.39209, 10.39209, 10.3921, 457.4, 457.4, 457.4, 25.3, -21.51, 4.3, 10.93, 0.0818, 0.0, 0.08, 0.0, 0.61, 0.57, 3930.0, 0.069536, -0.33, 4.205140795802378, 14.9, 608.4120264650286, 11.2869, -1.878, -29.3, 3.7141, 2.0, 0.0, 0.214, 0.544, -1.8, -0.12, 0.76, 0.34, 0.36], [1.0, 2.0, 2.0, 1.0, 0.0, 9.51, 1.96, 1.26, 2.47, 2.2, 6.387721, 6.387722, 6.387724, 405.0, 405.0, 405.0, 12.0, -20.66, 3.73, 49.61, 0.2512, 0.0, 0.25, 0.0, 0.86, 0.78, 5213.0, 0.403116, -0.06071394910461843, 2.29, 13.2, 297.0, 19.3444, 49.9239, -28.8, 1.6547, 1.0, 0.0, 0.4920000000000001, 1.18, -1.7, -0.14, 0.39, 0.36, 0.44], [1.0, 3.0, 1.0, 1.0, 0.0, 4.51, 2.86, 0.19, 0.55, 1.26, 140.6924, 140.6924, 140.6924, 877.4, 877.4, 877.4, 0.9, -24.86, 5.43, 3.3, 0.039, 0.0, 0.04, 0.0, 0.8, 0.69, 4731.0, 0.213993, 0.523, 4.205140795802378, 12.237222991689752, 608.4120264650286, 19.6295, 40.5576, -32.1, 9.4392, 4.0, 0.0, 0.3670000000000001, 0.897, -2.24, 2.49, -0.91, 0.22, 0.22], [1.0, 4.0, 2.0, 3.0, 0.0, 0.58, 0.88, 0.84, 0.74, 0.81, 206.2974, 206.2974, 206.2975, 965.5, 965.5, 965.5, 0.5, -22.72, 1.68, 5.22, 0.056, 0.0, 0.06, 0.0, 0.86, 0.88, 5524.0, 0.646949, -0.951, 4.205140795802378, 12.237222991689752, 608.4120264650286, 18.8669, 44.2842, -32.5, 8.3819, 3.0, 0.0, 0.613, 1.454, -2.32, -0.18, -1.23, 0.28, 0.3], [1.0, 4.0, 2.0, 3.0, 0.0, 0.96, 1.03, 0.88, 0.9, 0.96, 637.5748, 637.5749, 637.575, 1280.2, 1280.2, 1280.2, 0.8, -24.28, 1.96, 4.14, 0.0525, 0.0, 0.05, 0.0, 1.13, 1.18, 6126.0, 1.759389, -0.06071394910461843, 3.09, 13.7, 793.0, 19.6577, 48.639, -33.8, 11.9927, 2.0, 0.0, 0.975, 2.277, -2.42, -0.17, -1.21, 0.27, 0.3], [3.0, 2.0, 2.0, 1.0, 1.0, 8.3, 1.89, 1.22, 2.32, 2.09, 0.9960187, 1.234564, 1.549138, 254.5, 267.9, 284.2, 10.2, -18.8, 3.6, 17.38, 0.103, 0.11, 0.1, 11.5, 0.43, 0.34, 3371.0, 0.013018, -0.06071394910461843, 4.205140795802378, 10.9, 11.69, 4.8972, -17.7734, -27.0, 1.745, 2.0, 2.0, 0.093, 0.244, -0.87, -0.14, 0.74, 0.46, 0.75], [1.0, 3.0, 1.0, 1.0, 0.0, 16.71, 4.38, 0.2, 0.87, 1.95, 458.6031, 458.6032, 458.6033, 1179.0, 1179.0, 1179.0, 3.3, -27.08, 8.33, 14.8, 0.138, 0.0, 0.14, 0.0, 1.6, 2.01, 7005.0, 8.727994, -0.06071394910461843, 1.35, 12.5, 1003.0, 19.4781, 40.8114, -33.4, 7.7705, 1.0, 0.0, 2.066, 4.769, -2.43, 3.12, -0.63, 0.2, 0.17], [1.0, 2.0, 2.0, 1.0, 0.0, 25.7, 2.48, 1.69, 4.19, 3.22, 180.4501, 180.4501, 180.4501, 933.8, 933.8, 933.8, 43.6, -24.82, 4.71, 7.41, 0.0739, 0.0, 0.07, 0.0, 0.98, 0.99, 5785.0, 0.984858, -0.06071394910461843, 3.8, 15.0, 1003.0, 19.7101, 43.0298, -32.4, 7.1461, 1.0, 0.0, 0.7440000000000001, 1.754, -2.33, -0.11, 0.31, 0.3, 0.24], [1.0, 4.0, 2.0, 3.0, 0.0, 0.63, 0.91, 0.84, 0.77, 0.83, 85.78571, 85.78572, 85.78574, 775.4, 775.4, 775.4, 0.5, -21.82, 1.72, 8.38, 0.0771, 0.0, 0.08, 0.0, 0.87, 0.83, 5359.0, 0.509778, -0.06071394910461843, 4.17, 14.7, 631.0, 19.475, 41.4078, -31.6, 5.7403, 1.0, 0.0, 0.5489999999999999, 1.31, -2.24, -0.18, -1.15, 0.28, 0.31], [1.0, 1.0, 1.0, 2.0, 0.0, 3529.13, 11.51, 2.31, 26.62, 17.51, 159.5369, 209.3706, 280.2982, 905.4, 965.5, 1042.4, 8160.4, -28.35, 22.02, 672.1, 1.6, 0.14, 1.58, 323.0, 1.2, 49.67, 3935.0, 530.709878, -0.25, 4.5, 6.4, 290.2, 23.3372, 61.97, -32.6, 16.768, 1.0, 0.0, 18.711, 47.512, -2.19, 11.79, 9.13, 0.06, 0.06], [1.0, 1.0, 1.0, 2.0, 0.0, 909.31, 12.66, 0.45, 5.68, 8.48, 130.5011, 168.3634, 221.0289, 861.1, 914.7, 982.3, 407.9, -28.31, 24.23, 12.88, 0.1143, 0.13, 0.11, 0.0, 1.2, 1.38, 5977.0, 2.180625, 0.25, 4.0, 12.237222991689752, 1240.0, 19.5724, 42.9289, -32.3, 6.4936, 1.0, 0.0, 1.095, 2.567, -2.33, 9.03, 3.67, 0.09, 0.08], [1.0, 4.0, 2.0, 3.0, 0.0, 0.58, 0.88, 0.84, 0.74, 0.81, 241.9549, 241.9549, 241.955, 1004.8, 1004.8, 1004.8, 0.5, -22.89, 1.68, 6.11, 0.0658, 0.0, 0.07, 0.0, 1.02, 1.02, 5789.0, 1.048345, -0.06071394910461843, 4.17, 13.3, 506.0, 18.8158, 48.1543, -32.7, 8.2651, 1.0, 0.0, 0.768, 1.809, -2.35, -0.18, -1.24, 0.27, 0.3], [1.0, 2.0, 2.0, 1.0, 0.0, 4.54, 1.61, 1.08, 1.74, 1.68, 213.6169, 213.617, 213.617, 974.0, 974.0, 974.0, 4.9, -24.07, 3.07, 4.44, 0.051, 0.0, 0.05, 0.0, 0.9, 0.85, 5413.0, 0.556519, -0.03, 4.205140795802378, 12.5, 608.4120264650286, 16.23, -24.7869, -32.6, 8.8836, 3.0, 0.0, 0.5720000000000001, 1.362, -2.32, -0.15, -0.69, 0.29, 0.28], [1.0, 4.0, 2.0, 1.0, 0.0, 2.37, 1.34, 0.97, 1.31, 1.33, 230.8188, 230.8188, 230.8188, 993.0, 993.0, 993.0, 2.3, -23.76, 2.55, 5.42, 0.06, 0.0, 0.06, 0.0, 0.91, 0.9, 5815.0, 0.8309479999999999, -0.17800000000000002, 4.205140795802378, 12.237222991689752, 608.4120264650286, 18.9322, 49.233, -32.7, 8.0002, 3.0, 0.0, 0.6829999999999999, 1.607, -2.35, -0.16, -0.92, 0.28, 0.29], [1.0, 2.0, 2.0, 1.0, 0.0, 5.82, 1.72, 1.13, 1.95, 1.84, 624.4628, 624.4629, 624.4630000000002, 1273.6, 1273.6, 1273.6, 6.6, -25.39, 3.28, 2.09, 0.034, 0.0, 0.03, 0.0, 1.43, 0.9, 5614.0, 0.721879, 0.14300000000000002, 4.205140795802378, 12.237222991689752, 608.4120264650286, 19.1931, 40.6378, -33.8, 14.1425, 5.0, 0.0, 0.644, 1.524, -2.39, -0.15, -0.73, 0.29, 0.27], [1.0, 2.0, 2.0, 1.0, 0.0, 5.3, 1.68, 1.11, 1.87, 1.77, 5.840058999999999, 6.4464190000000015, 7.1339130000000015, 396.0, 405.8, 416.4, 5.9, -20.34, 3.2, 7.37, 0.06, 0.05, 0.06, 309.4, 0.48, 0.39, 3600.0, 0.023178, -0.22, 4.205140795802378, 9.8, 8.88, 11.5908, -32.54, -28.8, 3.5003, 2.0, 0.0, 0.124, 0.321, -1.65, -0.15, -0.03, 0.38, 0.45], [1.0, 3.0, 1.0, 3.0, 0.0, 3.38, 2.61, 0.19, 0.5, 1.14, 604.3906, 604.3907, 604.3907, 1263.2, 1263.2, 1263.2, 0.6, -26.25, 4.96, 2.38, 0.034, 0.0, 0.03, 0.0, 0.92, 1.04, 5180.0, 0.6986760000000001, 0.315, 4.205140795802378, 12.237222991689752, 608.4120264650286, 19.8211, 46.0233, -33.7, 16.3564, 3.0, 0.0, 0.649, 1.558, -2.35, 2.42, -1.11, 0.22, 0.23], [1.0, 3.0, 1.0, 1.0, 0.0, 5.34, 3.01, 0.2, 0.59, 1.33, 53.91301, 53.91302, 53.913030000000006, 690.3, 690.3, 690.3, 1.0, -23.93, 5.73, 12.39, 0.1, 0.0, 0.1, 0.0, 0.87, 0.84, 5403.0, 0.539496, -0.06071394910461843, 4.47, 15.5, 968.0, 19.7348, 50.5678, -31.1, 4.4761, 1.0, 0.0, 0.563, 1.342, -2.19, 2.54, -0.75, 0.23, 0.23], [2.0, 1.0, 1.0, 2.0, 0.0, 10492.02, 10.13, 10.11, 102.34, 32.19, 0.001330255, 0.001330256, 0.001330256, 48.7, 48.7, 48.7, 106050.2, -15.0, 19.33, 720.5573964013066, 159.0, 0.0, 159.0, 0.0, 2.35, 1.79, 10400.0, 33.630189, -0.06071394910461843, 0.016, 6.8, 125.0, 13.3014, -44.0553, -19.5, 0.006, 1.0, 0.0, 4.021, 9.267, 58.08, 20.14, 87.49, 0.01, 0.04], [1.0, 1.0, 1.0, 2.0, 0.0, 629.52, 14.97, 0.19, 2.81, 6.48, 2177.654, 3001.868, 4255.901, 1740.4, 1876.0, 2057.8, 118.0, -31.83, 28.76, 0.84, 0.0176, 0.17, 0.02, 0.0, 1.04, 1.02, 5600.0, 0.917999, 0.28, 4.2, 14.0, 645.0, 11.5972, -29.1561, -35.5, 31.7046, 1.0, 0.0, 0.727, 1.721, -2.43, 10.9, 1.15, 0.08, 0.06], [1.0, 3.0, 1.0, 1.0, 0.0, 28.61, 5.24, 0.2, 1.04, 2.34, 15.39869, 16.667920000000002, 18.07138, 504.7, 514.6, 525.3, 5.7, -23.86, 9.97, 31.0, 0.18600000000000005, 0.04, 0.19, 55.0, 0.79, 0.95, 5173.0, 0.576182, 0.05, 5.13, 5.8, 11.0, 0.6558, 21.2503, -29.8, 2.7157, 2.0, 0.0, 0.589, 1.416, -1.98, 3.55, 0.26, 0.2, 0.28], [2.0, 2.0, 2.0, 2.0, 0.0, 7.69, 1.86, 1.2, 2.23, 2.04, 0.02075247, 0.05967677, 0.2461234, 96.7, 117.9, 179.4, 9.2, -15.65, 3.53, 217.21, 0.47, 0.55, 0.39, 102.0, 0.25, 0.32, 3305.0, 0.01101, -0.09, 4.205140795802378, 10.1, 4.29, 16.505, -12.6626, -23.9, 0.4354, 3.0, 1.0, 0.086, 0.225, 4.8, -0.14, 1.7, 0.16, 0.33], [1.0, 3.0, 1.0, 1.0, 0.0, 4.29, 2.81, 0.19, 0.54, 1.24, 51.02715, 51.02715, 51.02716, 680.9, 680.9, 680.9, 0.8, -23.72, 5.34, 12.76, 0.1043, 0.0, 0.1, 0.0, 0.93, 0.86, 5378.0, 0.555098, 0.16, 4.205140795802378, 12.2, 183.0, 23.2633, -10.8497, -31.0, 4.3952, 5.0, 0.0, 0.5720000000000001, 1.365, -2.18, 2.48, -0.81, 0.23, 0.24], [1.0, 1.0, 1.0, 2.0, 0.0, 717.91, 16.8, 0.15, 2.54, 6.54, 3016.739, 3016.74, 3016.74, 1888.1, 1888.1, 1888.1, 108.7, -32.07, 32.35, 2.9, 0.0463, 0.0, 0.05, 0.0, 1.57, 2.32, 6050.0, 6.469748, 0.15, 4.205140795802378, 12.237222991689752, 200.0, 1.9508, 0.7589, -35.5, 26.9452, 1.0, 0.0, 1.878, 4.394, -2.46, 12.71, 1.18, 0.07, 0.05], [2.0, 1.0, 1.0, 2.0, 0.0, 1907.64, 11.68, 1.2, 13.98, 12.78, 0.0014552470000000002, 0.0014552470000000002, 0.0014552470000000002, 49.8, 49.8, 49.8, 2282.0, -15.41, 22.34, 40000.0, 15.7, 0.0, 15.7, 0.0, 0.97, 0.76, 5150.0, 0.358704, -0.06071394910461843, 0.002, 11.9, 145.0, 4.655, 22.3508, -19.6, 0.0257, 1.0, 0.0, 0.466, 1.119, 45.61, 9.51, 33.29, 0.02, 0.07], [1.0, 5.0, 2.0, 3.0, 0.0, 0.39, 0.78, 0.81, 0.64, 0.71, 280.6624, 280.6624, 280.6624, 1042.8, 1042.8, 1042.8, 0.3, -22.79, 1.49, 4.16, 0.0494, 0.0, 0.05, 0.0, 0.93, 0.9, 5541.0, 0.685058, -0.06071394910461843, 4.57, 13.9, 533.0, 18.9935, 43.95399999999999, -32.9, 9.7196, 1.0, 0.0, 0.63, 1.494, -2.34, -0.18, -1.31, 0.27, 0.29], [1.0, 3.0, 1.0, 1.0, 0.0, 4.29, 2.81, 0.19, 0.54, 1.24, 29.477590000000006, 29.4776, 29.4776, 593.6, 593.6, 593.6, 0.8, -23.12, 5.34, 18.83, 0.1322, 0.0, 0.13, 0.0, 0.87, 0.83, 5373.0, 0.515126, -0.06071394910461843, 4.07, 15.8, 1075.0, 19.4845, 37.9557, -30.4, 3.3465, 1.0, 0.0, 0.551, 1.315, -2.1, 2.48, -0.75, 0.23, 0.26], [1.0, 4.0, 3.0, 1.0, 0.0, 4.19, 1.71, 0.83, 1.43, 1.56, 439.6593, 439.6593, 439.6595, 1166.6, 1166.6, 1166.6, 3.5, -24.99, 3.26, 7.13, 0.075, 0.0, 0.07, 0.0, 1.1, 1.5, 5915.0, 2.471106, -0.06071394910461843, 4.205140795802378, 14.5, 608.4120264650286, 19.2642, 42.265, -33.4, 10.678, 3.0, 0.0, 1.17, 2.747, -2.39, 0.14, -0.84, 0.28, 0.27], [1.0, 3.0, 1.0, 1.0, 0.0, 3.82, 2.71, 0.19, 0.52, 1.19, 27.13387, 27.13387, 27.13387, 581.5, 581.5, 581.5, 0.7, -22.95, 5.15, 16.74, 0.121, 0.0, 0.12, 0.0, 0.83, 0.87, 4918.0, 0.397267, -0.071, 4.205140795802378, 15.8, 608.4120264650286, 19.9483, 40.3431, -30.3, 3.8324, 3.0, 0.0, 0.496, 1.202, -2.06, 2.45, -0.78, 0.23, 0.27], [1.0, 2.0, 2.0, 1.0, 0.0, 8.48, 1.9, 1.23, 2.34, 2.11, 8.096533, 8.096533, 8.096534, 429.8, 429.8, 429.8, 10.4, -20.86, 3.62, 66.37, 0.3153, 0.0, 0.32, 0.0, 0.95, 0.92, 5706.0, 0.804994, -0.06071394910461843, 3.89, 15.4, 1166.0, 19.0372, 49.3301, -29.0, 1.5549, 1.0, 0.0, 0.6759999999999999, 1.596, -1.78, -0.14, 0.24, 0.36, 0.41], [1.0, 1.0, 1.0, 2.0, 0.0, 2066.61, 11.68, 1.3, 15.15, 13.3, 140.0426, 201.9615, 302.2137, 876.4, 953.8, 1062.2, 2680.7, -28.35, 22.34, 433.7, 1.08, 0.19, 1.06, 155.3, 0.9, 27.3, 4312.5, 231.276564, -0.74, 10.2, 6.9, 231.5, 1.9806, 73.1525, -32.5, 13.7539, 1.0, 0.0, 12.236, 30.498, -2.22, 9.75, 6.55, 0.08, 0.08], [1.0, 2.0, 2.0, 1.0, 0.0, 12.69, 2.11, 1.36, 2.86, 2.46, 21.51572, 21.51572, 21.51572, 548.7, 548.7, 548.7, 17.3, -22.15, 4.0, 41.7, 0.2399, 0.0, 0.24, 0.0, 1.06, 1.02, 6035.0, 1.238224, -0.06071394910461843, 1.86, 14.0, 758.0, 19.427, 40.1255, -30.1, 2.266, 1.0, 0.0, 0.8220000000000001, 1.925, -2.06, -0.13, 0.3, 0.32, 0.31], [1.0, 2.0, 2.0, 1.0, 0.0, 9.7, 1.87, 1.49, 2.78, 2.28, 313.8258, 333.0779, 353.84, 1072.3, 1088.2, 1105.0, 14.4, -24.87, 3.55, 3.7, 0.0463, 0.03, 0.05, 0.0, 0.91, 0.94, 5466.0, 0.7136939999999999, 0.02, 8.8, 12.5, 290.0, 19.18, 42.3386, -33.1, 10.8868, 6.0, 0.0, 0.6459999999999999, 1.535, -2.35, -0.31, -0.39, 0.29, 0.27], [1.0, 3.0, 1.0, 3.0, 0.0, 6.39, 3.19, 0.2, 0.63, 1.42, 1012.76, 1012.76, 1012.76, 1437.2, 1437.2, 1437.2, 1.3, -27.26, 6.07, 7.42, 0.08199999999999999, 0.0, 0.08, 0.0, 1.22, 3.57, 4940.0, 6.809796, 0.02, 4.205140795802378, 12.237222991689752, 608.4120264650286, 19.3748, 51.0573, -34.3, 23.3629, 2.0, 0.0, 2.05, 4.968, -2.35, 2.61, -1.01, 0.22, 0.2], [1.0, 2.0, 2.0, 2.0, 0.0, 1589.7, 1.99, 200.63, 399.98, 28.24, 20.948, 20.948, 20.948, 545.0, 545.0, 545.0, 318945.4, -22.0, 3.79, 6.03, 0.0513, 0.0, 0.05, 0.0, 0.58, 0.54, 3810.0, 0.055129, -0.1, 4.205140795802378, 13.9, 70.0, 15.19, 17.8753, -30.0, 5.6119, 2.0, 0.0, 0.191, 0.488, -1.94, -0.87, 21.65, 0.04, 0.32], [1.0, 3.0, 1.0, 1.0, 0.0, 4.57, 2.87, 0.19, 0.56, 1.26, 161.3027, 161.3027, 161.3027, 907.9, 907.9, 907.9, 0.9, -25.02, 5.45, 5.75, 0.0609, 0.0, 0.06, 0.0, 0.91, 0.88, 5416.0, 0.597819, -0.06071394910461843, 4.47, 15.2, 860.0, 19.8268, 46.824, -32.3, 7.7091, 1.0, 0.0, 0.593, 1.411, -2.3, 2.5, -0.92, 0.22, 0.22], [1.0, 2.0, 2.0, 2.0, 0.0, 17.55, 2.27, 1.49, 3.39, 2.78, 3.899842, 3.899842, 3.899843, 358.0, 358.0, 358.0, 26.2, -20.45, 4.32, 28.46, 0.154, 0.0, 0.15, 0.0, 0.56, 0.56, 4258.0, 0.092489, 0.028, 4.205140795802378, 12.237222991689752, 608.4120264650286, 19.9887, 47.1575, -28.2, 1.938, 3.0, 0.0, 0.245, 0.612, -1.5, -0.12, 1.11, 0.35, 0.5], [1.0, 3.0, 1.0, 1.0, 0.0, 19.68, 4.63, 0.2, 0.92, 2.06, 214.6015, 214.6015, 214.6015, 975.1, 975.1, 975.1, 3.9, -26.37, 8.8, 4.03, 0.0482, 0.0, 0.05, 0.0, 0.92, 0.85, 5266.0, 0.498484, -0.06071394910461843, 2.88, 14.9, 725.0, 19.9034, 48.3325, -32.6, 9.4093, 2.0, 1.0, 0.546, 1.306, -2.31, 3.24, -0.45, 0.2, 0.16], [1.0, 1.0, 1.0, 1.0, 0.0, 84.89, 9.24, 0.11, 0.99, 3.03, 198.1059, 226.035, 259.0809, 955.8, 987.0, 1022.1, 9.1, -27.94, 17.63, 4.64, 0.0523, 0.07, 0.05, 240.0, 0.89, 0.92, 5330.0, 0.6168819999999999, 0.06, 10.1, 12.6, 249.0, 2.3589, 32.2463, -32.6, 9.4368, 1.0, 0.0, 0.605, 1.445, -2.32, 6.7, 0.13, 0.12, 0.1], [1.0, 4.0, 2.0, 3.0, 0.0, 1.23, 1.11, 0.9, 1.0, 1.05, 257.6379, 257.6379, 257.638, 1020.7, 1020.7, 1020.7, 1.1, -23.46, 2.11, 4.79, 0.0547, 0.0, 0.05, 0.0, 0.95, 0.93, 5612.0, 0.769709, -0.06071394910461843, 4.27, 14.1, 619.0, 19.4723, 49.2375, -32.8, 9.0769, 1.0, 0.0, 0.665, 1.574, -2.34, -0.17, -1.09, 0.28, 0.3], [1.0, 1.0, 1.0, 2.0, 0.0, 724.59, 14.21, 0.25, 3.59, 7.14, 1386.086, 1386.086, 1386.086, 1554.5, 1554.5, 1554.5, 182.9, -30.86, 27.27, 1.54, 0.0262, 0.0, 0.03, 0.0, 1.02, 0.94, 5881.0, 0.954372, -0.31, 3.0, 12.7, 450.0, 8.7719, -8.0269, -34.6, 19.242, 1.0, 0.0, 0.7290000000000001, 1.712, -2.43, 10.28, 1.77, 0.09, 0.06], [1.0, 1.0, 1.0, 2.0, 0.0, 3370.16, 11.54, 2.19, 25.31, 17.09, 4.976192, 7.450514, 11.6718, 380.5, 417.4, 470.9, 7391.0, -24.73, 22.07, 714.3, 2.1, 0.21, 2.05, 18.0, 2.4, 1.4933198489751924, 5466.089986504723, 32.124073, 0.14, 0.75, 9.4, 766.0, 7.6192, -13.9067, -28.9, 6.967479314994602, 1.0, 0.0, 0.9691419703103896, 2.313927665317145, -1.74, 11.58, 14.33, 0.05, 0.18], [1.0, 2.0, 2.0, 1.0, 0.0, 20.36, 2.35, 1.57, 3.68, 2.94, 20.05964, 20.05965, 20.05965, 539.2, 539.2, 539.2, 31.9, -22.31, 4.47, 75.2, 0.3532, 0.0, 0.35, 0.0, 1.04, 1.26, 6474.0, 2.502199, -0.16, 4.205140795802378, 12.237222991689752, 608.4120264650286, 18.8252, 44.6946, -30.0, 1.9013, 2.0, 0.0, 1.138, 2.643, -2.04, -0.12, 0.72, 0.32, 0.3], [2.0, 1.0, 1.0, 2.0, 0.0, 279.79, 10.03, 0.28, 2.78, 5.28, 0.001797438, 0.001797438, 0.001797438, 52.5, 52.5, 52.5, 77.6, -15.31, 19.15, 720.5573964013066, 1.89, 0.0, 1.89, 0.0, 0.21, 1.4933198489751924, 5466.089986504723, 0.006421, -0.06071394910461843, 4.205140795802378, 12.237222991689752, 4380.0, 17.9633, -27.3944, -19.8, 6.967479314994602, 1.0, 0.0, 0.9691419703103896, 2.313927665317145, 43.5, 6.29, 12.37, 0.02, 0.12], [1.0, 4.0, 2.0, 3.0, 0.0, 0.63, 0.91, 0.84, 0.77, 0.83, 815.5963, 815.5964, 815.5966, 1361.5, 1361.5, 1361.5, 0.5, -24.27, 1.72, 2.42, 0.036000000000000004, 0.0, 0.04, 0.0, 1.07, 1.04, 5748.0, 1.059311, -0.06071394910461843, 2.82, 12.7, 396.0, 19.3706, 49.94300000000001, -34.0, 15.4252, 1.0, 0.0, 0.774, 1.824, -2.4, -0.18, -1.29, 0.27, 0.29], [1.0, 2.0, 2.0, 1.0, 0.0, 15.1, 2.2, 1.43, 3.13, 2.62, 85.47361, 85.47361, 85.47363, 774.6, 774.6, 774.6, 21.6, -23.74, 4.17, 6.25, 0.062, 0.0, 0.06, 0.0, 0.81, 0.73, 5120.0, 0.328561, -0.109, 4.205140795802378, 12.237222991689752, 608.4120264650286, 19.1333, 48.3758, -31.6, 6.2778, 3.0, 0.0, 0.446, 1.074, -2.22, -0.13, 0.09, 0.31, 0.26], [1.0, 2.0, 2.0, 1.0, 0.0, 20.36, 2.35, 1.57, 3.68, 2.94, 96.5317, 96.53171, 96.53173, 798.6, 798.6, 798.6, 31.9, -24.03, 4.47, 31.81, 0.161, 0.0, 0.16, 0.0, 1.04, 1.26, 6474.0, 2.502199, -0.16, 4.205140795802378, 12.237222991689752, 608.4120264650286, 18.8252, 44.6946, -31.7, 4.1716, 2.0, 0.0, 1.138, 2.643, -2.3, -0.12, 0.28, 0.3, 0.25], [2.0, 1.0, 1.0, 2.0, 0.0, 1621.49, 11.68, 1.02, 11.88, 11.78, 0.04955057, 0.13957160000000002, 0.5551636999999999, 120.2, 146.2, 219.9, 1648.7, -20.58, 22.34, 655.6, 1.34, 0.54, 1.13, 112.2, 0.74, 0.69, 4714.0, 0.210934, -0.03, 4.3, 9.6, 34.6, 0.4761, -16.2264, -24.8, 0.326, 1.0, 0.0, 0.364, 0.8909999999999999, 2.91, 9.09, 16.13, 0.05, 0.2], [1.0, 3.0, 1.0, 1.0, 0.0, 5.34, 3.01, 0.2, 0.59, 1.33, 2.946901, 2.946901, 2.946902, 333.8, 333.8, 333.8, 1.0, -20.76, 5.73, 122.88, 0.4754, 0.0, 0.48, 0.0, 0.95, 0.89, 5533.0, 0.6660590000000001, -0.06071394910461843, 3.24, 13.8, 507.0, 19.6788, 49.9458, -27.9, 0.9977, 1.0, 0.0, 0.621, 1.474, -1.34, 2.54, -0.32, 0.26, 0.5], [1.0, 1.0, 1.0, 2.0, 0.0, 1274.94, 11.66, 0.8, 9.38, 10.46, 1.7360669999999998, 2.8114790000000003, 4.8627720000000005, 292.4, 325.9, 378.3, 1025.6, -23.7, 22.3, 264.1, 0.846, 0.25, 0.82, 323.4, 1.1, 1.21, 6205.0, 1.947277, 0.194, 1.48, 6.7, 33.3, 6.0747, 44.2603, -27.9, 0.7876, 1.0, 0.0, 1.02, 2.381, -1.25, 8.56, 9.36, 0.07, 0.32], [1.0, 4.0, 2.0, 1.0, 0.0, 2.97, 1.43, 1.01, 1.44, 1.44, 103.5066, 103.5066, 103.5066, 812.6, 812.6, 812.6, 3.0, -23.02, 2.72, 12.76, 0.107, 0.0, 0.11, 0.0, 1.0, 1.07, 5828.0, 1.185047, -0.07400000000000001, 4.205140795802378, 12.237222991689752, 608.4120264650286, 19.1427, 47.1152, -31.8, 5.3311, 3.0, 0.0, 0.8140000000000001, 1.916, -2.28, -0.16, -0.75, 0.29, 0.3], [1.0, 3.0, 1.0, 1.0, 0.0, 29.72, 5.31, 0.2, 1.05, 2.37, 16.86526, 16.86526, 16.86526, 516.3, 516.3, 516.3, 5.9, -23.9, 10.1, 36.34, 0.215, 0.0, 0.21, 0.0, 0.98, 0.9, 5723.0, 0.779596, 0.012, 4.205140795802378, 12.237222991689752, 608.4120264650286, 19.6072, 44.7707, -29.8, 2.231, 2.0, 0.0, 0.665, 1.569, -2.0, 3.58, 0.28, 0.2, 0.21], [1.0, 1.0, 1.0, 2.0, 0.0, 4578.34, 11.32, 3.16, 35.76, 20.12, 27.57051, 46.78083, 85.9914, 583.8, 656.4, 775.8, 14469.1, -26.71, 21.63, 8.43, 0.07400000000000001, 0.28, 0.07, 332.7, 0.75, 0.71, 4830.0, 0.246147, 0.01, 0.76, 9.2, 31.26, 17.8439, -40.3183, -31.0, 5.3233, 1.0, 0.0, 0.392, 0.954, -2.13, 13.14, 13.26, 0.05, 0.08], [1.0, 2.0, 2.0, 1.0, 0.0, 6.1, 1.75, 1.14, 2.0, 1.87, 225.9471, 225.9471, 225.9472, 987.7, 987.7, 987.7, 7.0, -24.3, 3.32, 7.26, 0.0743, 0.0, 0.07, 0.0, 1.04, 1.07, 5904.0, 1.248081, -0.06071394910461843, 4.07, 14.5, 872.0, 19.433, 44.5235, -32.6, 7.678, 1.0, 0.0, 0.8320000000000001, 1.954, -2.35, -0.14, -0.58, 0.29, 0.27], [1.0, 1.0, 1.0, 1.0, 0.0, 56.72, 6.56, 0.2, 1.32, 2.94, 8.983614999999997, 10.34999, 11.98713, 441.1, 456.5, 474.0, 11.4, -23.83, 12.49, 44.37, 0.2374, 0.07, 0.24, 356.0, 0.91, 0.94, 5196.0, 0.581554, 0.31, 10.2, 6.0, 12.34, 8.8769, 28.3339, -29.3, 2.1229, 5.0, 1.0, 0.591, 1.419, -1.86, 4.23, 0.93, 0.17, 0.28], [3.0, 1.0, 1.0, 2.0, 0.0, 276.61, 10.01, 0.28, 2.76, 5.26, 0.7527704000000001, 0.7527704000000001, 0.7527705, 237.3, 237.3, 237.3, 76.3, -21.89, 19.11, 623.8, 1.42, 0.0, 1.42, 0.0, 0.98, 1.18, 5904.0, 1.517886, -0.16, 8.4, 7.6, 44.5, 2.8512, 30.2868, -26.4, 0.4428, 1.0, 1.0, 0.918, 2.155, -0.19, 6.27, 4.87, 0.11, 0.47], [1.0, 3.0, 2.0, 2.0, 0.0, 89.02, 2.92, 3.56, 10.42, 5.52, 200.4282, 200.4282, 200.4283, 958.6, 958.6, 958.6, 317.3, -25.3, 5.56, 17.32, 0.1388, 0.0, 0.14, 0.0, 1.19, 1.65, 6306.0, 3.862545, -0.315, 4.205140795802378, 13.4, 608.4120264650286, 19.1056, 39.0772, -32.5, 6.3373, 2.0, 0.0, 1.4280000000000002, 3.326, -2.36, -0.26, 1.72, 0.25, 0.22], [1.0, 1.0, 1.0, 2.0, 0.0, 556.4, 11.11, 0.41, 4.51, 7.08, 1.464029, 1.8852, 2.469549, 280.2, 297.6, 319.4, 225.5, -23.13, 21.24, 916.0, 2.24, 0.13, 2.22, 71.0, 1.75, 4.4, 4827.0, 9.378906, -0.06071394910461843, 2.1, 12.237222991689752, 100.9, 5.21, -13.0489, -27.4, 1.0566, 2.0, 0.0, 2.418, 5.8870000000000005, -1.1, 7.23, 6.18, 0.09, 0.41], [1.0, 2.0, 2.0, 1.0, 0.0, 12.15, 2.08, 1.34, 2.8, 2.41, 1.952785, 1.952785, 1.952786, 301.2, 301.2, 301.2, 16.3, -19.5, 3.96, 201.12, 0.6672, 0.0, 0.67, 0.0, 0.98, 0.96, 5694.0, 0.869165, -0.06071394910461843, 4.17, 13.3, 473.0, 18.8743, 48.1314, -27.5, 0.7668, 1.0, 0.0, 0.703, 1.66, -1.08, -0.13, 0.96, 0.41, 0.66], [1.0, 1.0, 1.0, 1.0, 0.0, 58.18, 10.61, 0.05, 0.52, 2.34, 67.8816, 83.49763, 103.8832, 731.3, 768.5, 813.4, 2.8, -27.16, 20.26, 5.51, 0.0559, 0.11, 0.06, 120.0, 0.77, 0.72, 4870.0, 0.259444, 0.1, 12.4, 12.8, 166.0, 17.09, 33.0125, -31.6, 6.8783, 1.0, 0.0, 0.401, 0.976, -2.2, 8.95, -0.1, 0.1, 0.09], [1.0, 1.0, 1.0, 2.0, 0.0, 232.1, 9.66, 0.26, 2.49, 4.9, 2.324249, 3.108587, 4.253862000000002, 314.6, 336.8, 365.9, 59.8, -23.37, 18.43, 352.3, 1.0, 0.15, 0.99, 290.0, 1.09, 2.02, 5395.0, 3.073415, 0.0, 8.1, 7.2, 52.7, 17.65, -43.1456, -28.0, 1.0877, 2.0, 1.0, 1.345, 3.2060000000000004, -1.37, 6.04, 3.42, 0.12, 0.37], [3.0, 1.0, 1.0, 2.0, 0.0, 953.82, 11.56, 0.62, 7.14, 9.08, 0.2990776, 0.7177607, 2.185568, 188.4, 224.5, 309.8, 588.8, -22.28, 22.11, 502.0, 1.37, 0.46, 1.22, 41.5, 1.1, 1.05, 5897.0, 1.1961700000000002, 0.24, 2.1, 8.3, 52.82, 14.3483, -17.4814, -26.5, 0.46, 3.0, 1.0, 0.815, 1.914, 0.08, 8.04, 9.57, 0.07, 0.41], [2.0, 1.0, 1.0, 2.0, 0.0, 2161.99, 11.68, 1.36, 15.86, 13.61, 0.008092665, 0.05168375, 1.230415, 76.4, 97.9, 268.3, 2936.8, -20.02, 22.33, 4951.0, 5.6, 0.85, 2.95, 0.0, 0.96, 0.88, 5940.0, 0.868181, -0.06071394910461843, 4.205140795802378, 8.0, 40.3, 11.3478, -23.2172, -24.2, 0.1598, 1.0, 0.0, 0.6920000000000001, 1.625, 11.03, 9.89, 20.26, 0.04, 0.12], [1.0, 1.0, 1.0, 2.0, 0.0, 2670.7, 12.72, 1.3, 16.5, 14.49, 906.057, 971.1529, 1042.238, 1397.8, 1421.9, 1447.6, 3463.1, -30.23, 24.36, 6.79, 0.0805, 0.04, 0.08, 0.0, 1.51, 2.05, 6395.0, 6.293785, 0.12, 2.2, 12.1, 980.0, 19.1806, 47.3331, -34.2, 13.5934, 1.0, 0.0, 1.814, 4.217, -2.44, 11.87, 5.7, 0.07, 0.07], [1.0, 3.0, 1.0, 1.0, 0.0, 4.86, 2.92, 0.19, 0.57, 1.29, 228.1489, 228.149, 228.149, 990.1, 990.1, 990.1, 0.9, -25.44, 5.56, 3.6, 0.0437, 0.0, 0.04, 0.0, 0.86, 0.81, 5217.0, 0.436057, -0.06071394910461843, 4.27, 15.7, 1007.0, 19.0261, 46.1809, -32.7, 9.886, 1.0, 0.0, 0.512, 1.227, -2.31, 2.51, -0.94, 0.22, 0.22], [1.0, 4.0, 2.0, 3.0, 0.0, 1.27, 1.12, 0.9, 1.01, 1.06, 318.4754, 318.4754, 318.4755, 1076.3, 1076.3, 1076.3, 1.1, -23.71, 2.13, 5.47, 0.061, 0.0, 0.06, 0.0, 1.0, 1.07, 5828.0, 1.185047, -0.07400000000000001, 4.205140795802378, 12.237222991689752, 608.4120264650286, 19.1427, 47.1152, -33.0, 9.3583, 3.0, 0.0, 0.8140000000000001, 1.916, -2.37, -0.17, -1.1, 0.28, 0.3], [1.0, 2.0, 2.0, 1.0, 0.0, 4.77, 1.64, 1.09, 1.78, 1.71, 3.04261, 3.04261, 3.04261, 336.5, 336.5, 336.5, 5.2, -19.46, 3.11, 32.13, 0.159, 0.0, 0.16, 0.0, 0.51, 0.49, 4347.0, 0.07692, -0.85, 4.205140795802378, 12.237222991689752, 608.4120264650286, 19.4556, 39.3074, -27.9, 1.6424, 3.0, 0.0, 0.223, 0.555, -1.39, -0.15, 0.07, 0.42, 0.6], [1.0, 1.0, 1.0, 2.0, 0.0, 74.28, 7.13, 0.2, 1.46, 3.23, 2.556505, 2.556505, 2.556506, 322.1, 322.1, 322.1, 15.2, -22.48, 13.59, 394.62, 1.1279, 0.0, 1.13, 0.0, 1.23, 1.64, 6059.0, 3.252231, -0.06071394910461843, 3.98, 12.8, 747.0, 19.3901, 48.5213, -27.8, 0.7749, 1.0, 0.0, 1.33, 3.113, -1.23, 4.55, 1.75, 0.17, 0.38], [1.0, 1.0, 1.0, 1.0, 0.0, 165.33, 14.11, 0.06, 0.83, 3.42, 1014.546, 1014.546, 1014.546, 1437.8, 1437.8, 1437.8, 9.7, -30.5, 27.07, 4.2, 0.0526, 0.0, 0.05, 0.0, 1.09, 1.79, 5590.0, 2.807005, 0.01, 8.6, 15.8, 1670.0, 18.65, 6.97, -34.3, 18.2119, 1.0, 0.0, 1.271, 3.011, -2.4, 10.78, 0.02, 0.08, 0.06], [2.0, 1.0, 1.0, 2.0, 0.0, 604.09, 11.21, 0.43, 4.81, 7.34, 0.07898127, 0.1076493, 0.1505987, 135.1, 145.2, 158.7, 259.4, -20.03, 21.42, 3999.0, 5.1, 0.16, 5.03, 137.0, 1.13, 1.67, 5765.0, 2.763886, -0.11, 8.2, 7.1, 49.1, 23.6333, 48.9964, -24.3, 0.1768, 1.0, 0.0, 1.249, 2.943, 3.57, 7.35, 10.0, 0.07, 0.2], [1.0, 2.0, 2.0, 1.0, 0.0, 26.25, 2.49, 1.71, 4.25, 3.25, 22.16667, 22.16667, 22.16668, 552.8, 552.8, 552.8, 44.8, -22.54, 4.73, 28.63, 0.1794, 0.0, 0.18, 0.0, 0.94, 0.91, 5566.0, 0.7130920000000001, -0.06071394910461843, 4.47, 15.8, 1355.0, 19.0535, 44.8734, -30.1, 2.7041, 1.0, 0.0, 0.642, 1.521, -2.05, -0.11, 0.94, 0.31, 0.29], [2.0, 1.0, 1.0, 2.0, 0.0, 1303.55, 11.66, 0.82, 9.58, 10.57, 0.017424000000000002, 0.017424000000000002, 0.017424000000000002, 92.6, 92.6, 92.6, 1071.1, -18.11, 22.3, 720.5573964013066, 3.3, 0.0, 3.3, 0.0, 0.66, 1.4933198489751924, 5466.089986504723, 0.189747, -0.06071394910461843, 4.205140795802378, 12.237222991689752, 3600.0, 17.9803, -29.8031, -22.3, 6.967479314994602, 1.0, 0.0, 0.9691419703103896, 2.313927665317145, 12.3, 8.61, 19.51, 0.04, 0.1], [1.0, 3.0, 1.0, 1.0, 0.0, 11.27, 3.84, 0.2, 0.76, 1.71, 6.7884410000000015, 6.788442, 6.788442999999999, 411.2, 411.2, 411.2, 2.2, -22.2, 7.31, 41.19, 0.22, 0.0, 0.22, 0.0, 0.84, 0.73, 5120.0, 0.328561, -0.109, 4.205140795802378, 12.237222991689752, 608.4120264650286, 19.1333, 48.3758, -28.8, 1.7684, 3.0, 0.0, 0.446, 1.074, -1.72, 2.87, -0.1, 0.23, 0.33], [1.0, 5.0, 2.0, 3.0, 0.0, 0.22, 0.65, 0.78, 0.51, 0.58, 556.7078, 556.7078, 556.7078, 1237.5, 1237.5, 1237.5, 0.2, -23.13, 1.23, 2.89, 0.0389, 0.0, 0.04, 0.0, 0.94, 0.99, 5564.0, 0.8427690000000001, -0.06071394910461843, 8.51, 12.6, 336.0, 19.0486, 42.6545, -33.6, 13.5916, 4.0, 0.0, 0.698, 1.654, -2.38, -0.19, -1.41, 0.27, 0.28], [1.0, 3.0, 1.0, 1.0, 0.0, 14.86, 4.21, 0.2, 0.84, 1.88, 20.0518, 20.0518, 20.05181, 539.1, 539.1, 539.1, 3.0, -23.58, 8.01, 29.2, 0.184, 0.0, 0.18, 0.0, 0.98, 0.95, 5381.0, 0.678874, 0.147, 4.205140795802378, 12.237222991689752, 608.4120264650286, 19.0569, 38.3841, -30.0, 2.7517, 3.0, 0.0, 0.633, 1.509, -2.02, 3.04, -0.17, 0.21, 0.23], [1.0, 3.0, 1.0, 1.0, 0.0, 12.19, 3.94, 0.2, 0.78, 1.76, 19.28513, 19.28513, 19.28513, 533.9, 533.9, 533.9, 2.4, -23.4, 7.5, 20.48, 0.14, 0.0, 0.14, 0.0, 0.88, 0.79, 5094.0, 0.377988, 0.21, 4.205140795802378, 12.237222991689752, 608.4120264650286, 19.2428, 43.0393, -30.0, 3.0113, 3.0, 0.0, 0.479, 1.155, -2.0, 2.92, -0.26, 0.22, 0.24]]\n"
     ]
    }
   ],
   "source": [
    "testr = []\n",
    "for i in testrows:\n",
    "    testr.append(list(data.loc[i]))\n",
    "print(testr)"
   ]
  },
  {
   "cell_type": "code",
   "execution_count": 34,
   "metadata": {},
   "outputs": [
    {
     "name": "stdout",
     "output_type": "stream",
     "text": [
      "[True, True, True, True, True, True, True, True, True, True, True, True, True, True, True, True, True, True, True, True, True, True, True, True, True, True, True, True, True, False, True, True, True, True, True, True, True, True, True, True, True, True, True, True, True, False, True, True, True, True, True, True, True, True, True, True, True, True, True, True, True, True, True, True, True, True, True, True, True, True, True, True, True, True, True, True, True, True, True, True, True, True, True, True, True, True, True, True, True, True, True, True, True, True, True, True, True, True, True, True]\n"
     ]
    }
   ],
   "source": [
    "outp = []\n",
    "eucdist = []\n",
    "i = 0\n",
    "for row in testr:\n",
    " \n",
    "    dist = euclid(row, i);\n",
    "    m1 = dist.index(min(dist));\n",
    "    dist[m1] = math.inf;\n",
    "    m2 = dist.index(min(dist));\n",
    "    dist[m2] = math.inf;\n",
    "    m3 = dist.index(min(dist));\n",
    "    dist[m3] = math.inf;\n",
    "  \n",
    "    out = mode(data['P. Habitable Class'][m1], data['P. Habitable Class'][m2], data['P. Habitable Class'][m3])\n",
    "    outputval.append(out);\n",
    "    eucdist.append(out == row[4]);\n",
    "    #print(str(len(dist))+\" \"+str(len(data)));\n",
    "    \n",
    "    i = i + 1;\n",
    "print(eucdist)"
   ]
  },
  {
   "cell_type": "code",
   "execution_count": 35,
   "metadata": {},
   "outputs": [],
   "source": [
    "accuracy_tuple = []\n",
    "for iter in range(5):\n",
    "    testrows = []\n",
    "    while(len(testrows)!=100):\n",
    "        a = random.randint(0,len(data))\n",
    "        if(a not in testrows):\n",
    "            testrows.append(a)\n",
    "    testr = []\n",
    "    for i in testrows:\n",
    "        testr.append(list(data.loc[i]))\n",
    "    outp = []\n",
    "    eucdist = []\n",
    "    i = 0\n",
    "    for row in testr:\n",
    " \n",
    "        dist = euclid(row, i);\n",
    "        m1 = dist.index(min(dist));\n",
    "        dist[m1] = math.inf;\n",
    "        m2 = dist.index(min(dist));\n",
    "        dist[m2] = math.inf;\n",
    "        m3 = dist.index(min(dist));\n",
    "        dist[m3] = math.inf;\n",
    "  \n",
    "        out = mode(data['P. Habitable Class'][m1], data['P. Habitable Class'][m2], data['P. Habitable Class'][m3])\n",
    "        outputval.append(out);\n",
    "        eucdist.append(out == row[4]);\n",
    "        #print(str(len(dist))+\" \"+str(len(data)));\n",
    "    \n",
    "        i = i + 1;\n",
    "    count = 0;\n",
    "    for k in eucdist:\n",
    "        if(k == True):\n",
    "            count = count + 1\n",
    "    accuracy_tuple.append(count/len(eucdist))\n",
    "        "
   ]
  },
  {
   "cell_type": "code",
   "execution_count": 36,
   "metadata": {},
   "outputs": [
    {
     "name": "stdout",
     "output_type": "stream",
     "text": [
      "[0.98, 0.98, 0.98, 0.99, 1.0]\n"
     ]
    }
   ],
   "source": [
    "print(accuracy_tuple)"
   ]
  },
  {
   "cell_type": "code",
   "execution_count": 39,
   "metadata": {},
   "outputs": [
    {
     "name": "stdout",
     "output_type": "stream",
     "text": [
      "98.6\n"
     ]
    }
   ],
   "source": [
    "accuracy = np.mean(accuracy_tuple)*100\n",
    "print(accuracy)\n"
   ]
  },
  {
   "cell_type": "code",
   "execution_count": null,
   "metadata": {},
   "outputs": [],
   "source": []
  }
 ],
 "metadata": {
  "kernelspec": {
   "display_name": "Python 3",
   "language": "python",
   "name": "python3"
  },
  "language_info": {
   "codemirror_mode": {
    "name": "ipython",
    "version": 3
   },
   "file_extension": ".py",
   "mimetype": "text/x-python",
   "name": "python",
   "nbconvert_exporter": "python",
   "pygments_lexer": "ipython3",
   "version": "3.7.0"
  }
 },
 "nbformat": 4,
 "nbformat_minor": 2
}
