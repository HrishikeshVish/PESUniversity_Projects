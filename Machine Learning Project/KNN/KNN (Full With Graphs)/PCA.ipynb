{
 "cells": [
  {
   "cell_type": "code",
   "execution_count": 1,
   "metadata": {},
   "outputs": [],
   "source": [
    "import pandas as pd\n",
    "import numpy as np\n",
    "from sklearn.preprocessing import StandardScaler\n",
    "from matplotlib import*\n",
    "import matplotlib.pyplot as plt\n",
    "from matplotlib.cm import register_cmap\n",
    "from scipy import stats\n",
    "from sklearn.decomposition import PCA as sklearnPCA\n",
    "import seaborn\n"
   ]
  },
  {
   "cell_type": "code",
   "execution_count": 2,
   "metadata": {},
   "outputs": [],
   "source": [
    "data = pd.read_csv(\"cleaninput.csv\", low_memory = False);\n",
    "data = data.drop('P. Name', 1);\n",
    "data = data.drop('P. Disc. Method',1);\n",
    "data = data.drop('P. Confirmed', 1);\n",
    "data = data.drop('P. Hab Moon', 1);\n",
    "data = data.drop('P. Habitable', 1);\n",
    "data = data.drop('S. HabCat', 1);\n",
    "data = data.drop('S. Type', 1);\n",
    "data = data.drop('S. Constellation', 1);\n",
    "data.to_csv('knn.csv');"
   ]
  },
  {
   "cell_type": "code",
   "execution_count": 3,
   "metadata": {},
   "outputs": [
    {
     "name": "stdout",
     "output_type": "stream",
     "text": [
      "1    3220\n",
      "2     341\n",
      "3     229\n",
      "Name: P. Zone Class, dtype: int64\n"
     ]
    }
   ],
   "source": [
    "zoneclass = {'Hot':1, 'Cold':2, 'Warm':3};\n",
    "data['P. Zone Class'] = [zoneclass[item] for item in data['P. Zone Class']];\n",
    "print(data['P. Zone Class'].value_counts())"
   ]
  },
  {
   "cell_type": "code",
   "execution_count": 4,
   "metadata": {},
   "outputs": [
    {
     "name": "stdout",
     "output_type": "stream",
     "text": [
      "1    1205\n",
      "2     990\n",
      "3     808\n",
      "4     710\n",
      "5      72\n",
      "6       5\n",
      "Name: P. Mass Class, dtype: int64\n"
     ]
    }
   ],
   "source": [
    "massclass = {'Jovian':1, 'Superterran':2, 'Neptunian':3, 'Terran':4, 'Subterran':5, 'Mercurian':6};\n",
    "data['P. Mass Class'] = [massclass[item] for item in data['P. Mass Class']];\n",
    "print(data['P. Mass Class'].value_counts())"
   ]
  },
  {
   "cell_type": "code",
   "execution_count": 5,
   "metadata": {},
   "outputs": [
    {
     "name": "stdout",
     "output_type": "stream",
     "text": [
      "1    2041\n",
      "2    1663\n",
      "3      45\n",
      "4      24\n",
      "5      17\n",
      "Name: P. Composition Class, dtype: int64\n"
     ]
    }
   ],
   "source": [
    "compclass = {'gas':1, 'rocky-iron':2, 'rocky-water':3, 'water-gas':4, 'iron':5};\n",
    "data['P. Composition Class'] = [compclass[item] for item in data['P. Composition Class']];\n",
    "print(data['P. Composition Class'].value_counts())"
   ]
  },
  {
   "cell_type": "code",
   "execution_count": 6,
   "metadata": {},
   "outputs": [
    {
     "name": "stdout",
     "output_type": "stream",
     "text": [
      "1    2372\n",
      "2    1041\n",
      "3     377\n",
      "Name: P. Atmosphere Class, dtype: int64\n"
     ]
    }
   ],
   "source": [
    "atclass = {'metals-rich':1, 'hydrogen-rich':2, 'no-atmosphere':3};\n",
    "data['P. Atmosphere Class'] = [atclass[item] for item in data['P. Atmosphere Class']];\n",
    "print(data['P. Atmosphere Class'].value_counts())"
   ]
  },
  {
   "cell_type": "code",
   "execution_count": 7,
   "metadata": {},
   "outputs": [
    {
     "name": "stdout",
     "output_type": "stream",
     "text": [
      "0    3735\n",
      "1      55\n",
      "Name: P. Habitable Class, dtype: int64\n"
     ]
    }
   ],
   "source": [
    "habclass = {'non-habitable':0, 'mesoplanet':1, 'psychroplanet':1, 'hypopsychroplanet':1, 'thermoplanet':1};\n",
    "data['P. Habitable Class'] = [habclass[item] for item in data['P. Habitable Class']];\n",
    "print(data['P. Habitable Class'].value_counts())"
   ]
  },
  {
   "cell_type": "code",
   "execution_count": 8,
   "metadata": {},
   "outputs": [],
   "source": [
    "data.to_csv('knn.csv');"
   ]
  },
  {
   "cell_type": "code",
   "execution_count": 9,
   "metadata": {},
   "outputs": [],
   "source": [
    "data = data.drop('P. Habitable Class',1);\n",
    "data.to_csv('knn.csv');"
   ]
  },
  {
   "cell_type": "code",
   "execution_count": 10,
   "metadata": {},
   "outputs": [
    {
     "name": "stdout",
     "output_type": "stream",
     "text": [
      "['P. Zone Class', 'P. Mass Class', 'P. Composition Class', 'P. Atmosphere Class', 'P. Mass (EU)', 'P. Radius (EU)', 'P. Density (EU)', 'P. Gravity (EU)', 'P. Esc Vel (EU)', 'P. SFlux Min (EU)', 'P. SFlux Mean (EU)', 'P. SFlux Max (EU)', 'P. Teq Min (K)', 'P. Teq Mean (K)', 'P. Teq Max (K)', 'P. Surf Press (EU)', 'P. Mag', 'P. Appar Size (deg)', 'P. Period (days)', 'P. Sem Major Axis (AU)', 'P. Eccentricity', 'P. Mean Distance (AU)', 'P. Omega (deg)', 'S. Mass (SU)', 'S. Radius (SU)', 'S. Teff (K)', 'S. Luminosity (SU)', 'S. [Fe/H]', 'S. Age (Gyrs)', 'S. Appar Mag', 'S. Distance (pc)', 'S. RA (hrs)', 'S. DEC (deg)', 'S. Mag from Planet', 'S. Size from Planet (deg)', 'S. No. Planets', 'S. No. Planets HZ', 'S. Hab Zone Min (AU)', 'S. Hab Zone Max (AU)', 'P. HZD', 'P. HZC', 'P. HZA', 'P. HZI', 'P. ESI']\n"
     ]
    }
   ],
   "source": [
    "features = list(data);\n",
    "print(features)"
   ]
  },
  {
   "cell_type": "code",
   "execution_count": 11,
   "metadata": {},
   "outputs": [],
   "source": [
    "x = data.loc[:,features].values\n",
    "x = StandardScaler().fit_transform(x)"
   ]
  },
  {
   "cell_type": "code",
   "execution_count": 21,
   "metadata": {},
   "outputs": [],
   "source": [
    "pca = sklearnPCA(n_components=0.95);"
   ]
  },
  {
   "cell_type": "code",
   "execution_count": 24,
   "metadata": {},
   "outputs": [],
   "source": [
    "principalComponents = pca.fit_transform(x)\n",
    "principalDf = pd.DataFrame(data = principalComponents, columns = ['principal component 1', 'principal component 2', 'principal component 3', 'principal component 4', 'principal component 5', 'principal component 6', 'principal component 7', 'principal component 8', 'principal component 9', 'principal component 10', 'principal component 11', 'principal component 12', 'principal component 13', 'principal component 14', 'principal component 15', 'principal component 16', 'principal component 17', 'principal component 18', 'principal component 19', 'principal component 20', 'principal component 21', 'principal component 22'])\n",
    "#principalDf = pd.DataFrame(data = principalComponents, columns = ['principal component 1', 'principal component 2'])"
   ]
  },
  {
   "cell_type": "code",
   "execution_count": 25,
   "metadata": {},
   "outputs": [
    {
     "name": "stdout",
     "output_type": "stream",
     "text": [
      "['principal component 1', 'principal component 2', 'principal component 3', 'principal component 4', 'principal component 5', 'principal component 6', 'principal component 7', 'principal component 8', 'principal component 9', 'principal component 10', 'principal component 11', 'principal component 12', 'principal component 13', 'principal component 14', 'principal component 15', 'principal component 16', 'principal component 17', 'principal component 18', 'principal component 19', 'principal component 20', 'principal component 21', 'principal component 22']\n"
     ]
    }
   ],
   "source": [
    "print(list(principalDf))"
   ]
  },
  {
   "cell_type": "code",
   "execution_count": 26,
   "metadata": {},
   "outputs": [
    {
     "name": "stdout",
     "output_type": "stream",
     "text": [
      "<class 'pandas.core.frame.DataFrame'>\n"
     ]
    }
   ],
   "source": [
    "print(type(principalDf))"
   ]
  },
  {
   "cell_type": "code",
   "execution_count": 27,
   "metadata": {},
   "outputs": [
    {
     "name": "stdout",
     "output_type": "stream",
     "text": [
      "      principal component 1  principal component 2  principal component 3  \\\n",
      "0                  7.539052              -4.033940               3.103207   \n",
      "1                  6.134002              -2.623392               2.697800   \n",
      "2                  6.575255              -4.983497               3.281085   \n",
      "3                  7.224401              -4.898131               3.982100   \n",
      "4                  7.523357              -5.618420               3.731362   \n",
      "...                     ...                    ...                    ...   \n",
      "3785               1.067795               1.423350              -0.166482   \n",
      "3786               1.651383               1.593434              -0.451697   \n",
      "3787              -2.033709              -2.838396              -0.046015   \n",
      "3788              -2.061626              -3.285574              -0.156554   \n",
      "3789              -2.114570              -3.756253              -0.297917   \n",
      "\n",
      "      principal component 4  principal component 5  principal component 6  \\\n",
      "0                 -0.701959              -1.049962              -3.246356   \n",
      "1                  0.045341              -1.013907               0.403023   \n",
      "2                 -0.667648              -0.422749              -1.706750   \n",
      "3                  0.092589              -0.696283              -0.869267   \n",
      "4                 -1.180884              -0.668274              -2.753975   \n",
      "...                     ...                    ...                    ...   \n",
      "3785              -1.597868              -0.789169               0.149337   \n",
      "3786              -2.116940              -0.444984               0.640794   \n",
      "3787              -0.241250               0.714377               0.418423   \n",
      "3788              -0.200385               1.016148               0.509109   \n",
      "3789              -0.164306               1.400724               0.674509   \n",
      "\n",
      "      principal component 7  principal component 8  principal component 9  \\\n",
      "0                 -1.146447              -0.721226              -1.117216   \n",
      "1                 -1.752108               0.310654              -0.600232   \n",
      "2                 -0.911116               1.095573              -0.803374   \n",
      "3                 -1.199269               1.239335              -0.761240   \n",
      "4                 -0.555461               1.702109              -0.930572   \n",
      "...                     ...                    ...                    ...   \n",
      "3785               0.016826              -0.216357               0.818143   \n",
      "3786               0.742334              -0.058156               1.014259   \n",
      "3787               1.771974               0.973343               0.389858   \n",
      "3788               1.770521               0.922672               0.400832   \n",
      "3789               1.871307               0.892444               0.404247   \n",
      "\n",
      "      principal component 10  ...  principal component 13  \\\n",
      "0                  -0.359572  ...                1.674410   \n",
      "1                   0.215942  ...                2.118149   \n",
      "2                  -1.681966  ...                2.826040   \n",
      "3                  -1.359333  ...                2.710211   \n",
      "4                  -3.025712  ...                0.821984   \n",
      "...                      ...  ...                     ...   \n",
      "3785               -0.789225  ...                0.425340   \n",
      "3786               -1.043493  ...                0.669386   \n",
      "3787               -2.800517  ...                1.265239   \n",
      "3788               -2.755377  ...                1.390481   \n",
      "3789               -2.713659  ...                1.577645   \n",
      "\n",
      "      principal component 14  principal component 15  principal component 16  \\\n",
      "0                  -1.529682               -1.137925                1.694177   \n",
      "1                  -1.972856               -1.230319                0.297755   \n",
      "2                  -1.193559               -2.462901                0.313056   \n",
      "3                  -2.290861               -2.019324                0.274207   \n",
      "4                  -1.591169               -1.549949                0.670798   \n",
      "...                      ...                     ...                     ...   \n",
      "3785                0.383896                0.634034               -0.388053   \n",
      "3786                0.535456                1.141723                0.000657   \n",
      "3787               -0.338199               -1.679547               -0.429073   \n",
      "3788               -0.328809               -1.456631               -0.544816   \n",
      "3789               -0.338393               -1.107182               -0.771614   \n",
      "\n",
      "      principal component 17  principal component 18  principal component 19  \\\n",
      "0                  -0.920219               -1.284780               -1.692853   \n",
      "1                  -0.594628               -0.226184               -1.467466   \n",
      "2                  -1.965863               -0.706564               -0.400171   \n",
      "3                  -2.051962               -0.700003               -0.084617   \n",
      "4                  -2.580366               -1.461851               -0.362488   \n",
      "...                      ...                     ...                     ...   \n",
      "3785                0.463781                0.542606                0.955400   \n",
      "3786                2.056240                0.390540                2.191714   \n",
      "3787               -0.986770                1.138246               -0.136838   \n",
      "3788               -0.926192                1.236513               -0.151910   \n",
      "3789               -0.688579                1.390831               -0.158436   \n",
      "\n",
      "      principal component 20  principal component 21  principal component 22  \n",
      "0                   0.232829                0.207903                0.557140  \n",
      "1                  -0.262779               -0.510359                0.131123  \n",
      "2                   0.239182                0.239623                0.686185  \n",
      "3                  -0.208505                0.330956                0.812405  \n",
      "4                   0.408011                0.489447                0.589810  \n",
      "...                      ...                     ...                     ...  \n",
      "3785                0.109903                0.766557                0.537013  \n",
      "3786               -0.027439                0.093007                1.058718  \n",
      "3787               -0.347648                0.306365                0.666536  \n",
      "3788               -0.298880                0.426886                0.594184  \n",
      "3789               -0.122882                0.719713                0.527623  \n",
      "\n",
      "[3790 rows x 22 columns]\n"
     ]
    }
   ],
   "source": [
    "print(principalDf)"
   ]
  },
  {
   "cell_type": "code",
   "execution_count": 28,
   "metadata": {},
   "outputs": [
    {
     "name": "stdout",
     "output_type": "stream",
     "text": [
      "      P. Zone Class  P. Mass Class  P. Composition Class  P. Atmosphere Class  \\\n",
      "0                 2              1                     1                    2   \n",
      "1                 2              1                     1                    2   \n",
      "2                 2              1                     1                    2   \n",
      "3                 2              1                     1                    2   \n",
      "4                 2              1                     1                    2   \n",
      "...             ...            ...                   ...                  ...   \n",
      "3785              1              1                     1                    1   \n",
      "3786              1              1                     1                    1   \n",
      "3787              1              4                     2                    1   \n",
      "3788              1              4                     2                    1   \n",
      "3789              1              4                     2                    1   \n",
      "\n",
      "      P. Mass (EU)  P. Radius (EU)  P. Density (EU)  P. Gravity (EU)  \\\n",
      "0          4451.16           19.04             0.64            12.28   \n",
      "1          6358.80           10.94             4.86            53.12   \n",
      "2          4133.22           11.40             2.79            31.79   \n",
      "3          6358.80           11.20             4.53            50.69   \n",
      "4          4419.37           16.13             1.05            16.99   \n",
      "...            ...             ...              ...              ...   \n",
      "3785        108.10            7.97             0.21             1.70   \n",
      "3786        127.18            8.34             0.22             1.83   \n",
      "3787          0.76            0.96             0.86             0.83   \n",
      "3788          0.99            1.04             0.88             0.91   \n",
      "3789          1.14            1.09             0.89             0.97   \n",
      "\n",
      "      P. Esc Vel (EU)  P. SFlux Min (EU)  ...  S. Size from Planet (deg)  \\\n",
      "0               15.29       4.080000e-06  ...                     0.0022   \n",
      "1               24.11       2.166914e-02  ...                     0.1353   \n",
      "2               19.04       3.960000e-06  ...                     0.0024   \n",
      "3               23.83       1.030000e-05  ...                     0.0039   \n",
      "4               16.55       2.370000e-07  ...                     0.0009   \n",
      "...               ...                ...  ...                        ...   \n",
      "3785             3.68       1.247097e+02  ...                     7.6013   \n",
      "3786             3.91       1.202813e+02  ...                     8.9947   \n",
      "3787             0.89       9.110547e+00  ...                     5.7526   \n",
      "3788             0.97       4.674975e+00  ...                     4.2882   \n",
      "3789             1.03       2.268338e+00  ...                     3.2669   \n",
      "\n",
      "      S. No. Planets  S. No. Planets HZ  S. Hab Zone Min (AU)  \\\n",
      "0                  1                  0                 0.540   \n",
      "1                  1                  0                 0.461   \n",
      "2                  1                  0                 0.136   \n",
      "3                  1                  0                 0.136   \n",
      "4                  1                  0                 0.062   \n",
      "...              ...                ...                   ...   \n",
      "3785               1                  0                 0.743   \n",
      "3786               1                  0                 0.658   \n",
      "3787               3                  0                 0.039   \n",
      "3788               3                  0                 0.039   \n",
      "3789               3                  0                 0.039   \n",
      "\n",
      "      S. Hab Zone Max (AU)   P. HZD  P. HZC  P. HZA  P. HZI  P. ESI  \n",
      "0                    1.362   800.07   23.51   85.62    0.00    0.05  \n",
      "1                    1.143     9.07   15.30   45.41    0.02    0.07  \n",
      "2                    0.347   793.67   12.57  107.44    0.00    0.06  \n",
      "3                    0.347   490.45   15.72  119.46    0.00    0.08  \n",
      "4                    0.165  3028.82   19.46  133.25    0.00    0.06  \n",
      "...                    ...      ...     ...     ...     ...     ...  \n",
      "3785                 1.751    -2.33    5.02    0.57    0.15    0.16  \n",
      "3786                 1.552    -2.34    5.23    0.62    0.15    0.15  \n",
      "3787                 0.102    -1.72   -0.17   -0.91    0.34    0.43  \n",
      "3788                 0.102    -1.56   -0.17   -0.77    0.36    0.53  \n",
      "3789                 0.102    -1.34   -0.17   -0.64    0.40    0.65  \n",
      "\n",
      "[3790 rows x 44 columns]\n"
     ]
    }
   ],
   "source": [
    "print(data)"
   ]
  },
  {
   "cell_type": "code",
   "execution_count": 29,
   "metadata": {},
   "outputs": [
    {
     "name": "stdout",
     "output_type": "stream",
     "text": [
      "[0.19623322 0.15553085 0.08797298 0.07181751 0.06464863 0.0546466\n",
      " 0.04053799 0.03412529 0.02856197 0.02606194 0.02469109 0.02255784\n",
      " 0.02185896 0.02104855 0.01934832 0.01602558 0.01475946 0.01292075\n",
      " 0.01192884 0.01148124 0.01043492 0.01022655]\n"
     ]
    }
   ],
   "source": [
    "print(pca.explained_variance_ratio_)"
   ]
  },
  {
   "cell_type": "code",
   "execution_count": 30,
   "metadata": {},
   "outputs": [],
   "source": [
    "principalDf.to_csv('PCA.csv')"
   ]
  },
  {
   "cell_type": "code",
   "execution_count": null,
   "metadata": {},
   "outputs": [],
   "source": []
  }
 ],
 "metadata": {
  "kernelspec": {
   "display_name": "Python 3",
   "language": "python",
   "name": "python3"
  },
  "language_info": {
   "codemirror_mode": {
    "name": "ipython",
    "version": 3
   },
   "file_extension": ".py",
   "mimetype": "text/x-python",
   "name": "python",
   "nbconvert_exporter": "python",
   "pygments_lexer": "ipython3",
   "version": "3.7.0"
  }
 },
 "nbformat": 4,
 "nbformat_minor": 2
}
