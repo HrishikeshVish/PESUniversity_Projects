{
 "cells": [
  {
   "cell_type": "code",
   "execution_count": 2,
   "metadata": {},
   "outputs": [],
   "source": [
    "import pandas as pd\n",
    "import numpy as np\n",
    "import math"
   ]
  },
  {
   "cell_type": "code",
   "execution_count": 3,
   "metadata": {},
   "outputs": [
    {
     "name": "stdout",
     "output_type": "stream",
     "text": [
      "['P. Name', 'P. Zone Class', 'P. Mass Class', 'P. Composition Class', 'P. Atmosphere Class', 'P. Habitable Class', 'P. Mass (EU)', 'P. Radius (EU)', 'P. Density (EU)', 'P. Gravity (EU)', 'P. Esc Vel (EU)', 'P. SFlux Min (EU)', 'P. SFlux Mean (EU)', 'P. SFlux Max (EU)', 'P. Teq Min (K)', 'P. Teq Mean (K)', 'P. Teq Max (K)', 'P. Surf Press (EU)', 'P. Mag', 'P. Appar Size (deg)', 'P. Period (days)', 'P. Sem Major Axis (AU)', 'P. Eccentricity', 'P. Mean Distance (AU)', 'P. Omega (deg)', 'S. Constellation', 'S. Type', 'S. Mass (SU)', 'S. Radius (SU)', 'S. Teff (K)', 'S. Luminosity (SU)', 'S. [Fe/H]', 'S. Age (Gyrs)', 'S. Appar Mag', 'S. Distance (pc)', 'S. RA (hrs)', 'S. DEC (deg)', 'S. Mag from Planet', 'S. Size from Planet (deg)', 'S. No. Planets', 'S. No. Planets HZ', 'S. Hab Zone Min (AU)', 'S. Hab Zone Max (AU)', 'P. HZD', 'P. HZC', 'P. HZA', 'P. HZI', 'P. ESI', 'S. HabCat', 'P. Habitable', 'P. Hab Moon', 'P. Confirmed', 'P. Disc. Method']\n"
     ]
    }
   ],
   "source": [
    "data = pd.read_csv(\"cleaninput.csv\", low_memory = False);\n",
    "cols = list(data);\n",
    "print(cols);"
   ]
  },
  {
   "cell_type": "code",
   "execution_count": null,
   "metadata": {},
   "outputs": [],
   "source": []
  },
  {
   "cell_type": "code",
   "execution_count": 4,
   "metadata": {},
   "outputs": [],
   "source": [
    "data = data.drop('P. Name', 1);"
   ]
  },
  {
   "cell_type": "code",
   "execution_count": 5,
   "metadata": {},
   "outputs": [],
   "source": [
    "data = data.drop('P. Disc. Method',1);\n",
    "data = data.drop('P. Confirmed', 1);\n",
    "data = data.drop('P. Hab Moon', 1);\n",
    "data = data.drop('P. Habitable', 1);\n",
    "data = data.drop('S. HabCat', 1);\n",
    "data = data.drop('S. Type', 1);\n",
    "data = data.drop('S. Constellation', 1);\n",
    "data.to_csv('knn.csv');"
   ]
  },
  {
   "cell_type": "code",
   "execution_count": 6,
   "metadata": {},
   "outputs": [
    {
     "name": "stdout",
     "output_type": "stream",
     "text": [
      "['P. Zone Class', 'P. Mass Class', 'P. Composition Class', 'P. Atmosphere Class', 'P. Habitable Class', 'P. Mass (EU)', 'P. Radius (EU)', 'P. Density (EU)', 'P. Gravity (EU)', 'P. Esc Vel (EU)', 'P. SFlux Min (EU)', 'P. SFlux Mean (EU)', 'P. SFlux Max (EU)', 'P. Teq Min (K)', 'P. Teq Mean (K)', 'P. Teq Max (K)', 'P. Surf Press (EU)', 'P. Mag', 'P. Appar Size (deg)', 'P. Period (days)', 'P. Sem Major Axis (AU)', 'P. Eccentricity', 'P. Mean Distance (AU)', 'P. Omega (deg)', 'S. Mass (SU)', 'S. Radius (SU)', 'S. Teff (K)', 'S. Luminosity (SU)', 'S. [Fe/H]', 'S. Age (Gyrs)', 'S. Appar Mag', 'S. Distance (pc)', 'S. RA (hrs)', 'S. DEC (deg)', 'S. Mag from Planet', 'S. Size from Planet (deg)', 'S. No. Planets', 'S. No. Planets HZ', 'S. Hab Zone Min (AU)', 'S. Hab Zone Max (AU)', 'P. HZD', 'P. HZC', 'P. HZA', 'P. HZI', 'P. ESI']\n"
     ]
    }
   ],
   "source": [
    "cols = list(data);\n",
    "print(cols);"
   ]
  },
  {
   "cell_type": "code",
   "execution_count": 7,
   "metadata": {},
   "outputs": [
    {
     "name": "stdout",
     "output_type": "stream",
     "text": [
      "Hot     3220\n",
      "Cold     341\n",
      "Warm     229\n",
      "Name: P. Zone Class, dtype: int64\n"
     ]
    }
   ],
   "source": [
    "print(data['P. Zone Class'].value_counts())"
   ]
  },
  {
   "cell_type": "code",
   "execution_count": 8,
   "metadata": {},
   "outputs": [
    {
     "name": "stdout",
     "output_type": "stream",
     "text": [
      "1    3220\n",
      "2     341\n",
      "3     229\n",
      "Name: P. Zone Class, dtype: int64\n"
     ]
    }
   ],
   "source": [
    "zoneclass = {'Hot':1, 'Cold':2, 'Warm':3};\n",
    "data['P. Zone Class'] = [zoneclass[item] for item in data['P. Zone Class']];\n",
    "print(data['P. Zone Class'].value_counts())"
   ]
  },
  {
   "cell_type": "code",
   "execution_count": 9,
   "metadata": {},
   "outputs": [
    {
     "name": "stdout",
     "output_type": "stream",
     "text": [
      "Jovian         1205\n",
      "Superterran     990\n",
      "Neptunian       808\n",
      "Terran          710\n",
      "Subterran        72\n",
      "Mercurian         5\n",
      "Name: P. Mass Class, dtype: int64\n"
     ]
    }
   ],
   "source": [
    "print(data['P. Mass Class'].value_counts())"
   ]
  },
  {
   "cell_type": "code",
   "execution_count": 10,
   "metadata": {},
   "outputs": [
    {
     "name": "stdout",
     "output_type": "stream",
     "text": [
      "1    1205\n",
      "2     990\n",
      "3     808\n",
      "4     710\n",
      "5      72\n",
      "6       5\n",
      "Name: P. Mass Class, dtype: int64\n"
     ]
    }
   ],
   "source": [
    "massclass = {'Jovian':1, 'Superterran':2, 'Neptunian':3, 'Terran':4, 'Subterran':5, 'Mercurian':6};\n",
    "data['P. Mass Class'] = [massclass[item] for item in data['P. Mass Class']];\n",
    "print(data['P. Mass Class'].value_counts())"
   ]
  },
  {
   "cell_type": "code",
   "execution_count": 11,
   "metadata": {},
   "outputs": [
    {
     "name": "stdout",
     "output_type": "stream",
     "text": [
      "gas            2041\n",
      "rocky-iron     1663\n",
      "rocky-water      45\n",
      "water-gas        24\n",
      "iron             17\n",
      "Name: P. Composition Class, dtype: int64\n"
     ]
    }
   ],
   "source": [
    "print(data['P. Composition Class'].value_counts())"
   ]
  },
  {
   "cell_type": "code",
   "execution_count": 12,
   "metadata": {},
   "outputs": [
    {
     "name": "stdout",
     "output_type": "stream",
     "text": [
      "1    2041\n",
      "2    1663\n",
      "3      45\n",
      "4      24\n",
      "5      17\n",
      "Name: P. Composition Class, dtype: int64\n"
     ]
    }
   ],
   "source": [
    "compclass = {'gas':1, 'rocky-iron':2, 'rocky-water':3, 'water-gas':4, 'iron':5};\n",
    "data['P. Composition Class'] = [compclass[item] for item in data['P. Composition Class']];\n",
    "print(data['P. Composition Class'].value_counts())"
   ]
  },
  {
   "cell_type": "code",
   "execution_count": 13,
   "metadata": {},
   "outputs": [
    {
     "name": "stdout",
     "output_type": "stream",
     "text": [
      "metals-rich      2372\n",
      "hydrogen-rich    1041\n",
      "no-atmosphere     377\n",
      "Name: P. Atmosphere Class, dtype: int64\n"
     ]
    }
   ],
   "source": [
    "print(data['P. Atmosphere Class'].value_counts())"
   ]
  },
  {
   "cell_type": "code",
   "execution_count": 14,
   "metadata": {},
   "outputs": [
    {
     "name": "stdout",
     "output_type": "stream",
     "text": [
      "1    2372\n",
      "2    1041\n",
      "3     377\n",
      "Name: P. Atmosphere Class, dtype: int64\n"
     ]
    }
   ],
   "source": [
    "atclass = {'metals-rich':1, 'hydrogen-rich':2, 'no-atmosphere':3};\n",
    "data['P. Atmosphere Class'] = [atclass[item] for item in data['P. Atmosphere Class']];\n",
    "print(data['P. Atmosphere Class'].value_counts())"
   ]
  },
  {
   "cell_type": "code",
   "execution_count": 15,
   "metadata": {},
   "outputs": [
    {
     "name": "stdout",
     "output_type": "stream",
     "text": [
      "non-habitable        3735\n",
      "mesoplanet             31\n",
      "psychroplanet          18\n",
      "hypopsychroplanet       3\n",
      "thermoplanet            3\n",
      "Name: P. Habitable Class, dtype: int64\n"
     ]
    }
   ],
   "source": [
    "print(data['P. Habitable Class'].value_counts())"
   ]
  },
  {
   "cell_type": "code",
   "execution_count": 16,
   "metadata": {},
   "outputs": [
    {
     "name": "stdout",
     "output_type": "stream",
     "text": [
      "0    3735\n",
      "1      55\n",
      "Name: P. Habitable Class, dtype: int64\n"
     ]
    }
   ],
   "source": [
    "habclass = {'non-habitable':0, 'mesoplanet':1, 'psychroplanet':1, 'hypopsychroplanet':1, 'thermoplanet':1};\n",
    "data['P. Habitable Class'] = [habclass[item] for item in data['P. Habitable Class']];\n",
    "print(data['P. Habitable Class'].value_counts())"
   ]
  },
  {
   "cell_type": "code",
   "execution_count": 17,
   "metadata": {},
   "outputs": [],
   "source": [
    "data.to_csv('knn.csv');"
   ]
  },
  {
   "cell_type": "code",
   "execution_count": 18,
   "metadata": {},
   "outputs": [
    {
     "name": "stdout",
     "output_type": "stream",
     "text": [
      "['P. Zone Class', 'P. Mass Class', 'P. Composition Class', 'P. Atmosphere Class', 'P. Habitable Class', 'P. Mass (EU)', 'P. Radius (EU)', 'P. Density (EU)', 'P. Gravity (EU)', 'P. Esc Vel (EU)', 'P. SFlux Min (EU)', 'P. SFlux Mean (EU)', 'P. SFlux Max (EU)', 'P. Teq Min (K)', 'P. Teq Mean (K)', 'P. Teq Max (K)', 'P. Surf Press (EU)', 'P. Mag', 'P. Appar Size (deg)', 'P. Period (days)', 'P. Sem Major Axis (AU)', 'P. Eccentricity', 'P. Mean Distance (AU)', 'P. Omega (deg)', 'S. Mass (SU)', 'S. Radius (SU)', 'S. Teff (K)', 'S. Luminosity (SU)', 'S. [Fe/H]', 'S. Age (Gyrs)', 'S. Appar Mag', 'S. Distance (pc)', 'S. RA (hrs)', 'S. DEC (deg)', 'S. Mag from Planet', 'S. Size from Planet (deg)', 'S. No. Planets', 'S. No. Planets HZ', 'S. Hab Zone Min (AU)', 'S. Hab Zone Max (AU)', 'P. HZD', 'P. HZC', 'P. HZA', 'P. HZI', 'P. ESI']\n"
     ]
    }
   ],
   "source": [
    "print(cols)"
   ]
  },
  {
   "cell_type": "code",
   "execution_count": 19,
   "metadata": {},
   "outputs": [],
   "source": [
    "cols.remove('P. Habitable Class');"
   ]
  },
  {
   "cell_type": "code",
   "execution_count": 20,
   "metadata": {},
   "outputs": [
    {
     "name": "stdout",
     "output_type": "stream",
     "text": [
      "['P. Zone Class', 'P. Mass Class', 'P. Composition Class', 'P. Atmosphere Class', 'P. Mass (EU)', 'P. Radius (EU)', 'P. Density (EU)', 'P. Gravity (EU)', 'P. Esc Vel (EU)', 'P. SFlux Min (EU)', 'P. SFlux Mean (EU)', 'P. SFlux Max (EU)', 'P. Teq Min (K)', 'P. Teq Mean (K)', 'P. Teq Max (K)', 'P. Surf Press (EU)', 'P. Mag', 'P. Appar Size (deg)', 'P. Period (days)', 'P. Sem Major Axis (AU)', 'P. Eccentricity', 'P. Mean Distance (AU)', 'P. Omega (deg)', 'S. Mass (SU)', 'S. Radius (SU)', 'S. Teff (K)', 'S. Luminosity (SU)', 'S. [Fe/H]', 'S. Age (Gyrs)', 'S. Appar Mag', 'S. Distance (pc)', 'S. RA (hrs)', 'S. DEC (deg)', 'S. Mag from Planet', 'S. Size from Planet (deg)', 'S. No. Planets', 'S. No. Planets HZ', 'S. Hab Zone Min (AU)', 'S. Hab Zone Max (AU)', 'P. HZD', 'P. HZC', 'P. HZA', 'P. HZI', 'P. ESI']\n"
     ]
    }
   ],
   "source": [
    "print(cols);"
   ]
  },
  {
   "cell_type": "code",
   "execution_count": 21,
   "metadata": {},
   "outputs": [],
   "source": [
    "def euclid(rows, remval):\n",
    "    value = 0;\n",
    "    loopcounter = 0;\n",
    "    fintuple = [];\n",
    "    allrows = data.itertuples(index = False);\n",
    "    allrows = list(allrows);\n",
    "    for k in allrows:\n",
    "        loopcounter = loopcounter + 1;\n",
    "        value = 0;\n",
    "        l = list(k);\n",
    "       \n",
    "        if(loopcounter == remval):\n",
    "            loopcounter = loopcounter + 1;\n",
    "            \n",
    "        else:\n",
    "            for j in range(len(rows)):\n",
    "                value+=(rows[j]-l[j])**2;\n",
    "            fintuple.append(math.sqrt(value));\n",
    "        \n",
    "            loopcounter = loopcounter + 1;\n",
    "            #print(loopcounter);\n",
    "    return fintuple "
   ]
  },
  {
   "cell_type": "code",
   "execution_count": 22,
   "metadata": {},
   "outputs": [],
   "source": [
    "def mode(a, b, c):\n",
    "    if(a==b and b==c):\n",
    "        return a\n",
    "    if(a==b):\n",
    "        return a\n",
    "    if(b==c):\n",
    "        return b\n",
    "    if(c ==a):\n",
    "        return c"
   ]
  },
  {
   "cell_type": "code",
   "execution_count": 23,
   "metadata": {},
   "outputs": [
    {
     "name": "stdout",
     "output_type": "stream",
     "text": [
      "[True, True, True, True, True, True, True, True, True, True, True, True, True, True, True, True, True, True, True, True, True, True, True, True, True, True, True, True, True, True, True, True, True, True, True, True, True, True, True, True, True, True, True, True, True, True, True, True, True, True, True, True, True, True, True, True, True, True, True, True, True, True, True, True, True, True, True, True, True, True, True, True, True, True, True, True, True, True, True, True, True, True, True, True, True, True, True, True, True, True, True, True, True, True, True, True, True, True, True, True, True, True, True, True, True, True, True, True, True, True, True, True, True, True, True, True, True, True, True, True, True, True, True, True, True, True, True, True, True, True, True, True, True, True, True, True, True, True, True, True, True, True, True, True, True, True, True, True, True, True, True, True, True, True, True, True, True, True, True, True, True, True, True, True, True, True, True, True, True, True, True, True, True, True, True, True, True, True, True, True, True, True, True, True, True, True, True, True, True, True, True, True, True, True, True, True, True, False, True, True, True, False, True, True, True, True, True, True, True, False, True, True, True, True, True, True, True, True, True, True, True, True, True, False, False, True, True, False, True, True, True, True, True, True, False, True, True, True, True, True, True, True, True, True, True, True, False, True, False, True, True, True, True, True, False, False, False, True, True, True, True, True, True, True, True, True, True, True, True, True, True, True, True, True, True, True, True, True, True, True, True, True, True, True, True, True, True, True, True, True, True, True, True, True, True, True, True, True, True, True, True, True, True, True, True, True, True, True, True, True, True, True, True, True, True, True, True, True, True, True, True, True, True, True, True, True, True, True, True, True, True, True, True, True, True, True, True, True, True, True, True, True, True, True, True, True, True, True, True, True, True, True, True, True, True, True, True, True, True, True, True, True, True, True, True, True, True, True, True, True, True, True, True, True, True, True, True, True, True, True, True, True, True, True, True, True, True, True, True, True, True, True, True, True, True, True, True, True, True, True, True, True, True, True, True, True, True, True, True, True, True, True, True, True, True, True, True, True, True, True, True, True, True, True, True, True, True, True, True, True, True, True, True, True, True, True, True, True, True, True, True, True, True, True, True, True, True, True, True, True, True, True, True, True, True, True, True, True, True, True, True, True, True, True, True, True, True, True, True, True, True, True, True, True, True, True, True, True, True, True, True, True, True, True, True, True, True, True, True, True, True, True, True, True, True, True, True, True, True, True, True, True, True, True, True, True, True, True, True, True, True, True, True, True, True, True, True, True, True, True, True, True, True, True, True, True, True, True, True, True, True, True, True, True, True, True, True, True, True, False, True, True, True, True, True, True, True, True, True, True, True, True, True, True, True, True, True, True, True, True, True, True, True, True, True, True, True, True, True, True, True, True, True, True, True, True, True, True, True, True, True, True, True, True, True, True, True, True, True, True, True, True, True, True, True, True, True, True, True, True, True, True, True, True, True, True, True, True, True, True, True, True, True, True, True, True, True, True, True, True, True, True, True, True, True, True, True, True, True, True, True, True, True, True, True, True, True, True, True, True, True, True, True, True, True, True, True, True, True, True, True, True, True, True, True, True, True, True, True, True, True, True, True, True, True, True, True, True, True, True, True, True, True, True, True, True, True, True, True, True, True, True, True, True, True, True, True, True, True, True, True, True, True, True, True, True, True, True, True, True, True, True, True, True, True, True, True, True, True, True, True, True, True, True, True, True, True, True, True, True, True, True, True, True, True, True, True, True, True, True, True, True, True, True, True, True, True, True, True, True, True, True, True, True, True, True, True, True, True, True, True, True, True, True, True, True, True, True, True, True, True, True, True, True, True, True, True, True, True, True, True, True, True, True, True, True, True, True, True, True, True, True, True, True, True, True, True, True, True, True, True, True, True, True, True, True, True, True, True, True, True, True, True, True, True, True, True, True, True, True, True, True, True, True, True, True, True, True, True, True, True, True, True, True, True, True, True, True, True, True, True, True, True, True, True, True, True, True, True, True, True, True, True, True, True, True, True, True, True, True, True, True, True, True, True, True, True, True, True, True, True, True, True, True, True, True, True, True, True, True, True, True, True, True, True, True, True, True, True, True, True, True, True, True, True, True, True, True, True, True, True, True, True, True, True, True, True, True, True, True, True, True, True, True, True, True, True, True, True, True, True, True, True, True, False, True, True, True, True, True, True, True, True, True, True, True, True, True, True, True, True, True, True, True, False, True, True, True, True, True, True, True, True, True, True, True, True, True, True, True, True, True, True, True, True, True, True, True, True, True, True, True, True, True, True, True, True, True, True, True, True, True, True, True, True, True, True, True, True, True, True, True, True, True, True, True, True, True, True, True, True, True, True, True, True, False, True, True, True, True, True, True, True, True, True, True, True, True, True, True, True, True, True, True, True, True, True, True, True, True, True, True, True, True, True, True, True, True, True, True, True, True, True, True, True, True, True, True, True, True, True, True, True, True, True, True, True, True, True, True, True, True, True, True, True, True, True, True, True, True, True, False, True, True, True, True, True, True, True, True, True, True, True, True, True, True, True, True, True, True, True, True, True, True, True, True, True, True, True, True, True, True, True, True, True, True, True, True, True, True, True, True, True, True, True, True, True, True, True, False, True, True, True, True, True, True, True, True, True, True, True, True, True, True, True, True, True, True, True, True, True, True, True, True, True, True, True, True, True, True, True, True, True, True, True, True, True, True, True, True, True, True, True, True, True, True, True, True, True, True, True, True, True, False, True, True, True, True, True, True, True, True, True, True, True, True, True, True, True, True, True, True, True, True, True, True, True, True, True, True, True, True, True, True, True, True, True, True, True, True, True, True, True, True, True, True, True, True, True, True, True, True, True, True, True, True, True, True, True, True, True, True, True, True, True, True, True, True, True, True, True, True, True, True, True, True, True, True, True, True, True, True, True, True, True, True, True, True, True, True, True, True, True, False, True, True, True, False, True, True, True, True, True, True, True, True, True, True, True, True, True, True, True, True, True, True, True, True, True, True, True, True, True, True, True, True, True, True, True, True, True, True, True, True, True, True, True, True, True, True, True, True, True, True, True, True, True, True, True, True, True, True, True, True, True, True, True, True, True, True, True, True, True, True, True, True, True, True, True, True, True, True, True, True, True, True, True, True, True, True, True, True, True, True, True, True, True, True, True, True, True, True, True, True, True, True, True, True, True, True, True, True, True, True, True, True, True, True, True, True, True, True, True, True, True, True, True, True, True, True, True, True, True, True, True, True, True, True, True, True, True, True, True, True, True, True, True, True, True, True, True, True, True, True, True, True, True, True, True, True, True, True, True, True, True, True, True, True, True, True, True, True, True, True, True, True, True, True, True, True, True, True, True, True, True, True, True, True, True, True, True, True, True, True, True, True, True, True, True, True, True, True, True, True, True, True, False, True, True, True, True, True, True, True, True, True, True, True, True, True, True, True, True, True, True, True, True, True, True, True, True, True, True, True, True, True, True, True, True, True, True, True, True, True, True, True, True, True, True, True, True, True, True, True, True, True, True, True, True, True, True, True, True, True, True, True, True, False, True, True, True, True, True, True, True, True, True, True, True, True, True, True, True, True, True, True, True, True, True, True, True, True, True, True, True, True, True, False, True, True, True, True, True, True, True, True, True, True, True, True, True, True, True, True, True, True, True, True, True, True, True, True, True, True, True, True, True, True, True, True, True, True, True, True, True, True, True, True, True, True, True, True, True, True, True, True, True, True, True, True, True, True, True, True, True, True, True, True, True, True, True, True, True, True, True, True, True, True, True, True, True, True, True, True, True, True, True, True, True, True, True, True, True, True, True, True, True, True, True, True, True, True, True, True, True, True, True, True, True, True, True, True, True, True, True, True, True, True, True, True, True, True, True, True, True, True, True, True, True, True, True, True, True, True, True, True, True, True, True, True, True, True, True, True, True, True, True, True, True, True, True, True, True, True, True, True, True, True, True, True, True, True, True, True, True, True, True, True, True, True, True, True, True, True, True, True, True, True, True, True, True, True, True, True, True, True, True, True, True, True, True, True, True, True, True, True, True, True, True, True, True, True, True, True, True, True, True, True, True, True, True, True, True, True, True, True, True, True, True, True, True, True, True, True, True, True, True, True, True, True, True, True, True, True, True, True, True, True, True, True, True, True, True, True, True, True, True, True, True, True, True, True, True, True, True, True, True, True, True, True, True, True, True, True, True, True, True, True, True, True, True, True, True, True, True, True, True, True, True, True, True, True, True, True, True, True, True, True, True, True, True, False, True, True, True, True, False, True, True, True, True, True, True, True, True, True, True, True, True, True, True, True, True, True, True, True, True, True, True, True, True, True, True, True, True, True, True, True, True, True, True, True, True, True, True, True, True, True, True, True, True, True, True, True, True, True, True, True, True, True, True, True, True, True, True, True, True, True, True, True, True, True, True, True, True, True, True, True, True, True, True, True, True, True, True, True, True, True, True, True, True, True, True, True, True, True, True, True, True, True, True, True, True, True, True, True, True, True, True, True, True, True, True, True, True, True, True, True, True, True, True, True, True, True, True, True, True, True, True, True, True, True, True, True, True, True, True, True, True, True, True, True, True, True, True, True, True, True, True, True, True, True, True, True, True, True, True, True, True, True, True, True, True, True, True, True, True, True, True, True, True, True, True, True, True, True, True, True, True, True, True, True, True, True, True, True, True, True, True, True, True, True, True, True, True, True, True, True, True, True, True, True, True, True, True, True, True, True, True, True, True, True, True, True, True, True, True, True, True, True, True, True, True, True, True, True, True, True, True, True, True, True, True, True, True, True, True, True, True, True, True, True, True, True, True, True, True, True, True, True, True, True, True, True, True, True, True, True, True, True, True, True, True, True, True, True, True, True, True, True, True, True, True, True, True, True, True, True, True, True, True, True, True, True, True, False, True, False, True, False, False, True, True, True, True, True, True, True, True, True, True, True, True, True, True, True, True, True, True, False, True, True, True, True, True, True, True, True, True, True, True, True, True, True, True, True, True, True, True, True, True, True, True, True, True, True, True, True, True, True, True, True, True, True, True, True, True, True, True, True, True, True, True, True, True, True, True, True, True, True, True, True, True, True, True, True, True, True, True, True, True, True, True, True, True, True, True, True, True, True, True, True, True, True, True, True, True, True, True, True, True, True, True, True, True, True, True, True, True, True, True, True, True, True, True, True, True, True, True, True, True, True, True, True, True, True, True, True, True, True, True, True, True, True, True, True, True, True, True, True, True, True, True, True, True, True, True, True, True, True, True, True, True, True, True, True, True, True, True, True, True, True, True, True, True, True, True, True, True, True, True, True, True, True, True, True, True, True, True, True, True, True, True, True, True, True, True, True, True, True, True, True, True, True, True, True, True, True, True, True, True, True, True, True, True, True, True, True, True, True, True, True, True, True, True, True, True, True, True, True, True, True, True, True, True, True, True, True, True, True, True, True, True, True, True, True, True, True, True, True, True, True, True, True, True, True, True, True, True, True, True, True, True, True, True, True, True, True, True, True, True, True, True, True, True, True, True, True, True, True, True, True, True, True, True, True, True, True, True, True, True, True, True, False, True, True, True, True, True, True, True, True, True, True, True, True, True, True, True, True, True, True, True, True, True, True, True, True, True, True, True, True, True, True, True, True, True, True, True, True, True, True, True, True, True, True, True, True, True, True, True, True, True, True, True, True, True, True, True, True, True, True, True, True, True, True, True, True, True, True, True, True, True, True, True, True, True, True, True, True, True, True, True, True, True, True, True, True, True, True, True, True, True, True, True, True, True, True, True, True, True, True, True, True, True, True, True, True, True, True, True, True, True, True, True, True, True, True, True, True, True, True, True, True, True, True, True, True, True, True, True, True, True, True, True, True, True, True, True, True, True, True, True, True, True, True, True, True, True, True, True, True, True, True, True, True, True, True, True, True, True, True, True, True, True, True, True, True, True, True, True, True, True, True, True, True, True, True, True, True, True, True, True, True, True, True, True, True, True, True, True, True, True, True, True, True, True, True, True, True, True, True, True, True, True, True, True, True, True, True, True, True, True, True, True, True, True, True, True, True, True, True, True, True, True, True, True, True, True, True, True, True, True, True, True, True, True, True, True, True, True, True, True, True, True, True, True, True, True, True, True, True, True, True, True, True, True, True, True, True, True, True, True, True, True, True, True, True, True, True, True, True, True, True, True, True, True, True, True, True, True, True, True, True, True, True, True, True, True, True, True, True, True, True, True, True, True, True, True, True, True, True, True, True, False, True, True, True, True, True, True, True, True, True, True, True, True, True, True, True, True, True, True, True, True, True, True, True, True, True, True, True, True, True, True, True, True, True, True, True, True, True, True, True, True, True, True, True, True, True, True, True, True, True, True, True, True, True, True, True, True, True, True, True, True, True, True, True, True, True, True, True, True, True, True, True, True, True, True, True, True, True, True, True, True, True, True, True, True, True, True, True, True, True, True, True, True, True, True, True, True, True, True, True, True, True, True, True, True, False, True, True, True, True, True, True, True, True, True, True, True, True, True, True, True, True, True, True, True, True, True, True, True, True, True, True, True, True, True, True, True, True, True, True, True, True, True, True, True, True, True, True, True, True, True, True, True, True, True, True, True, True, True, True, True, True, True, True, True, True, True, True, True, True, True, True, True, True, True, True, True, True, True, True, True, True, True, True, True, True, True, True, True, True, True, True, True, True, True, True, True, True, True, True, True, True, True, True, True, True, True, True, True, True, True, True, True, True, True, True, True, True, True, True, True, True, True, True, True, True, True, True, True, True, True, True, True, True, True, True, True, True, True, True, True, True, True, True, True, True, True, True, True, True, True, True, True, True, True, True, True, True, True, True, True, True, True, True, True, True, True, True, True, True, True, True, True, True, True, True, True, True, True, True, True, True, True, True, True, True, True, True, True, True, True, True, True, True, True, True, True, True, True, True, True, True, True, True, True, True, True, True, True, True, True, True, True, True, True, True, True, True, True, True, True, True, True, True, True, True, True, True, True, True, True, True, True, True, True, True, True, True, True, True, True, True, True, True, True, True, True, True, True, True, True, True, True, True, True, True, True, True, True, True, True, True, True, True, True, True, True, True, True, True, True, True, True, True, True, True, True, True, True, True, True, True, True, True, True, True, True, True, True, True, True, True, True, True, True, True, True, True, True, True, True, True, True, True, True, True, True, True, True, True, True, True, True, True, True, True, True, True, True, True, True, True, True, True, True, True, True, True, True, True, True, True, True, True, True, True, True, True, True, True, True, True, True, True, True, True, True, True, True, True, True, True, True, True, True, True, True, True, True, True, True, True, True, True, True, True, True, True, True, True, True, True, True, True, True, True, True, True, True, True, True, True, True, True, True, True, True, True, True, True, True, True, True, True, True, True, True, True, True, True, True, True, True, True, True, True, True, True, True, True, True, True, True, True, True, True, True, True, True, True, True, True, True, True, True, True, True, True, True, True, True, True, True, True, True, True, True, True, True, True, True, True, True, True, True, True, True, True, True, True, True, True, True, True, True, True, True, True, True, True, True, True, True, True, True, True, True, True, True, True, True, True, True, True, True, True, True, True, True, True, True, True, True, True, True, True, True, True, True, True, True, False, True, True, True, True, True, True, True, True, True, True, True, True, True, True, True, True, True, True, True, True, True, True, True, True, True, True, True, True, True, True, True, True, True, True, True, True, True, True, True, True, True, True, True, True, True, True, True, True, True, True, True, True, True, False, True, True, True, True, True, True, True, True, True, True, True, True, True, True, True, True, True, True, True, True, True, True, True, False, True, True, True, True, True, True, True, False, True, True, True, True, True, True, True, True, True, True, True, True, True, False, True, True, False, True, False, True, True, True, True, True, True, True, True, True, True, True, True, True, True, True, True, True, True, True, True, True, True, True, True, True, True, True, True, False, True, True, True, True, True, True, True, True, True, True, True, True, True, True, True, True, True, True, True, True, True, True, True, True, True, True, True, True, True, True, True, True, True, True, True, True, True, True, True, True, True, True, True, True, True, True, True, True, True, True, True, True, True, True, True, True, True, True, True, True, True, True, True, True, True, True, True, True, True, True, True, True, True, True, True, True, True, True, True, True, True, True, True, True, True, True, True, True, True, True, True, True, True, True, True, True, True, True, True, True, True, True, True, True, True, True, True, True, True, True, True, True, True, True, True, True, True, False, True, True, True, True, True, True, True, True, True, True, True, True, True, True, True, True, True, True, True, True, True, True, True, True, True, True, True, True, True, True, True, True, True, True, True, False, True, True, True, True, True, True, True, False, True, True, True, False, True, True, True, True, True, True, True, True, True, True, True, True, True, True, True, True, True, True, True, True, True, True, True, True, True, True, True, True, True, True, True, True, True, True, True, True, True, True, True, True, True, True, True, True, True, True, True, True, True, True, True, True, True, True, True, True, True, True, True, True, True, True, True, True, True, True, True, True, True, True, True, True, True, True, True, True, True, True, True, True, True, True, True, True, True, True, True, True, True, True, True, True, True, True, True, True, True, True, True, True, True, True, True, True, True, True, True, True, True, True, True, True, True, True, True, True, True, True, True, True, True, True, True, True, True, True, True, True, True, True, True, True, True, True, True, True, True, True, True, True, True, True, True, True, True, True, True, True, True, True, True, True, True, True, True, True, True, True, True, True, True, True, True, True, True, True, True, True, True, True, True, True, True, True, True, True, True, True, True, True, True, True, True, True, True, True, True, True, True, True, True, True, True, True]\n"
     ]
    }
   ],
   "source": [
    "outputval = []\n",
    "eucdist = [];\n",
    "tn = 0.00001\n",
    "tp = 0.00001\n",
    "fn = 0.00001\n",
    "fp = 0.00001\n",
    "i = 0;\n",
    "for row in data.itertuples(index=False):\n",
    " \n",
    "    dist = euclid(list(row), i);\n",
    "    m1 = dist.index(min(dist));\n",
    "    dist[m1] = math.inf;\n",
    "    m2 = dist.index(min(dist));\n",
    "    dist[m2] = math.inf;\n",
    "    m3 = dist.index(min(dist));\n",
    "    dist[m3] = math.inf;\n",
    "  \n",
    "    out = mode(data['P. Habitable Class'][m1], data['P. Habitable Class'][m2], data['P. Habitable Class'][m3])\n",
    "    outputval.append(out);\n",
    "    eucdist.append(out == row[4]);\n",
    "    if(int(out) == 1 and int(row[5]) == 1):\n",
    "            \n",
    "        tp = tp + 1\n",
    "    if(int(out) == 1 and int(row[5]) == 0):\n",
    "            \n",
    "        fp = fp + 1\n",
    "    if(int(out) == 0 and int(row[5]) == 0):\n",
    "            \n",
    "        tn = tn + 1\n",
    "    if(int(out) == 0 and int(row[5]) == 1):\n",
    "            \n",
    "        fn = fn + 1\n",
    "    #print(str(len(dist))+\" \"+str(len(data)));\n",
    "    \n",
    "    i = i + 1;\n",
    "print(eucdist)"
   ]
  },
  {
   "cell_type": "code",
   "execution_count": 24,
   "metadata": {},
   "outputs": [
    {
     "name": "stdout",
     "output_type": "stream",
     "text": [
      "0.40000039999840004\n",
      "0.008810615963822382\n",
      "0.017241462544575425\n",
      "0.4088110159622224\n"
     ]
    }
   ],
   "source": [
    "precision = tp/(tp + fp)\n",
    "recall = tp/(tp+fn)\n",
    "fscore = 2*(precision*recall)/(precision + recall)\n",
    "print(precision)\n",
    "print(recall)\n",
    "print(fscore)\n",
    "print(precision + recall)"
   ]
  },
  {
   "cell_type": "code",
   "execution_count": 25,
   "metadata": {},
   "outputs": [
    {
     "name": "stdout",
     "output_type": "stream",
     "text": [
      "0.9878627968337731\n"
     ]
    }
   ],
   "source": [
    "count = 0;\n",
    "for i in range(len(eucdist)):\n",
    "    if(eucdist[i] == True):\n",
    "        count = count + 1;\n",
    "accuracy = count /len(eucdist);\n",
    "print(accuracy);"
   ]
  },
  {
   "cell_type": "code",
   "execution_count": 26,
   "metadata": {},
   "outputs": [],
   "source": [
    "import random"
   ]
  },
  {
   "cell_type": "code",
   "execution_count": 27,
   "metadata": {},
   "outputs": [
    {
     "name": "stdout",
     "output_type": "stream",
     "text": [
      "[290, 1072, 398, 2489, 3555, 1198, 1085, 1079, 2189, 2665, 1595, 1825, 1883, 1002, 2894, 23, 3097, 2655, 2934, 3347, 1914, 2838, 2449, 1314, 203, 761, 1262, 3124, 1443, 1899, 243, 841, 482, 1457, 552, 212, 76, 1529, 3269, 2671, 1302, 358, 702, 657, 3395, 711, 2949, 1437, 2592, 3729, 845, 1068, 432, 2433, 746, 2703, 1671, 835, 3394, 933, 1675, 3634, 2960, 2810, 3731, 3737, 3029, 1760, 1507, 3301, 3658, 2430, 687, 2912, 1957, 2217, 2178, 2627, 3471, 1441, 1704, 2973, 2739, 465, 1503, 2763, 1074, 1235, 1632, 3776, 1242, 2725, 1674, 2965, 1481, 1114, 3525, 3313, 1319, 1569]\n"
     ]
    }
   ],
   "source": [
    "testrows = []\n",
    "while(len(testrows)!=100):\n",
    "    a = random.randint(1,len(data)+1)\n",
    "    if(a not in testrows):\n",
    "        testrows.append(a)\n",
    "print(testrows)"
   ]
  },
  {
   "cell_type": "code",
   "execution_count": 28,
   "metadata": {},
   "outputs": [
    {
     "name": "stdout",
     "output_type": "stream",
     "text": [
      "[[2.0, 1.0, 1.0, 2.0, 0.0, 445.12, 10.82, 0.35, 3.8, 6.41, 0.05202869, 0.06326609, 0.07771476, 121.7, 127.5, 134.5, 156.4, -19.36, 20.67, 1798.0, 2.75, 0.1, 2.74, 155.0, 0.86, 0.84, 5246.0, 0.476051, 0.0, 7.8, 10.5, 90.0, 21.6358, 30.4886, -23.7, 0.163, 2.0, 0.0, 0.534, 1.279, 4.96, 6.92, 9.23, 0.07, 0.17], [1.0, 2.0, 2.0, 1.0, 0.0, 7.13, 1.82, 1.18, 2.15, 1.98, 44.7308, 44.7308, 44.7308, 658.9, 658.9, 658.9, 8.4, -22.63, 3.46, 6.1, 0.0579, 0.0, 0.06, 0.0, 0.7, 0.63, 4530.0, 0.149956, -0.06071394910461843, 4.205140795802378, 14.4, 608.4120264650286, 3.8324, 14.5022, -30.9, 5.801, 1.0, 0.0, 0.309, 0.763, -2.11, -0.14, -0.24, 0.32, 0.29], [1.0, 1.0, 1.0, 2.0, 0.0, 508.7, 11.0, 0.38, 4.2, 6.8, 38.88794, 49.98008, 65.33059, 636.2, 675.3, 724.3, 194.3, -26.68, 21.03, 311.6, 1.2, 0.13, 1.19, 64.0, 2.54, 12.02, 4844.0, 71.36994399999998, 0.0, 4.205140795802378, 5.9, 115.2, 0.5528, 54.895, -31.0, 5.385, 1.0, 0.0, 6.665, 16.217, -2.14, 7.11, 3.32, 0.11, 0.13], [1.0, 2.0, 2.0, 1.0, 0.0, 4.2, 1.58, 1.07, 1.68, 1.63, 42.37745, 42.37746, 42.37746, 650.0, 650.0, 650.0, 4.5, -22.26, 3.0, 31.59, 0.1955, 0.0, 0.2, 0.0, 1.0, 1.32, 5674.0, 1.620299, -0.06071394910461843, 9.12, 13.3, 604.0, 19.728, 47.4486, -30.8, 3.5981, 1.0, 0.0, 0.961, 2.271, -2.17, -0.15, -0.49, 0.31, 0.31], [3.0, 1.0, 1.0, 2.0, 0.0, 826.64, 11.48, 0.55, 6.27, 8.49, 0.6019619, 0.601962, 0.601962, 224.4, 224.4, 224.4, 451.9, -21.94, 21.95, 1460.0, 2.9, 0.0, 2.9, 0.0, 1.5, 1.4933198489751924, 5466.089986504723, 5.0625, -0.06071394910461843, 4.205140795802378, 12.237222991689752, 608.4120264650286, 9.7687, 9.8659, -26.2, 6.967479314994602, 2.0, 2.0, 0.9691419703103896, 2.313927665317145, 0.04, 7.81, 9.22, 0.08, 0.4], [1.0, 5.0, 2.0, 3.0, 0.0, 0.34, 0.75, 0.81, 0.6, 0.67, 24.47566, 24.47566, 24.47566, 566.7, 566.7, 566.7, 0.3, -20.03, 1.42, 21.3, 0.1368, 0.0, 0.14, 0.0, 0.8, 0.77, 5417.0, 0.458043, -0.32, 6.0, 10.3, 66.0, 18.9373, 44.5182, -30.2, 2.9999, 3.0, 0.0, 0.519, 1.235, -2.07, -0.18, -1.18, 0.3, 0.34], [1.0, 4.0, 2.0, 1.0, 0.0, 1.19, 1.1, 0.9, 0.99, 1.04, 45.0103, 45.01031, 45.01032, 659.9, 659.9, 659.9, 1.1, -21.53, 2.09, 1.42, 0.0164, 0.0, 0.02, 0.0, 0.29, 0.28, 3622.0, 0.012106, -0.06071394910461843, 4.205140795802378, 15.6, 608.4120264650286, 4.2145, 24.2051, -30.9, 9.1082, 1.0, 0.0, 0.09, 0.232, -2.04, -0.17, -0.95, 0.31, 0.32], [1.0, 2.0, 2.0, 1.0, 0.0, 9.51, 1.96, 1.26, 2.47, 2.2, 78.939, 78.93901, 78.93903, 759.4, 759.4, 759.4, 12.0, -23.41, 3.73, 8.78, 0.077, 0.0, 0.08, 0.0, 0.79, 0.76, 5482.0, 0.468029, -0.06071394910461843, 4.205140795802378, 13.2, 608.4120264650286, 3.4369, 18.6356, -31.5, 5.2618, 1.0, 0.0, 0.522, 1.241, -2.24, -0.14, -0.18, 0.31, 0.27], [1.0, 3.0, 1.0, 1.0, 0.0, 21.59, 4.77, 0.2, 0.95, 2.13, 642.2388, 642.2388, 642.2389, 1282.5, 1282.5, 1282.5, 4.3, -27.64, 9.08, 4.29, 0.0541, 0.0, 0.05, 0.0, 1.15, 1.22, 6125.0, 1.879463, -0.06071394910461843, 3.09, 15.0, 1433.0, 19.4053, 43.8602, -33.8, 12.0406, 1.0, 0.0, 1.007, 2.354, -2.42, 3.31, -0.58, 0.19, 0.16], [1.0, 3.0, 1.0, 1.0, 0.0, 5.28, 3.0, 0.2, 0.59, 1.33, 424.3781, 424.3781, 424.3782, 1156.3, 1156.3, 1156.3, 1.0, -26.17, 5.71, 5.25, 0.061, 0.0, 0.06, 0.0, 1.1, 1.15, 6040.0, 1.579186, -0.06071394910461843, 3.47, 13.3, 631.0, 19.5021, 49.0617, -33.3, 10.0595, 1.0, 0.0, 0.928, 2.173, -2.39, 2.54, -0.98, 0.22, 0.21], [1.0, 2.0, 2.0, 3.0, 0.0, 4.09, 1.57, 1.06, 1.66, 1.62, 3312.644, 3312.645, 3312.646, 1932.8, 1932.8, 1932.8, 4.3, -27.0, 2.98, 1.61, 0.029, 0.0, 0.03, 0.0, 1.25, 1.59, 5920.0, 2.785934, -0.023, 4.205140795802378, 12.237222991689752, 608.4120264650286, 19.3354, 42.166, -35.6, 29.5447, 3.0, 0.0, 1.242, 2.915, -2.45, -0.15, -1.02, 0.27, 0.28], [1.0, 4.0, 2.0, 1.0, 0.0, 1.45, 1.16, 0.92, 1.07, 1.11, 35.52061, 35.52062, 35.52063, 622.0, 622.0, 622.0, 1.3, -21.4, 2.21, 21.53, 0.142, 0.0, 0.14, 0.0, 0.82, 0.9, 5603.0, 0.716238, -0.332, 4.205140795802378, 12.237222991689752, 608.4120264650286, 19.0231, 45.3678, -30.6, 3.3781, 3.0, 0.0, 0.642, 1.519, -2.14, -0.17, -0.87, 0.3, 0.33], [1.0, 3.0, 1.0, 1.0, 0.0, 20.7, 4.7, 0.2, 0.94, 2.1, 441.6418, 441.6419, 441.6419, 1167.9, 1167.9, 1167.9, 4.1, -27.2, 8.95, 4.66, 0.056, 0.0, 0.06, 0.0, 1.05, 1.19, 5746.0, 1.384989, 0.145, 4.205140795802378, 12.237222991689752, 608.4120264650286, 19.8989, 46.7936, -33.4, 11.343, 2.0, 0.0, 0.885, 2.087, -2.38, 3.28, -0.54, 0.2, 0.16], [1.0, 2.0, 2.0, 2.0, 0.0, 444.96, 2.5, 28.48, 71.19, 13.34, 809.9706, 809.9708, 809.9709, 1359.1, 1359.1, 1359.1, 12671.4, -26.48, 4.75, 0.38, 0.0088, 0.0, 0.01, 0.0, 0.6, 0.57, 3830.0, 0.062724, 0.03, 4.205140795802378, 15.6, 225.0, 11.2989, 2.6191, -34.0, 35.063, 1.0, 0.0, 0.204, 0.52, -2.23, -0.88, 5.27, 0.15, 0.23], [1.0, 3.0, 1.0, 3.0, 0.0, 3.15, 2.55, 0.19, 0.48, 1.11, 9921.738, 9921.739, 9921.74, 2542.7, 2542.7, 2542.7, 0.6, -29.26, 4.85, 1.44, 0.0291, 0.0, 0.03, 0.0, 1.58, 1.95, 7044.0, 8.399171, -0.06071394910461843, 1.35, 11.6, 615.0, 19.6639, 38.5916, -36.8, 36.3217, 1.0, 0.0, 2.023, 4.668, -2.51, 2.41, -1.3, 0.21, 0.23], [2.0, 1.0, 1.0, 2.0, 0.0, 534.14, 11.06, 0.39, 4.36, 6.95, 0.11834260000000002, 0.4656991, 3.489002, 149.4, 187.6, 348.2, 210.6, -21.94, 21.15, 799.5, 1.68, 0.69, 1.22, 83.4, 1.01, 0.98, 5766.0, 0.952446, 0.08, 8.0, 6.2, 21.41, 19.6975, 50.5175, -26.2, 0.4289, 1.0, 0.0, 0.733, 1.727, 1.15, 7.17, 7.16, 0.09, 0.39], [1.0, 5.0, 2.0, 3.0, 0.0, 0.41, 0.8, 0.82, 0.65, 0.72, 356.1997, 356.1997, 356.1998, 1106.8, 1106.8, 1106.8, 0.3, -23.08, 1.51, 4.77, 0.0555, 0.0, 0.06, 0.0, 1.0, 1.05, 5770.0, 1.096407, -0.06071394910461843, 6.03, 13.4, 541.0, 19.48, 42.0461, -33.1, 10.0988, 2.0, 0.0, 0.7859999999999999, 1.853, -2.37, -0.18, -1.31, 0.27, 0.29], [1.0, 2.0, 2.0, 1.0, 0.0, 17.55, 2.27, 1.49, 3.39, 2.78, 21.66048, 21.66049, 21.66049, 549.6, 549.6, 549.6, 26.2, -22.32, 4.32, 26.96, 0.1699, 0.0, 0.17, 0.0, 0.9, 0.87, 5508.0, 0.625035, -0.06071394910461843, 4.27, 15.8, 1188.0, 19.6244, 42.2527, -30.1, 2.7296, 1.0, 0.0, 0.603, 1.431, -2.05, -0.12, 0.56, 0.32, 0.3], [1.0, 2.0, 1.0, 1.0, 0.0, 3.1, 2.54, 0.19, 0.48, 1.11, 91.93668, 91.93671, 91.93671, 788.9, 788.9, 788.9, 0.6, -24.14, 4.83, 11.02, 0.0956, 0.0, 0.1, 0.0, 0.96, 0.94, 5705.0, 0.839785, -0.06071394910461843, 4.17, 15.8, 1486.0, 19.0481, 40.857, -31.7, 5.2432, 1.0, 0.0, 0.691, 1.631, -2.27, 2.41, -0.97, 0.22, 0.24], [1.0, 4.0, 2.0, 3.0, 0.0, 2.81, 1.41, 1.0, 1.41, 1.41, 1585.703, 1585.704, 1585.704, 1607.7, 1607.7, 1607.7, 2.8, -25.96, 2.68, 0.68, 0.0142, 0.0, 0.01, 0.0, 0.81, 0.76, 4976.0, 0.317716, -0.06071394910461843, 4.17, 14.9, 562.0, 19.0274, 44.4122, -34.8, 28.919, 1.0, 0.0, 0.442, 1.07, -2.36, -0.16, -1.05, 0.28, 0.28], [1.0, 2.0, 2.0, 1.0, 0.0, 7.38, 1.84, 1.19, 2.19, 2.0, 6.976891, 6.976891, 6.976893, 414.1, 414.1, 414.1, 8.8, -20.62, 3.49, 17.28, 0.105, 0.0, 0.1, 0.0, 0.51, 0.49, 4347.0, 0.07692, -0.85, 4.205140795802378, 12.237222991689752, 608.4120264650286, 19.4556, 39.3074, -28.8, 2.4871, 3.0, 0.0, 0.223, 0.555, -1.71, -0.14, 0.18, 0.37, 0.43], [1.0, 3.0, 1.0, 1.0, 0.0, 3.92, 2.73, 0.19, 0.52, 1.2, 18.13636, 18.13636, 18.13637, 525.8, 525.8, 525.8, 0.8, -22.53, 5.2, 38.67, 0.2207, 0.0, 0.22, 0.0, 0.96, 0.97, 5688.0, 0.883633, -0.06071394910461843, 4.07, 14.9, 818.0, 19.9977, 44.1609, -29.9, 2.3421, 1.0, 0.0, 0.7090000000000001, 1.675, -2.01, 2.46, -0.72, 0.24, 0.29], [1.0, 2.0, 2.0, 1.0, 0.0, 24.64, 2.45, 1.67, 4.09, 3.17, 33.77377, 33.77377, 33.77377, 614.2, 614.2, 614.2, 41.1, -22.97, 4.66, 17.44, 0.1256, 0.0, 0.13, 0.0, 0.87, 0.84, 5387.0, 0.533134, -0.06071394910461843, 4.47, 15.0, 748.0, 19.6563, 44.0777, -30.6, 3.5635, 1.0, 0.0, 0.561, 1.336, -2.12, -0.11, 0.74, 0.31, 0.27], [1.0, 1.0, 1.0, 1.0, 0.0, 52.14, 10.98, 0.04, 0.43, 2.18, 126.4482, 126.4482, 126.4482, 854.3, 854.3, 854.3, 2.1, -27.68, 20.98, 22.34, 0.165, 0.0, 0.17, 0.0, 1.25, 1.66, 6116.0, 3.442552, -0.01, 3.9, 12.4, 608.4120264650286, 19.8222, 41.8911, -32.0, 5.3505, 4.0, 0.0, 1.364, 3.188, -2.31, 9.63, -0.29, 0.09, 0.09], [2.0, 3.0, 1.0, 2.0, 0.0, 32.01, 5.44, 0.2, 1.08, 2.43, 0.09940835, 0.120879, 0.1484853, 143.1, 149.9, 158.1, 6.4, -18.57, 10.35, 471.0, 0.97, 0.1, 0.97, 149.0, 0.58, 0.89, 3564.0, 0.11316500000000003, -0.06071394910461843, 4.205140795802378, 8.1, 608.4120264650286, 6.1763, -21.8646, -24.4, 0.4899, 1.0, 0.0, 0.275, 0.711, 2.19, 3.65, 2.09, 0.17, 0.33], [1.0, 1.0, 1.0, 2.0, 0.0, 476.91, 10.92, 0.37, 4.0, 6.61, 4.478399, 6.8318270000000005, 10.95404, 370.6, 408.1, 463.5, 174.8, -24.51, 20.86, 689.0, 1.48, 0.22, 1.44, 321.0, 0.93, 4.8, 5155.0, 14.597787, -0.46, 12.0, 8.5, 186.0, 16.8956, 11.9736, -28.9, 1.7719, 1.0, 0.0, 2.97, 7.1370000000000005, -1.71, 7.02, 4.55, 0.1, 0.24], [1.0, 3.0, 2.0, 1.0, 0.0, 26.71, 2.57, 1.57, 4.05, 3.22, 484.5498, 566.9539, 667.6945, 1195.3, 1241.7, 1295.1, 42.1, -26.15, 4.88, 5.86, 0.068, 0.08, 0.07, 0.0, 1.2, 1.4, 6211.0, 2.613192, 0.17, 3.89, 11.0, 312.43, 19.2458, 41.1511, -33.7, 11.0162, 3.0, 0.0, 1.182, 2.756, -2.41, -0.01, 0.04, 0.29, 0.23], [1.0, 3.0, 1.0, 1.0, 0.0, 4.51, 2.86, 0.19, 0.55, 1.26, 5.791938, 5.791939, 5.7919410000000005, 395.2, 395.2, 395.2, 0.9, -21.38, 5.43, 20.96, 0.1275, 0.0, 0.13, 0.0, 0.63, 0.61, 4098.0, 0.094154, -0.06071394910461843, 4.47, 16.3, 492.0, 18.8891, 47.1745, -28.6, 2.5499, 4.0, 0.0, 0.248, 0.625, -1.64, 2.49, -0.51, 0.25, 0.4], [1.0, 3.0, 1.0, 1.0, 0.0, 10.12, 3.71, 0.2, 0.74, 1.65, 41.10402, 41.10403, 41.10403, 645.1, 645.1, 645.1, 2.0, -24.09, 7.05, 31.16, 0.2, 0.0, 0.2, 0.0, 1.1, 1.21, 5948.0, 1.644161, -0.302, 4.205140795802378, 12.237222991689752, 608.4120264650286, 19.6074, 38.7102, -30.8, 3.2246, 2.0, 0.0, 0.952, 2.234, -2.17, 2.81, -0.47, 0.22, 0.21], [1.0, 2.0, 1.0, 1.0, 0.0, 3.1, 2.54, 0.19, 0.48, 1.11, 89.08131999999998, 89.08133000000002, 89.08135, 782.7, 782.7, 782.7, 0.6, -24.11, 4.83, 12.76, 0.105, 0.0, 0.1, 0.0, 0.87, 1.0, 5752.0, 0.982122, -0.171, 4.205140795802378, 12.237222991689752, 608.4120264650286, 19.3224, 49.8256, -31.6, 5.0771, 3.0, 0.0, 0.745, 1.756, -2.27, 2.41, -0.97, 0.23, 0.24], [3.0, 1.0, 1.0, 2.0, 0.0, 616.17, 11.23, 0.44, 4.89, 7.41, 0.3374618, 0.33746190000000004, 0.33746190000000004, 194.2, 194.2, 194.2, 268.3, -21.26, 21.46, 61.03, 0.2083, 0.0, 0.21, 116.7, 0.33, 0.36, 3350.0, 0.014644, 0.05, 2.5, 10.2, 4.7, 22.8869, -14.2536, -25.5, 0.921, 4.0, 2.0, 0.099, 0.259, 0.36, 7.37, 8.55, 0.08, 0.34], [1.0, 1.0, 1.0, 2.0, 0.0, 794.85, 11.45, 0.53, 6.06, 8.33, 6.774081, 9.042929, 12.34737, 411.0, 439.9, 477.6, 420.8, -24.91, 21.89, 351.5, 1.16, 0.15, 1.15, 54.0, 1.68, 4.25, 5220.0, 12.032329, -0.15, 1.8, 6.4, 67.0, 20.2683, 4.5808, -29.1, 1.9746, 1.0, 0.0, 2.687, 6.443, -1.81, 7.75, 5.92, 0.09, 0.2], [3.0, 1.0, 1.0, 2.0, 0.0, 476.91, 10.92, 0.37, 4.0, 6.61, 0.2141616, 0.494378, 1.415653, 173.3, 205.3, 277.9, 174.8, -21.74, 20.86, 1214.0, 2.4, 0.44, 2.16, 190.0, 1.13, 1.52, 5927.0, 2.557145, 0.34, 7.1, 8.6, 89.1, 3.6567, -60.0778, -26.1, 0.3771, 1.0, 1.0, 1.189, 2.7910000000000004, 0.59, 7.02, 6.9, 0.09, 0.4], [1.0, 3.0, 1.0, 1.0, 0.0, 5.59, 3.06, 0.2, 0.6, 1.35, 40.82259000000001, 40.8226, 40.8226, 644.0, 644.0, 644.0, 1.1, -23.66, 5.81, 15.23, 0.116, 0.0, 0.12, 0.0, 0.83, 0.83, 5460.0, 0.549309, -0.102, 4.205140795802378, 12.237222991689752, 608.4120264650286, 19.4775, 41.0232, -30.8, 3.8138, 2.0, 0.0, 0.5670000000000001, 1.348, -2.15, 2.56, -0.7, 0.23, 0.24], [3.0, 1.0, 1.0, 2.0, 0.0, 59.52, 6.66, 0.2, 1.34, 2.99, 0.974178, 1.348981, 1.922779, 253.1, 273.1, 300.0, 12.0, -21.65, 12.68, 226.93, 0.6813, 0.17, 0.67, 162.6, 0.82, 0.89, 5434.0, 0.617213, -0.17, 4.205140795802378, 8.1, 32.6, 6.4272, -31.4808, -27.1, 0.7073, 2.0, 2.0, 0.602, 1.432, -0.8, 4.29, 1.75, 0.18, 0.57], [1.0, 3.0, 1.0, 1.0, 0.0, 22.26, 4.26, 0.29, 1.23, 2.29, 30.089270000000006, 43.49088, 65.25721, 596.7, 649.7, 724.1, 6.4, -24.47, 8.09, 2.64, 0.0289, 0.19, 0.03, 354.4, 0.45, 0.46, 3684.0, 0.03558, -0.32, 6.0, 10.7, 10.2, 11.7031, 26.7064, -30.9, 8.7345, 1.0, 0.0, 0.154, 0.396, -2.03, 2.53, -0.01, 0.24, 0.2], [2.0, 1.0, 1.0, 2.0, 0.0, 2225.58, 18.48, 0.35, 6.52, 10.97, 0.0319353, 0.05904876, 0.1219288, 107.7, 123.0, 150.5, 784.8, -20.51, 35.69, 13288.0, 13.18, 0.32, 12.47, 87.0, 1.73, 1.09, 9790.0, 9.707662, -0.06071394910461843, 0.04, 3.9, 19.3, 5.7881, -51.0664, -23.7, 0.0465, 1.0, 0.0, 2.161, 4.979, 6.95, 17.44, 17.07, 0.04, 0.11], [1.0, 2.0, 2.0, 1.0, 0.0, 10.17, 1.99, 1.28, 2.56, 2.26, 99.98065, 99.98065, 99.98067, 805.6, 805.6, 805.6, 13.1, -23.7, 3.79, 6.4, 0.064, 0.0, 0.06, 0.0, 0.85, 0.76, 5302.0, 0.409521, -0.01, 4.205140795802378, 12.237222991689752, 608.4120264650286, 19.9109, 47.762, -31.8, 6.3316, 2.0, 0.0, 0.494, 1.18, -2.25, -0.13, -0.19, 0.31, 0.27], [1.0, 2.0, 2.0, 1.0, 0.0, 4.77, 1.64, 1.09, 1.78, 1.71, 485.2695, 485.2695, 485.2696, 1195.8, 1195.8, 1195.8, 5.2, -24.99, 3.11, 2.59, 0.0359, 0.0, 0.04, 0.0, 0.92, 0.88, 5477.0, 0.62521, -0.06071394910461843, 4.27, 14.0, 552.0, 19.2108, 48.1652, -33.5, 13.0938, 2.0, 0.0, 0.604, 1.435, -2.37, -0.15, -0.77, 0.29, 0.28], [1.0, 2.0, 2.0, 1.0, 0.0, 9.72, 1.97, 1.27, 2.5, 2.22, 59.25313000000001, 59.25314, 59.25314, 706.8, 706.8, 706.8, 12.3, -23.11, 3.75, 12.06, 0.1004, 0.0, 0.1, 0.0, 0.93, 0.86, 5478.0, 0.597551, -0.06071394910461843, 2.4, 13.6, 439.0, 19.6875, 46.2375, -31.2, 4.565, 1.0, 0.0, 0.59, 1.403, -2.21, -0.14, -0.11, 0.31, 0.28], [1.0, 2.0, 2.0, 1.0, 0.0, 15.1, 2.2, 1.43, 3.13, 2.62, 20.1295, 20.1295, 20.12951, 539.6, 539.6, 539.6, 21.6, -22.16, 4.17, 44.55, 0.25, 0.0, 0.25, 0.0, 1.02, 1.03, 6015.0, 1.258094, -0.2, 4.205140795802378, 15.0, 608.4120264650286, 19.8835, 40.4961, -30.0, 2.2064, 5.0, 0.0, 0.83, 1.943, -2.04, -0.13, 0.45, 0.32, 0.31], [1.0, 1.0, 1.0, 1.0, 0.0, 467.37, 20.83, 0.05, 1.08, 4.74, 1005.363, 1255.71, 1589.2089999999996, 1434.6, 1512.9, 1608.6, 24.2, -31.59, 40.42, 2.16, 0.034, 0.11, 0.03, 0.0, 1.12, 1.2, 5780.0, 1.439593, 0.28, 4.2, 13.9, 747.0, 19.0911, -50.0675, -34.5, 19.0204, 1.0, 0.0, 0.9, 2.121, -2.42, 16.31, 0.62, 0.06, 0.05], [1.0, 3.0, 1.0, 1.0, 0.0, 13.35, 4.06, 0.2, 0.81, 1.81, 27.7718, 27.7718, 27.77181, 584.9, 584.9, 584.9, 2.7, -23.86, 7.73, 9.67, 0.0809, 0.0, 0.08, 0.0, 0.76, 0.59, 4908.0, 0.181761, 0.02, 3.53, 9.0, 27.4, 14.3564, -40.3939, -30.4, 3.9065, 1.0, 0.0, 0.335, 0.8140000000000001, -2.06, 2.97, -0.28, 0.22, 0.28], [1.0, 1.0, 1.0, 1.0, 0.0, 305.22, 10.19, 0.29, 2.94, 5.47, 1572.764, 1729.287, 1905.866, 1604.4, 1642.2, 1683.3, 87.9, -30.37, 19.47, 6.5, 0.081, 0.05, 0.08, 12.0, 1.68, 4.4, 5054.0, 11.332774, 0.19, 2.3, 8.0, 126.0, 11.8564, 57.6408, -34.9, 29.3002, 1.0, 0.0, 2.63, 6.345, -2.37, 6.41, 0.88, 0.13, 0.12], [3.0, 4.0, 2.0, 1.0, 1.0, 1.26, 1.12, 0.9, 1.01, 1.06, 0.6504719, 0.650472, 0.6504722, 228.8, 228.8, 228.8, 1.1, -16.95, 2.13, 38.1, 0.1576, 0.0, 0.16, 0.0, 0.36, 0.35, 3482.0, 0.016156, -0.1, 4.205140795802378, 12.237222991689752, 252.0, 19.6244, 49.9151, -26.3, 1.1835, 1.0, 1.0, 0.104, 0.27, -0.35, -0.17, -0.37, 0.65, 0.85], [2.0, 1.0, 1.0, 2.0, 0.0, 508.7, 11.0, 0.38, 4.2, 6.8, 0.04948894, 0.2002349, 1.588486, 120.2, 151.1, 286.0, 194.3, -21.02, 21.03, 1840.0, 2.9, 0.7, 2.07, 163.0, 0.99, 1.04, 5940.0, 1.202325, 0.25, 4.205140795802378, 8.8, 67.61, 14.7675, -68.7625, -25.3, 0.2679, 1.0, 0.0, 0.815, 1.912, 3.19, 7.11, 7.92, 0.08, 0.28], [1.0, 4.0, 2.0, 1.0, 0.0, 3.05, 1.44, 1.01, 1.46, 1.45, 66.22664, 66.22664, 66.22665, 726.8, 726.8, 726.8, 3.1, -22.55, 2.75, 17.29, 0.1317, 0.0, 0.13, 0.0, 1.02, 1.02, 5923.0, 1.148834, -0.06071394910461843, 3.72, 14.2, 779.0, 19.7585, 50.6215, -31.3, 4.128, 1.0, 0.0, 0.797, 1.872, -2.24, -0.16, -0.69, 0.3, 0.3], [1.0, 2.0, 2.0, 1.0, 0.0, 22.64, 2.41, 1.62, 3.9, 3.07, 120.3344, 120.3344, 120.3344, 843.8, 843.8, 843.8, 36.7, -24.32, 4.58, 16.01, 0.127, 0.0, 0.13, 0.0, 1.07, 1.36, 5848.0, 1.940873, -0.16699999999999998, 4.205140795802378, 12.237222991689752, 608.4120264650286, 19.8712, 49.4126, -32.0, 5.7092, 2.0, 0.0, 1.041, 2.448, -2.3, -0.12, 0.31, 0.3, 0.25], [1.0, 4.0, 2.0, 3.0, 0.0, 1.31, 1.13, 0.91, 1.02, 1.08, 339.8046, 339.8047, 339.8047, 1093.8, 1093.8, 1093.8, 1.2, -23.8, 2.15, 7.64, 0.0804, 0.0, 0.08, 0.0, 1.19, 1.29, 6194.0, 2.197628, -0.06071394910461843, 3.09, 13.5, 831.0, 19.3394, 39.817, -33.1, 8.5564, 2.0, 0.0, 1.085, 2.531, -2.39, -0.17, -1.1, 0.28, 0.3], [1.0, 1.0, 1.0, 1.0, 0.0, 87.59, 11.44, 0.06, 0.67, 2.77, 107.7949, 191.6402, 374.9799, 820.9, 931.2, 1121.1, 5.1, -28.28, 21.86, 10.02, 0.0946, 0.3, 0.09, 242.0, 1.13, 1.17, 6040.0, 1.634591, -0.11, 4.6, 10.2, 608.4120264650286, 2.4517, -50.2844, -32.5, 6.9188, 1.0, 0.0, 0.944, 2.211, -2.34, 9.06, 0.0, 0.1, 0.08], [3.0, 1.0, 1.0, 2.0, 0.0, 947.46, 11.56, 0.61, 7.09, 9.05, 0.3137796, 0.7832034000000001, 2.54097, 190.7, 228.4, 321.7, 581.4, -22.39, 22.1, 1326.0, 2.6, 0.48, 2.28, 93.2, 1.33, 1.79, 6340.0, 4.6446489999999985, 0.29, 2.0, 6.4, 33.0, 20.6642, 11.2494, -26.6, 0.4182, 1.0, 1.0, 1.5630000000000002, 3.638, 0.08, 8.03, 9.39, 0.07, 0.42], [1.0, 4.0, 2.0, 1.0, 0.0, 2.87, 1.42, 1.0, 1.42, 1.42, 695.7012, 695.7014, 695.7015, 1308.4, 1308.4, 1308.4, 2.9, -25.08, 2.7, 2.29, 0.0328, 0.0, 0.03, 0.0, 0.9, 0.88, 5729.0, 0.748463, -0.06071394910461843, 4.205140795802378, 12.2, 608.4120264650286, 3.815, 13.4835, -33.9, 14.3351, 1.0, 0.0, 0.6509999999999999, 1.536, -2.4, -0.16, -0.97, 0.28, 0.28], [3.0, 1.0, 1.0, 2.0, 0.0, 197.12, 9.31, 0.24, 2.27, 4.6, 0.9203056, 0.9203057, 0.9203059, 249.5, 249.5, 249.5, 48.1, -21.95, 17.77, 494.0, 1.2698, 0.0, 1.27, 0.0, 1.12, 1.16, 5940.0, 1.483882, 0.11, 4.205140795802378, 8.2, 57.24, 1.5547, -38.245, -26.6, 0.4854, 1.0, 1.0, 0.905, 2.124, -0.4, 5.81, 3.9, 0.12, 0.5], [1.0, 3.0, 1.0, 1.0, 0.0, 4.86, 2.92, 0.19, 0.57, 1.29, 228.1489, 228.149, 228.149, 990.1, 990.1, 990.1, 0.9, -25.44, 5.56, 3.6, 0.0437, 0.0, 0.04, 0.0, 0.86, 0.81, 5217.0, 0.436057, -0.06071394910461843, 4.27, 15.7, 1007.0, 19.0261, 46.1809, -32.7, 9.886, 1.0, 0.0, 0.512, 1.227, -2.31, 2.51, -0.94, 0.22, 0.22], [1.0, 1.0, 1.0, 2.0, 0.0, 922.03, 11.54, 0.6, 6.92, 8.94, 63.05218000000001, 78.45251, 98.86433, 717.9, 756.4, 803.4, 552.7, -27.28, 22.07, 176.3, 0.76, 0.11, 0.76, 300.0, 1.9, 9.9, 4757.0, 45.029051, -0.14, 4.205140795802378, 6.6, 126.0, 16.1678, 26.7428, -31.5, 6.9902, 1.0, 0.0, 5.314, 12.977, -2.19, 7.98, 4.54, 0.1, 0.1], [1.0, 4.0, 2.0, 3.0, 0.0, 3.69, 1.52, 1.04, 1.59, 1.56, 7562.259, 7562.26, 7562.260999999998, 2375.8, 2375.8, 2375.8, 3.8, -27.83, 2.89, 0.54, 0.0132, 0.0, 0.01, 0.0, 1.05, 1.08, 5948.0, 1.309849, -0.06071394910461843, 3.55, 14.5, 933.0, 19.8625, 46.8814, -36.5, 44.8696, 2.0, 0.0, 0.85, 1.994, -2.46, -0.15, -1.11, 0.27, 0.28], [1.0, 2.0, 2.0, 1.0, 0.0, 11.37, 2.05, 1.32, 2.71, 2.36, 5.977144, 5.977144, 5.977145, 398.4, 398.4, 398.4, 15.0, -20.69, 3.9, 20.06, 0.122, 0.0, 0.12, 0.0, 0.59, 0.55, 4255.0, 0.088964, 0.087, 4.205140795802378, 12.237222991689752, 608.4120264650286, 19.0719, 39.2783, -28.7, 2.4027, 4.0, 0.0, 0.24, 0.601, -1.66, -0.13, 0.55, 0.36, 0.44], [2.0, 1.0, 1.0, 2.0, 0.0, 475.32, 10.91, 0.37, 3.99, 6.6, 0.04546377, 0.08727432, 0.1899219, 117.6, 135.3, 168.2, 173.9, -19.8, 20.85, 2867.9, 3.92, 0.34, 3.68, 14.7, 1.04, 1.2, 5588.0, 1.259731, 0.24, 12.11, 5.7, 15.89, 20.0603, 29.8967, -24.1, 0.1737, 2.0, 0.0, 0.852, 2.018, 4.37, 7.01, 9.03, 0.08, 0.19], [1.0, 5.0, 2.0, 3.0, 0.0, 0.34, 0.75, 0.81, 0.61, 0.67, 54.03175, 54.03175, 54.03176, 690.7, 690.7, 690.7, 0.3, -20.9, 1.43, 1.54, 0.0163, 0.0, 0.02, 0.0, 0.33, 0.34, 3410.0, 0.014356, -0.11, 4.205140795802378, 12.237222991689752, 120.5, 19.8486, 42.8669, -31.1, 11.265, 1.0, 0.0, 0.098, 0.256, -2.04, -0.18, -1.23, 0.3, 0.31], [1.0, 1.0, 1.0, 2.0, 0.0, 304.86, 10.19, 0.29, 2.93, 5.47, 2.7768650000000004, 2.7768650000000004, 2.7768650000000004, 328.9, 328.9, 328.9, 87.8, -23.35, 19.46, 324.0, 0.967, 0.0, 0.97, 0.0, 1.15, 1.4, 6199.0, 2.596764, -0.11, 4.205140795802378, 8.9, 116.0, 8.4411, 10.0803, -27.8, 0.7715, 5.0, 0.0, 1.179, 2.75, -1.27, 6.41, 4.1, 0.11, 0.33], [1.0, 4.0, 2.0, 1.0, 0.0, 2.81, 1.41, 1.0, 1.41, 1.41, 103.8765, 103.8765, 103.8765, 813.3, 813.3, 813.3, 2.8, -22.99, 2.68, 4.72, 0.05, 0.0, 0.05, 0.0, 0.7, 0.72, 4861.0, 0.259691, -0.077, 4.205140795802378, 12.237222991689752, 608.4120264650286, 18.8814, 40.4218, -31.8, 7.6797, 2.0, 0.0, 0.402, 0.977, -2.22, -0.16, -0.77, 0.3, 0.3], [1.0, 1.0, 1.0, 1.0, 0.0, 354.19, 15.62, 0.09, 1.45, 4.76, 3140.082000000001, 3169.056, 3198.38, 1907.1, 1911.5, 1915.9, 32.9, -31.97, 30.03, 0.79, 0.0162, 0.0, 0.02, 3.0, 0.9, 1.0, 5500.0, 0.827576, 0.02, 11.5, 12.3, 608.4120264650286, 9.8944, -45.6592, -35.5, 33.5886, 1.0, 0.0, 0.6940000000000001, 1.648, -2.42, 11.49, 0.38, 0.08, 0.06], [1.0, 3.0, 1.0, 1.0, 0.0, 4.51, 2.86, 0.19, 0.55, 1.26, 4.777605, 4.777606, 4.777606, 376.7, 376.7, 376.7, 0.9, -21.17, 5.43, 84.57, 0.3693, 0.0, 0.37, 0.0, 0.94, 0.9, 5472.0, 0.651567, -0.06071394910461843, 4.57, 15.8, 1121.0, 19.7086, 44.6906, -28.4, 1.2988, 1.0, 0.0, 0.617, 1.466, -1.58, 2.49, -0.48, 0.25, 0.43], [1.0, 4.0, 2.0, 3.0, 0.0, 3.14, 1.46, 1.02, 1.48, 1.47, 1788.764, 1788.764, 1788.765, 1656.8, 1656.8, 1656.9, 3.2, -26.16, 2.77, 1.43, 0.025, 0.0, 0.02, 0.0, 1.01, 1.03, 5851.0, 1.1155389999999998, -0.06071394910461843, 3.47, 14.7, 915.0, 19.9857, 43.6708, -34.9, 22.1172, 1.0, 0.0, 0.789, 1.856, -2.43, -0.16, -1.03, 0.27, 0.28], [1.0, 1.0, 1.0, 1.0, 0.0, 391.07, 15.68, 0.1, 1.59, 4.99, 892.6589, 1000.84, 1125.981, 1392.6, 1432.1, 1475.8, 39.7, -30.72, 30.14, 2.5, 0.0363, 0.06, 0.04, 0.0, 1.02, 1.2, 5650.0, 1.316576, 0.14, 8.0, 12.2, 333.0, 3.7294, -65.1939, -34.3, 17.7173, 1.0, 0.0, 0.868, 2.052, -2.4, 11.51, 0.82, 0.08, 0.06], [1.0, 1.0, 1.0, 1.0, 0.0, 89.02, 10.75, 0.07, 0.77, 2.88, 583.471, 825.7888, 1208.061, 1252.1, 1357.3, 1502.0, 6.4, -29.7, 20.54, 3.29, 0.0449, 0.18, 0.04, 0.0, 1.12, 1.27, 5800.0, 1.637605, 0.17, 6.4, 10.8, 234.0, 4.225, -69.2269, -34.1, 15.3699, 1.0, 0.0, 0.959, 2.258, -2.41, 8.28, -0.23, 0.1, 0.08], [1.0, 4.0, 2.0, 1.0, 0.0, 2.89, 1.42, 1.0, 1.43, 1.42, 173.99400000000003, 173.99400000000003, 173.99400000000003, 925.3, 925.3, 925.3, 2.9, -23.57, 2.7, 7.56, 0.0756, 0.0, 0.08, 0.0, 1.01, 1.0, 5771.0, 0.995163, -0.06071394910461843, 4.47, 14.6, 905.0, 18.9525, 42.3556, -32.4, 7.051, 1.0, 0.0, 0.7490000000000001, 1.765, -2.33, -0.16, -0.82, 0.29, 0.29], [1.0, 2.0, 2.0, 1.0, 0.0, 5.4, 1.69, 1.12, 1.89, 1.79, 147.2972, 147.2972, 147.2972, 887.6, 887.6, 887.6, 6.0, -23.77, 3.21, 8.13, 0.081, 0.0, 0.08, 0.0, 0.98, 0.96, 5847.0, 0.966417, 0.02, 4.205140795802378, 12.237222991689752, 608.4120264650286, 19.3477, 41.776, -32.2, 6.3192, 2.0, 0.0, 0.735, 1.7280000000000002, -2.32, -0.15, -0.57, 0.29, 0.28], [1.0, 3.0, 1.0, 1.0, 0.0, 3.15, 2.55, 0.19, 0.48, 1.11, 66.79263, 66.79263, 66.79265, 728.3, 728.3, 728.3, 0.6, -23.8, 4.85, 11.46, 0.098, 0.0, 0.1, 0.0, 0.96, 0.84, 5642.0, 0.641476, -0.151, 4.205140795802378, 12.237222991689752, 608.4120264650286, 19.7848, 41.7555, -31.3, 4.5691, 3.0, 0.0, 0.606, 1.433, -2.23, 2.41, -0.93, 0.23, 0.25], [1.0, 5.0, 2.0, 3.0, 0.0, 0.25, 0.68, 0.79, 0.54, 0.61, 210.6165, 210.6165, 210.6166, 970.6, 970.6, 970.6, 0.2, -22.18, 1.3, 3.5, 0.0424, 0.0, 0.04, 0.0, 0.83, 0.79, 5101.0, 0.37911, -0.06071394910461843, 4.9, 13.6, 343.0, 19.1213, 46.9117, -32.6, 9.9356, 1.0, 0.0, 0.48, 1.156, -2.29, -0.19, -1.35, 0.27, 0.29], [1.0, 1.0, 1.0, 2.0, 0.0, 320.17, 12.99, 0.15, 1.9, 4.96, 340.2815, 340.2815, 340.2816, 1094.2, 1094.2, 1094.2, 46.7, -29.13, 24.88, 3.13, 0.0405, 0.0, 0.04, 0.0, 0.91, 0.94, 5140.0, 0.55925, 0.36, 1.4, 12.0, 608.4120264650286, 0.3492, -35.9983, -33.1, 12.4469, 1.0, 0.0, 0.5820000000000001, 1.399, -2.32, 9.05, 1.17, 0.1, 0.07], [1.0, 3.0, 1.0, 1.0, 0.0, 4.34, 2.82, 0.19, 0.55, 1.24, 27.94848, 27.94848, 27.948490000000003, 585.8, 585.8, 585.8, 0.8, -23.07, 5.37, 20.83, 0.14300000000000002, 0.0, 0.14, 0.0, 0.9, 0.86, 5418.0, 0.5717979999999999, -0.06071394910461843, 4.27, 15.4, 980.0, 19.5346, 45.9147, -30.4, 3.2046, 1.0, 0.0, 0.58, 1.38, -2.09, 2.48, -0.74, 0.23, 0.26], [2.0, 1.0, 1.0, 2.0, 0.0, 394.25, 10.64, 0.33, 3.49, 6.09, 0.177589, 0.2760241, 0.4530676, 165.4, 182.8, 209.0, 129.2, -20.96, 20.32, 937.0, 1.02, 0.23, 0.99, 273.0, 0.75, 0.76, 4819.0, 0.279476, 0.0, 2.19, 8.7, 28.0, 13.1775, -35.0547, -25.4, 0.408, 2.0, 0.0, 0.418, 1.017, 1.03, 6.76, 6.9, 0.09, 0.33], [1.0, 2.0, 2.0, 1.0, 0.0, 6.4, 1.77, 1.16, 2.05, 1.9, 650.6447, 650.6448, 650.6449, 1286.7, 1286.7, 1286.7, 7.4, -25.49, 3.36, 3.79, 0.0492, 0.0, 0.05, 0.0, 1.11, 1.16, 6012.0, 1.577182, -0.06071394910461843, 3.39, 14.3, 883.0, 19.8951, 47.9468, -33.8, 12.5812, 1.0, 0.0, 0.929, 2.177, -2.41, -0.14, -0.7, 0.28, 0.27], [1.0, 2.0, 2.0, 1.0, 0.0, 6.1, 1.75, 1.14, 2.0, 1.87, 36.80326, 36.80326, 36.80327, 627.5, 627.5, 627.5, 7.0, -22.32, 3.32, 27.32, 0.183, 0.0, 0.18, 0.0, 1.04, 1.0, 6088.0, 1.232504, -0.068, 4.205140795802378, 12.237222991689752, 608.4120264650286, 19.28, 49.3057, -30.7, 2.9124, 2.0, 0.0, 0.818, 1.912, -2.16, -0.14, -0.29, 0.31, 0.3], [1.0, 2.0, 2.0, 1.0, 0.0, 12.15, 2.08, 1.34, 2.8, 2.41, 55.59299, 55.593, 55.593, 695.7, 695.7, 695.7, 16.3, -23.16, 3.96, 19.78, 0.1436, 0.0, 0.14, 0.0, 1.01, 1.06, 5807.0, 1.146328, -0.06071394910461843, 5.5, 13.9, 711.0, 19.7123, 47.7481, -31.1, 3.9346, 1.0, 0.0, 0.802, 1.888, -2.21, -0.13, 0.04, 0.31, 0.27], [1.0, 1.0, 1.0, 2.0, 0.0, 1160.45, 11.64, 0.74, 8.57, 9.99, 768.7355, 768.7357, 768.7357, 1341.5, 1341.5, 1341.5, 854.6, -29.78, 22.25, 3.27, 0.0442, 0.0, 0.04, 0.0, 1.08, 1.12, 6045.0, 1.502835, -0.06071394910461843, 3.47, 14.9, 1249.0, 19.6684, 46.956, -34.0, 13.5307, 1.0, 0.0, 0.905, 2.119, -2.42, 8.38, 3.54, 0.1, 0.08], [1.0, 3.0, 1.0, 1.0, 0.0, 10.88, 3.8, 0.2, 0.75, 1.69, 3.323152, 3.323152, 3.323153, 344.0, 344.0, 344.0, 2.2, -21.39, 7.22, 100.83, 0.4077, 0.0, 0.41, 0.0, 0.89, 0.85, 5403.0, 0.5524180000000001, -0.06071394910461843, 4.37, 15.3, 926.0, 18.9531, 49.1587, -28.0, 1.111, 2.0, 0.0, 0.57, 1.358, -1.41, 2.85, 0.04, 0.24, 0.44], [2.0, 1.0, 1.0, 2.0, 0.0, 576.74, 11.15, 0.42, 4.64, 7.19, 0.04439496, 0.05382843, 0.06591178, 116.9, 122.5, 129.1, 239.7, -19.25, 21.32, 4205.8, 5.235, 0.1, 5.21, 57.6, 1.08, 1.25, 5700.0, 1.468006, 0.28, 6.41, 5.2, 15.3, 17.7356, -51.8339, -23.5, 0.1274, 4.0, 2.0, 0.914, 2.157, 5.96, 7.28, 10.81, 0.07, 0.16], [1.0, 3.0, 2.0, 1.0, 0.0, 37.1, 2.55, 2.23, 5.69, 3.81, 70.65758000000002, 159.991, 444.5796, 738.6, 872.5, 1169.9, 82.7, -24.87, 4.85, 22.95, 0.1775, 0.43, 0.16, 0.0, 1.42, 1.89, 6144.0, 4.552381, 0.13, 2.62, 11.9, 584.1, 19.4258, 44.5292, -32.4, 6.2773, 2.0, 0.0, 1.5659999999999998, 3.658, -2.32, -0.25, 0.69, 0.29, 0.24], [1.0, 3.0, 1.0, 1.0, 0.0, 5.34, 3.01, 0.2, 0.59, 1.33, 102.9503, 102.9503, 102.9503, 811.5, 811.5, 811.5, 1.0, -24.64, 5.73, 6.31, 0.066, 0.0, 0.07, 0.0, 0.96, 0.83, 5190.0, 0.448451, 0.171, 4.205140795802378, 12.237222991689752, 608.4120264650286, 19.5374, 43.5814, -31.8, 6.7056, 2.0, 0.0, 0.52, 1.247, -2.25, 2.54, -0.83, 0.22, 0.22], [1.0, 2.0, 2.0, 1.0, 0.0, 21.25, 2.37, 1.59, 3.77, 2.99, 71.73835, 71.73836, 71.73836, 741.5, 741.5, 741.5, 33.7, -23.72, 4.51, 24.33, 0.1741, 0.0, 0.17, 0.0, 1.19, 1.28, 6202.0, 2.174888, -0.06071394910461843, 2.82, 15.4, 1674.0, 19.793, 44.3718, -31.4, 3.9184, 1.0, 0.0, 1.079, 2.516, -2.26, -0.12, 0.39, 0.3, 0.25], [1.0, 2.0, 2.0, 1.0, 0.0, 9.95, 1.98, 1.28, 2.53, 2.24, 31.138140000000003, 31.138140000000003, 31.138140000000003, 601.8, 601.8, 601.8, 12.7, -22.42, 3.77, 37.32, 0.2249, 0.0, 0.22, 0.0, 1.09, 1.13, 6089.0, 1.574819, -0.06071394910461843, 3.31, 13.6, 716.0, 18.9673, 43.9617, -30.5, 2.678, 1.0, 0.0, 0.924, 2.161, -2.13, -0.13, 0.04, 0.32, 0.3], [1.0, 1.0, 1.0, 2.0, 0.0, 858.44, 11.5, 0.56, 6.49, 8.64, 2.508583, 3.899057, 6.399935, 320.6, 354.4, 405.2, 484.3, -24.02, 21.99, 772.0, 1.92, 0.23, 1.87, 102.0, 1.6, 4.9, 5048.0, 13.988123000000002, -0.04, 2.3, 8.0, 135.0, 3.0031, -20.8025, -28.2, 1.3975, 1.0, 0.0, 2.923, 7.053, -1.48, 7.87, 7.07, 0.09, 0.29], [1.0, 3.0, 1.0, 1.0, 0.0, 3.24, 2.58, 0.19, 0.49, 1.12, 2.5070650000000003, 2.5070650000000003, 2.5070650000000003, 320.6, 320.6, 320.6, 0.6, -20.24, 4.9, 87.09, 0.359, 0.0, 0.36, 0.0, 0.86, 0.76, 4997.0, 0.323113, 0.238, 4.205140795802378, 12.237222991689752, 608.4120264650286, 19.0667, 40.9193, -27.7, 1.1282, 5.0, 0.0, 0.445, 1.077, -1.27, 2.42, -0.52, 0.26, 0.56], [1.0, 2.0, 2.0, 1.0, 0.0, 4.54, 1.61, 1.08, 1.74, 1.68, 49.35358, 49.35358, 49.35359, 675.3, 675.3, 675.3, 4.9, -22.47, 3.07, 6.92, 0.0646, 0.0, 0.06, 0.0, 0.75, 0.7, 4651.0, 0.205718, -0.06071394910461843, 3.98, 14.8, 415.0, 18.7932, 42.1658, -31.0, 5.7805, 1.0, 0.0, 0.361, 0.885, -2.13, -0.15, -0.48, 0.31, 0.3], [1.0, 4.0, 2.0, 1.0, 0.0, 1.81, 1.24, 0.94, 1.17, 1.21, 40.72011, 40.72012, 40.72012, 643.6, 643.6, 643.6, 1.7, -21.69, 2.36, 2.75, 0.0301, 0.0, 0.03, 0.0, 0.48, 0.42, 3910.0, 0.036991, -0.06071394910461843, 4.205140795802378, 14.5, 608.4120264650286, 3.9934, 15.5589, -30.8, 7.4314, 2.0, 0.0, 0.156, 0.397, -2.05, -0.16, -0.81, 0.31, 0.32], [1.0, 2.0, 2.0, 2.0, 0.0, 25.16, 2.46, 1.68, 4.14, 3.2, 4.628122, 4.628123, 4.628124, 373.7, 373.7, 373.7, 42.3, -20.81, 4.68, 27.95, 0.1537, 0.0, 0.15, 0.0, 0.62, 0.58, 4362.0, 0.109267, -0.06071394910461843, 4.205140795802378, 16.3, 608.4120264650286, 19.0111, 44.0264, -28.4, 2.0117, 5.0, 0.0, 0.266, 0.66, -1.57, -0.11, 1.47, 0.32, 0.45], [1.0, 3.0, 1.0, 1.0, 0.0, 4.86, 2.92, 0.19, 0.57, 1.29, 130.9583, 130.9583, 130.9583, 861.8, 861.8, 861.8, 0.9, -24.83, 5.56, 5.69, 0.059, 0.0, 0.06, 0.0, 0.72, 0.82, 5243.0, 0.455866, -0.413, 4.205140795802378, 12.237222991689752, 608.4120264650286, 19.777, 46.8353, -32.0, 7.4118, 4.0, 0.0, 0.522, 1.251, -2.27, 2.51, -0.88, 0.22, 0.22], [1.0, 1.0, 1.0, 1.0, 0.0, 286.15, 13.26, 0.12, 1.63, 4.65, 441.7945, 441.7945, 441.7946, 1168.0, 1168.0, 1168.0, 35.1, -29.46, 25.41, 3.94, 0.0488, 0.0, 0.05, 0.0, 1.0, 0.93, 5940.0, 1.052107, -0.06071394910461843, 4.5, 11.3, 200.0, 16.0367, 28.1697, -33.4, 10.1474, 1.0, 0.0, 0.762, 1.789, -2.39, 9.37, 0.9, 0.09, 0.07], [1.0, 1.0, 1.0, 2.0, 0.0, 1783.64, 11.68, 1.12, 13.07, 12.36, 1.529686, 2.247796, 3.441217, 283.3, 309.6, 347.0, 1994.5, -23.44, 22.35, 1002.0, 2.0, 0.2, 1.96, 0.0, 1.32, 4.23, 4840.0, 8.809515, 0.2, 3.5, 13.0, 608.4120264650286, 19.5839, 41.8719, -27.6, 1.1504, 3.0, 0.0, 2.342, 5.699, -1.2, 9.33, 11.76, 0.06, 0.34], [1.0, 4.0, 2.0, 1.0, 0.0, 2.04, 1.29, 0.96, 1.23, 1.26, 196.6971, 196.6971, 196.6971, 954.1, 954.1, 954.1, 1.9, -23.49, 2.45, 5.51, 0.06, 0.0, 0.06, 0.0, 0.95, 0.91, 5556.0, 0.7079810000000001, -0.06071394910461843, 3.72, 13.3, 420.0, 19.2864, 46.458, -32.5, 8.09, 1.0, 0.0, 0.64, 1.517, -2.32, -0.16, -0.94, 0.28, 0.29], [1.0, 2.0, 2.0, 1.0, 0.0, 10.17, 1.99, 1.28, 2.56, 2.26, 2.648545, 2.648546, 2.648546, 325.0, 325.0, 325.0, 13.1, -19.74, 3.79, 23.97, 0.132, 0.0, 0.13, 0.0, 0.56, 0.51, 3750.0, 0.046148, 0.119, 4.205140795802378, 12.237222991689752, 608.4120264650286, 18.9244, 39.8981, -27.8, 2.0591, 2.0, 0.0, 0.175, 0.449, -1.31, -0.13, 0.69, 0.4, 0.6], [1.0, 2.0, 2.0, 1.0, 0.0, 17.18, 2.26, 1.48, 3.36, 2.76, 26.94277, 26.94277, 26.94278, 580.4, 580.4, 580.4, 25.5, -22.55, 4.3, 13.63, 0.1023, 0.0, 0.1, 0.0, 0.77, 0.74, 4895.0, 0.282075, -0.06071394910461843, 5.62, 15.5, 682.0, 18.9737, 41.1964, -30.3, 3.8549, 1.0, 0.0, 0.418, 1.015, -2.06, -0.12, 0.48, 0.32, 0.29], [1.0, 2.0, 2.0, 1.0, 0.0, 11.37, 2.05, 1.32, 2.71, 2.36, 84.64725, 84.64725, 84.64726, 772.8, 772.8, 772.8, 15.0, -23.58, 3.9, 7.06, 0.068, 0.0, 0.07, 0.0, 0.77, 0.81, 5078.0, 0.391409, -0.093, 4.205140795802378, 12.237222991689752, 608.4120264650286, 19.3678, 43.0838, -31.6, 6.3512, 2.0, 0.0, 0.488, 1.177, -2.22, -0.13, -0.09, 0.31, 0.27], [1.0, 1.0, 1.0, 1.0, 0.0, 281.06, 19.11, 0.04, 0.77, 3.84, 1742.763, 1849.676, 1964.973, 1646.1, 1670.5, 1696.2, 11.3, -31.82, 36.95, 2.99, 0.0432, 0.03, 0.04, 300.0, 1.2, 1.61, 6207.0, 3.451982, -0.116, 4.38, 12.237222991689752, 211.0, 10.4708, 25.5732, -34.9, 19.9662, 1.0, 0.0, 1.358, 3.169, -2.45, 14.97, 0.08, 0.06, 0.05], [2.0, 1.0, 1.0, 2.0, 0.0, 3783.49, 11.47, 2.51, 28.76, 18.16, 9.11e-05, 9.11e-05, 9.11e-05, 24.9, 24.9, 24.9, 9489.2, -12.35, 21.93, 720.5573964013066, 0.42, 0.0, 0.42, 0.0, 0.02, 1.4933198489751924, 5466.089986504723, 1.6e-05, -0.06071394910461843, 4.205140795802378, 12.237222991689752, 3050.0, 17.8569, -29.7422, -16.6, 6.967479314994602, 1.0, 0.0, 0.9691419703103896, 2.313927665317145, 201.76, 12.12, 68.65, 0.0, 0.06], [1.0, 4.0, 2.0, 1.0, 0.0, 1.07, 1.06, 0.89, 0.94, 1.0, 23.509, 23.509, 23.50901, 561.0, 561.0, 561.0, 0.9, -20.75, 2.02, 26.55, 0.1694, 0.0, 0.17, 0.0, 0.92, 0.89, 5550.0, 0.6742819999999999, -0.06071394910461843, 4.17, 14.0, 463.0, 19.9908, 45.8274, -30.2, 2.8008, 1.0, 0.0, 0.625, 1.481, -2.06, -0.17, -0.91, 0.31, 0.35], [1.0, 3.0, 1.0, 1.0, 0.0, 3.62, 2.67, 0.19, 0.51, 1.16, 9.05675, 9.05675, 9.056753, 442.0, 442.0, 442.0, 0.7, -21.72, 5.07, 91.94, 0.42, 0.0, 0.42, 0.0, 1.13, 1.2, 5930.0, 1.597611, -0.17, 4.205140795802378, 14.0, 608.4120264650286, 18.9622, 49.3052, -29.1, 1.5227, 8.0, 1.0, 0.94, 2.206, -1.82, 2.44, -0.66, 0.24, 0.35], [1.0, 2.0, 2.0, 1.0, 0.0, 16.46, 2.24, 1.46, 3.28, 2.71, 6.553128, 6.553128, 6.553129, 407.6, 407.6, 407.6, 24.1, -20.98, 4.26, 47.43, 0.24, 0.0, 0.24, 0.0, 0.82, 0.78, 5128.0, 0.37746, 0.071, 4.205140795802378, 12.237222991689752, 608.4120264650286, 18.9979, 42.0792, -28.8, 1.732, 2.0, 0.0, 0.478, 1.15, -1.71, -0.12, 0.87, 0.34, 0.41]]\n"
     ]
    }
   ],
   "source": [
    "testr = []\n",
    "for i in testrows:\n",
    "    testr.append(list(data.loc[i]))\n",
    "print(testr)"
   ]
  },
  {
   "cell_type": "code",
   "execution_count": 29,
   "metadata": {},
   "outputs": [
    {
     "name": "stdout",
     "output_type": "stream",
     "text": [
      "[True, True, True, True, True, True, True, True, True, True, True, True, True, True, True, True, True, True, True, True, True, True, True, True, True, True, True, True, True, True, True, True, True, True, True, True, True, True, True, True, True, True, True, True, True, True, True, True, True, True, True, True, True, True, True, True, True, True, True, True, True, True, True, True, True, True, True, True, True, True, True, True, True, True, True, True, True, True, True, True, True, True, True, True, True, True, True, True, True, True, True, True, True, True, True, True, True, True, True, True]\n"
     ]
    }
   ],
   "source": [
    "outp = []\n",
    "eucdist = []\n",
    "i = 0\n",
    "for row in testr:\n",
    " \n",
    "    dist = euclid(row, i);\n",
    "    m1 = dist.index(min(dist));\n",
    "    dist[m1] = math.inf;\n",
    "    m2 = dist.index(min(dist));\n",
    "    dist[m2] = math.inf;\n",
    "    m3 = dist.index(min(dist));\n",
    "    dist[m3] = math.inf;\n",
    "  \n",
    "    out = mode(data['P. Habitable Class'][m1], data['P. Habitable Class'][m2], data['P. Habitable Class'][m3])\n",
    "    outputval.append(out);\n",
    "    eucdist.append(out == row[4]);\n",
    "    #print(str(len(dist))+\" \"+str(len(data)));\n",
    "    \n",
    "    i = i + 1;\n",
    "print(eucdist)"
   ]
  },
  {
   "cell_type": "code",
   "execution_count": 30,
   "metadata": {},
   "outputs": [],
   "source": [
    "accuracy_tuple = []\n",
    "precision_tuple = []\n",
    "recall_tuple = []\n",
    "fscore_tuple = []\n",
    "for iter in range(25):\n",
    "    tn = 0.00001\n",
    "    tp = 0.00001\n",
    "    fn = 0.00001\n",
    "    fp = 0.00001\n",
    "    testrows = []\n",
    "    while(len(testrows)!=100):\n",
    "        a = random.randint(0,len(data)-1)\n",
    "        if(a not in testrows):\n",
    "            testrows.append(a)\n",
    "    testr = []\n",
    "    for i in testrows:\n",
    "        testr.append(list(data.loc[i]))\n",
    "    outp = []\n",
    "    eucdist = []\n",
    "    i = 0\n",
    "    for row in testr:\n",
    " \n",
    "        dist = euclid(row, i);\n",
    "        m1 = dist.index(min(dist));\n",
    "        dist[m1] = math.inf;\n",
    "        m2 = dist.index(min(dist));\n",
    "        dist[m2] = math.inf;\n",
    "        m3 = dist.index(min(dist));\n",
    "        dist[m3] = math.inf;\n",
    "  \n",
    "        out = mode(data['P. Habitable Class'][m1], data['P. Habitable Class'][m2], data['P. Habitable Class'][m3])\n",
    "        outputval.append(out);\n",
    "        if(int(out) == 1 and int(row[5]) == 1):\n",
    "            \n",
    "            tp = tp + 1\n",
    "        if(int(out) == 1 and int(row[5]) == 0):\n",
    "            \n",
    "            fp = fp + 1\n",
    "        if(int(out) == 0 and int(row[5]) == 0):\n",
    "            \n",
    "            tn = tn + 1\n",
    "        if(int(out) == 0 and int(row[5]) == 1):\n",
    "            \n",
    "            fn = fn + 1\n",
    "        eucdist.append(out == row[4]);\n",
    "        #print(str(len(dist))+\" \"+str(len(data)));\n",
    "    \n",
    "        i = i + 1;\n",
    "    precision = tp/(tp + fp)\n",
    "    recall = tp/(tp + fn)\n",
    "    fscore = 2*(precision*recall)/(recall + precision)\n",
    "    precision_tuple.append(precision)\n",
    "    recall_tuple.append(recall)\n",
    "    fscore_tuple.append(fscore)\n",
    "    count = 0;\n",
    "    for k in eucdist:\n",
    "        if(k == True):\n",
    "            count = count + 1\n",
    "    accuracy_tuple.append(count/len(eucdist))\n",
    "        "
   ]
  },
  {
   "cell_type": "code",
   "execution_count": 31,
   "metadata": {},
   "outputs": [
    {
     "name": "stdout",
     "output_type": "stream",
     "text": [
      "[0.99, 0.99, 1.0, 0.99, 1.0, 0.96, 1.0, 0.98, 1.0, 0.98, 0.96, 0.99, 0.97, 0.99, 1.0, 1.0, 0.97, 0.98, 1.0, 1.0, 0.99, 0.99, 1.0, 1.0, 0.97]\n",
      "[9.999980000040002e-07, 1.999992000032e-06, 2.4999875000625e-06, 9.999980000040002e-07, 1.6666611111296298e-06, 1.2499968750078127e-06, 0.12500093749765628, 1.1111086419807957e-06, 1.999992000032e-06, 1.4285673469504376e-06, 2.4999875000625e-06, 0.16666777777407413, 1.4285673469504376e-06, 4.999950000499995e-06, 2.4999875000625e-06, 2.4999875000625e-06, 2.4999875000625e-06, 2.4999875000625e-06, 1.2499968750078127e-06, 1.999992000032e-06, 1.4285673469504376e-06, 3.3333111112592582e-06, 2.4999875000625e-06, 1.999992000032e-06, 2.4999875000625e-06]\n",
      "[1.9999920000320006e-06, 3.9999680002559986e-06, 4.999950000499996e-06, 1.9999920000320006e-06, 3.333311111259259e-06, 2.4999875000625e-06, 0.22222345678463654, 2.222212345722908e-06, 3.9999680002559986e-06, 2.857126530705539e-06, 4.999950000499996e-06, 0.25000124999375006, 2.857126530705539e-06, 9.999800003999922e-06, 4.999950000499996e-06, 4.999950000499996e-06, 4.999950000499996e-06, 4.999950000499996e-06, 2.4999875000625e-06, 3.9999680002559986e-06, 2.4999875000624998e-06, 6.666577778962947e-06, 4.999950000499996e-06, 3.9999680002559986e-06, 4.999950000499996e-06]\n",
      "[0.5, 0.5, 0.5, 0.5, 0.5, 0.5, 0.999990000199996, 0.5, 0.5, 0.5, 0.5, 0.5, 0.5, 0.5, 0.5, 0.5, 0.5, 0.5, 0.5, 0.5, 9.99980000399992e-06, 0.5, 0.5, 0.5, 0.5]\n"
     ]
    }
   ],
   "source": [
    "print(accuracy_tuple)\n",
    "print(recall_tuple)\n",
    "print(fscore_tuple)\n",
    "print(precision_tuple)"
   ]
  },
  {
   "cell_type": "code",
   "execution_count": 34,
   "metadata": {},
   "outputs": [
    {
     "name": "stdout",
     "output_type": "stream",
     "text": [
      "98.8\n",
      "50.0\n",
      "1.1668664474495472\n",
      "1.8892805694047732\n"
     ]
    }
   ],
   "source": [
    "accuracy = np.mean(accuracy_tuple)*100\n",
    "print(accuracy)\n",
    "\n",
    "ps = np.mean(precision_tuple)*100\n",
    "print(ps)\n",
    "\n",
    "rc = np.mean(recall_tuple)*100\n",
    "print(rc)\n",
    "\n",
    "f1 = np.mean(fscore_tuple)*100\n",
    "print(f1)\n"
   ]
  },
  {
   "cell_type": "code",
   "execution_count": 35,
   "metadata": {},
   "outputs": [],
   "source": [
    "import matplotlib.pyplot as plt"
   ]
  },
  {
   "cell_type": "code",
   "execution_count": 36,
   "metadata": {},
   "outputs": [
    {
     "data": {
      "image/png": "[encoded data removed]",
      "text/plain": [
       "<Figure size 432x288 with 1 Axes>"
      ]
     },
     "metadata": {
      "needs_background": "light"
     },
     "output_type": "display_data"
    }
   ],
   "source": [
    "x_axis = range(1,26)\n",
    "plt.plot(x_axis, accuracy_tuple)\n",
    "plt.ylabel(\"Accuracy\")\n",
    "plt.show()"
   ]
  },
  {
   "cell_type": "code",
   "execution_count": 37,
   "metadata": {},
   "outputs": [
    {
     "data": {
      "image/png": "[encoded data removed]",
      "text/plain": [
       "<Figure size 432x288 with 1 Axes>"
      ]
     },
     "metadata": {
      "needs_background": "light"
     },
     "output_type": "display_data"
    }
   ],
   "source": [
    "plt.plot(x_axis, precision_tuple)\n",
    "plt.ylabel(\"Precision\")\n",
    "plt.show()"
   ]
  },
  {
   "cell_type": "code",
   "execution_count": 38,
   "metadata": {},
   "outputs": [
    {
     "data": {
      "image/png": "[encoded data removed]",
      "text/plain": [
       "<Figure size 432x288 with 1 Axes>"
      ]
     },
     "metadata": {
      "needs_background": "light"
     },
     "output_type": "display_data"
    }
   ],
   "source": [
    "plt.plot(x_axis, recall_tuple)\n",
    "plt.ylabel(\"Recall\")\n",
    "plt.show()"
   ]
  },
  {
   "cell_type": "code",
   "execution_count": 39,
   "metadata": {},
   "outputs": [
    {
     "data": {
      "image/png": "[encoded data removed]",
      "text/plain": [
       "<Figure size 432x288 with 1 Axes>"
      ]
     },
     "metadata": {
      "needs_background": "light"
     },
     "output_type": "display_data"
    }
   ],
   "source": [
    "plt.plot(x_axis, fscore_tuple)\n",
    "plt.ylabel(\"F1 Score\")\n",
    "plt.show()"
   ]
  },
  {
   "cell_type": "code",
   "execution_count": null,
   "metadata": {},
   "outputs": [],
   "source": []
  }
 ],
 "metadata": {
  "kernelspec": {
   "display_name": "Python 3",
   "language": "python",
   "name": "python3"
  },
  "language_info": {
   "codemirror_mode": {
    "name": "ipython",
    "version": 3
   },
   "file_extension": ".py",
   "mimetype": "text/x-python",
   "name": "python",
   "nbconvert_exporter": "python",
   "pygments_lexer": "ipython3",
   "version": "3.7.0"
  }
 },
 "nbformat": 4,
 "nbformat_minor": 2
}
