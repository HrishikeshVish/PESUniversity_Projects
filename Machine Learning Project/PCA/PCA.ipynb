{
 "cells": [
  {
   "cell_type": "code",
   "execution_count": 1,
   "metadata": {},
   "outputs": [],
   "source": [
    "import pandas as pd\n",
    "import numpy as np\n",
    "from sklearn.preprocessing import StandardScaler\n",
    "from matplotlib import*\n",
    "import matplotlib.pyplot as plt\n",
    "from matplotlib.cm import register_cmap\n",
    "from scipy import stats\n",
    "from sklearn.decomposition import PCA as sklearnPCA\n",
    "import seaborn\n"
   ]
  },
  {
   "cell_type": "code",
   "execution_count": 2,
   "metadata": {},
   "outputs": [],
   "source": [
    "data = pd.read_csv(\"cleaninput.csv\", low_memory = False);\n",
    "data = data.drop('P. Name', 1);\n",
    "data = data.drop('P. Disc. Method',1);\n",
    "data = data.drop('P. Confirmed', 1);\n",
    "data = data.drop('P. Hab Moon', 1);\n",
    "data = data.drop('P. Habitable', 1);\n",
    "data = data.drop('S. HabCat', 1);\n",
    "data = data.drop('S. Type', 1);\n",
    "data = data.drop('S. Constellation', 1);\n",
    "data.to_csv('knn.csv');"
   ]
  },
  {
   "cell_type": "code",
   "execution_count": 3,
   "metadata": {},
   "outputs": [
    {
     "name": "stdout",
     "output_type": "stream",
     "text": [
      "1    3220\n",
      "2     341\n",
      "3     229\n",
      "Name: P. Zone Class, dtype: int64\n"
     ]
    }
   ],
   "source": [
    "zoneclass = {'Hot':1, 'Cold':2, 'Warm':3};\n",
    "data['P. Zone Class'] = [zoneclass[item] for item in data['P. Zone Class']];\n",
    "print(data['P. Zone Class'].value_counts())"
   ]
  },
  {
   "cell_type": "code",
   "execution_count": 4,
   "metadata": {},
   "outputs": [
    {
     "name": "stdout",
     "output_type": "stream",
     "text": [
      "1    1205\n",
      "2     990\n",
      "3     808\n",
      "4     710\n",
      "5      72\n",
      "6       5\n",
      "Name: P. Mass Class, dtype: int64\n"
     ]
    }
   ],
   "source": [
    "massclass = {'Jovian':1, 'Superterran':2, 'Neptunian':3, 'Terran':4, 'Subterran':5, 'Mercurian':6};\n",
    "data['P. Mass Class'] = [massclass[item] for item in data['P. Mass Class']];\n",
    "print(data['P. Mass Class'].value_counts())"
   ]
  },
  {
   "cell_type": "code",
   "execution_count": 5,
   "metadata": {},
   "outputs": [
    {
     "name": "stdout",
     "output_type": "stream",
     "text": [
      "1    2041\n",
      "2    1663\n",
      "3      45\n",
      "4      24\n",
      "5      17\n",
      "Name: P. Composition Class, dtype: int64\n"
     ]
    }
   ],
   "source": [
    "compclass = {'gas':1, 'rocky-iron':2, 'rocky-water':3, 'water-gas':4, 'iron':5};\n",
    "data['P. Composition Class'] = [compclass[item] for item in data['P. Composition Class']];\n",
    "print(data['P. Composition Class'].value_counts())"
   ]
  },
  {
   "cell_type": "code",
   "execution_count": 6,
   "metadata": {},
   "outputs": [
    {
     "name": "stdout",
     "output_type": "stream",
     "text": [
      "1    2372\n",
      "2    1041\n",
      "3     377\n",
      "Name: P. Atmosphere Class, dtype: int64\n"
     ]
    }
   ],
   "source": [
    "atclass = {'metals-rich':1, 'hydrogen-rich':2, 'no-atmosphere':3};\n",
    "data['P. Atmosphere Class'] = [atclass[item] for item in data['P. Atmosphere Class']];\n",
    "print(data['P. Atmosphere Class'].value_counts())"
   ]
  },
  {
   "cell_type": "code",
   "execution_count": 7,
   "metadata": {},
   "outputs": [
    {
     "name": "stdout",
     "output_type": "stream",
     "text": [
      "0    3735\n",
      "1      55\n",
      "Name: P. Habitable Class, dtype: int64\n"
     ]
    }
   ],
   "source": [
    "habclass = {'non-habitable':0, 'mesoplanet':1, 'psychroplanet':1, 'hypopsychroplanet':1, 'thermoplanet':1};\n",
    "data['P. Habitable Class'] = [habclass[item] for item in data['P. Habitable Class']];\n",
    "print(data['P. Habitable Class'].value_counts())"
   ]
  },
  {
   "cell_type": "code",
   "execution_count": 8,
   "metadata": {},
   "outputs": [],
   "source": [
    "data.to_csv('knn.csv');"
   ]
  },
  {
   "cell_type": "code",
   "execution_count": 10,
   "metadata": {},
   "outputs": [
    {
     "ename": "KeyError",
     "evalue": "\"['P. Habitable Class'] not found in axis\"",
     "output_type": "error",
     "traceback": [
      "\u001b[1;31m---------------------------------------------------------------------------\u001b[0m",
      "\u001b[1;31mKeyError\u001b[0m                                  Traceback (most recent call last)",
      "\u001b[1;32m<ipython-input-10-d085eec97c79>\u001b[0m in \u001b[0;36m<module>\u001b[1;34m\u001b[0m\n\u001b[1;32m----> 1\u001b[1;33m \u001b[0mdata\u001b[0m \u001b[1;33m=\u001b[0m \u001b[0mdata\u001b[0m\u001b[1;33m.\u001b[0m\u001b[0mdrop\u001b[0m\u001b[1;33m(\u001b[0m\u001b[1;34m'P. Habitable Class'\u001b[0m\u001b[1;33m,\u001b[0m\u001b[1;36m1\u001b[0m\u001b[1;33m)\u001b[0m\u001b[1;33m;\u001b[0m\u001b[1;33m\u001b[0m\u001b[0m\n\u001b[0m\u001b[0;32m      2\u001b[0m \u001b[0mdata\u001b[0m\u001b[1;33m.\u001b[0m\u001b[0mto_csv\u001b[0m\u001b[1;33m(\u001b[0m\u001b[1;34m'knn.csv'\u001b[0m\u001b[1;33m)\u001b[0m\u001b[1;33m;\u001b[0m\u001b[1;33m\u001b[0m\u001b[0m\n",
      "\u001b[1;32m~\\Miniconda3\\lib\\site-packages\\pandas\\core\\frame.py\u001b[0m in \u001b[0;36mdrop\u001b[1;34m(self, labels, axis, index, columns, level, inplace, errors)\u001b[0m\n\u001b[0;32m   4100\u001b[0m             \u001b[0mlevel\u001b[0m\u001b[1;33m=\u001b[0m\u001b[0mlevel\u001b[0m\u001b[1;33m,\u001b[0m\u001b[1;33m\u001b[0m\u001b[0m\n\u001b[0;32m   4101\u001b[0m             \u001b[0minplace\u001b[0m\u001b[1;33m=\u001b[0m\u001b[0minplace\u001b[0m\u001b[1;33m,\u001b[0m\u001b[1;33m\u001b[0m\u001b[0m\n\u001b[1;32m-> 4102\u001b[1;33m             \u001b[0merrors\u001b[0m\u001b[1;33m=\u001b[0m\u001b[0merrors\u001b[0m\u001b[1;33m,\u001b[0m\u001b[1;33m\u001b[0m\u001b[0m\n\u001b[0m\u001b[0;32m   4103\u001b[0m         )\n\u001b[0;32m   4104\u001b[0m \u001b[1;33m\u001b[0m\u001b[0m\n",
      "\u001b[1;32m~\\Miniconda3\\lib\\site-packages\\pandas\\core\\generic.py\u001b[0m in \u001b[0;36mdrop\u001b[1;34m(self, labels, axis, index, columns, level, inplace, errors)\u001b[0m\n\u001b[0;32m   3912\u001b[0m         \u001b[1;32mfor\u001b[0m \u001b[0maxis\u001b[0m\u001b[1;33m,\u001b[0m \u001b[0mlabels\u001b[0m \u001b[1;32min\u001b[0m \u001b[0maxes\u001b[0m\u001b[1;33m.\u001b[0m\u001b[0mitems\u001b[0m\u001b[1;33m(\u001b[0m\u001b[1;33m)\u001b[0m\u001b[1;33m:\u001b[0m\u001b[1;33m\u001b[0m\u001b[0m\n\u001b[0;32m   3913\u001b[0m             \u001b[1;32mif\u001b[0m \u001b[0mlabels\u001b[0m \u001b[1;32mis\u001b[0m \u001b[1;32mnot\u001b[0m \u001b[1;32mNone\u001b[0m\u001b[1;33m:\u001b[0m\u001b[1;33m\u001b[0m\u001b[0m\n\u001b[1;32m-> 3914\u001b[1;33m                 \u001b[0mobj\u001b[0m \u001b[1;33m=\u001b[0m \u001b[0mobj\u001b[0m\u001b[1;33m.\u001b[0m\u001b[0m_drop_axis\u001b[0m\u001b[1;33m(\u001b[0m\u001b[0mlabels\u001b[0m\u001b[1;33m,\u001b[0m \u001b[0maxis\u001b[0m\u001b[1;33m,\u001b[0m \u001b[0mlevel\u001b[0m\u001b[1;33m=\u001b[0m\u001b[0mlevel\u001b[0m\u001b[1;33m,\u001b[0m \u001b[0merrors\u001b[0m\u001b[1;33m=\u001b[0m\u001b[0merrors\u001b[0m\u001b[1;33m)\u001b[0m\u001b[1;33m\u001b[0m\u001b[0m\n\u001b[0m\u001b[0;32m   3915\u001b[0m \u001b[1;33m\u001b[0m\u001b[0m\n\u001b[0;32m   3916\u001b[0m         \u001b[1;32mif\u001b[0m \u001b[0minplace\u001b[0m\u001b[1;33m:\u001b[0m\u001b[1;33m\u001b[0m\u001b[0m\n",
      "\u001b[1;32m~\\Miniconda3\\lib\\site-packages\\pandas\\core\\generic.py\u001b[0m in \u001b[0;36m_drop_axis\u001b[1;34m(self, labels, axis, level, errors)\u001b[0m\n\u001b[0;32m   3944\u001b[0m                 \u001b[0mnew_axis\u001b[0m \u001b[1;33m=\u001b[0m \u001b[0maxis\u001b[0m\u001b[1;33m.\u001b[0m\u001b[0mdrop\u001b[0m\u001b[1;33m(\u001b[0m\u001b[0mlabels\u001b[0m\u001b[1;33m,\u001b[0m \u001b[0mlevel\u001b[0m\u001b[1;33m=\u001b[0m\u001b[0mlevel\u001b[0m\u001b[1;33m,\u001b[0m \u001b[0merrors\u001b[0m\u001b[1;33m=\u001b[0m\u001b[0merrors\u001b[0m\u001b[1;33m)\u001b[0m\u001b[1;33m\u001b[0m\u001b[0m\n\u001b[0;32m   3945\u001b[0m             \u001b[1;32melse\u001b[0m\u001b[1;33m:\u001b[0m\u001b[1;33m\u001b[0m\u001b[0m\n\u001b[1;32m-> 3946\u001b[1;33m                 \u001b[0mnew_axis\u001b[0m \u001b[1;33m=\u001b[0m \u001b[0maxis\u001b[0m\u001b[1;33m.\u001b[0m\u001b[0mdrop\u001b[0m\u001b[1;33m(\u001b[0m\u001b[0mlabels\u001b[0m\u001b[1;33m,\u001b[0m \u001b[0merrors\u001b[0m\u001b[1;33m=\u001b[0m\u001b[0merrors\u001b[0m\u001b[1;33m)\u001b[0m\u001b[1;33m\u001b[0m\u001b[0m\n\u001b[0m\u001b[0;32m   3947\u001b[0m             \u001b[0mresult\u001b[0m \u001b[1;33m=\u001b[0m \u001b[0mself\u001b[0m\u001b[1;33m.\u001b[0m\u001b[0mreindex\u001b[0m\u001b[1;33m(\u001b[0m\u001b[1;33m**\u001b[0m\u001b[1;33m{\u001b[0m\u001b[0maxis_name\u001b[0m\u001b[1;33m:\u001b[0m \u001b[0mnew_axis\u001b[0m\u001b[1;33m}\u001b[0m\u001b[1;33m)\u001b[0m\u001b[1;33m\u001b[0m\u001b[0m\n\u001b[0;32m   3948\u001b[0m \u001b[1;33m\u001b[0m\u001b[0m\n",
      "\u001b[1;32m~\\Miniconda3\\lib\\site-packages\\pandas\\core\\indexes\\base.py\u001b[0m in \u001b[0;36mdrop\u001b[1;34m(self, labels, errors)\u001b[0m\n\u001b[0;32m   5338\u001b[0m         \u001b[1;32mif\u001b[0m \u001b[0mmask\u001b[0m\u001b[1;33m.\u001b[0m\u001b[0many\u001b[0m\u001b[1;33m(\u001b[0m\u001b[1;33m)\u001b[0m\u001b[1;33m:\u001b[0m\u001b[1;33m\u001b[0m\u001b[0m\n\u001b[0;32m   5339\u001b[0m             \u001b[1;32mif\u001b[0m \u001b[0merrors\u001b[0m \u001b[1;33m!=\u001b[0m \u001b[1;34m\"ignore\"\u001b[0m\u001b[1;33m:\u001b[0m\u001b[1;33m\u001b[0m\u001b[0m\n\u001b[1;32m-> 5340\u001b[1;33m                 \u001b[1;32mraise\u001b[0m \u001b[0mKeyError\u001b[0m\u001b[1;33m(\u001b[0m\u001b[1;34m\"{} not found in axis\"\u001b[0m\u001b[1;33m.\u001b[0m\u001b[0mformat\u001b[0m\u001b[1;33m(\u001b[0m\u001b[0mlabels\u001b[0m\u001b[1;33m[\u001b[0m\u001b[0mmask\u001b[0m\u001b[1;33m]\u001b[0m\u001b[1;33m)\u001b[0m\u001b[1;33m)\u001b[0m\u001b[1;33m\u001b[0m\u001b[0m\n\u001b[0m\u001b[0;32m   5341\u001b[0m             \u001b[0mindexer\u001b[0m \u001b[1;33m=\u001b[0m \u001b[0mindexer\u001b[0m\u001b[1;33m[\u001b[0m\u001b[1;33m~\u001b[0m\u001b[0mmask\u001b[0m\u001b[1;33m]\u001b[0m\u001b[1;33m\u001b[0m\u001b[0m\n\u001b[0;32m   5342\u001b[0m         \u001b[1;32mreturn\u001b[0m \u001b[0mself\u001b[0m\u001b[1;33m.\u001b[0m\u001b[0mdelete\u001b[0m\u001b[1;33m(\u001b[0m\u001b[0mindexer\u001b[0m\u001b[1;33m)\u001b[0m\u001b[1;33m\u001b[0m\u001b[0m\n",
      "\u001b[1;31mKeyError\u001b[0m: \"['P. Habitable Class'] not found in axis\""
     ]
    }
   ],
   "source": [
    "data = data.drop('P. Habitable Class',1);\n",
    "data.to_csv('knn.csv');"
   ]
  },
  {
   "cell_type": "code",
   "execution_count": 11,
   "metadata": {},
   "outputs": [
    {
     "name": "stdout",
     "output_type": "stream",
     "text": [
      "['P. Zone Class', 'P. Mass Class', 'P. Composition Class', 'P. Atmosphere Class', 'P. Mass (EU)', 'P. Radius (EU)', 'P. Density (EU)', 'P. Gravity (EU)', 'P. Esc Vel (EU)', 'P. SFlux Min (EU)', 'P. SFlux Mean (EU)', 'P. SFlux Max (EU)', 'P. Teq Min (K)', 'P. Teq Mean (K)', 'P. Teq Max (K)', 'P. Surf Press (EU)', 'P. Mag', 'P. Appar Size (deg)', 'P. Period (days)', 'P. Sem Major Axis (AU)', 'P. Eccentricity', 'P. Mean Distance (AU)', 'P. Omega (deg)', 'S. Mass (SU)', 'S. Radius (SU)', 'S. Teff (K)', 'S. Luminosity (SU)', 'S. [Fe/H]', 'S. Age (Gyrs)', 'S. Appar Mag', 'S. Distance (pc)', 'S. RA (hrs)', 'S. DEC (deg)', 'S. Mag from Planet', 'S. Size from Planet (deg)', 'S. No. Planets', 'S. No. Planets HZ', 'S. Hab Zone Min (AU)', 'S. Hab Zone Max (AU)', 'P. HZD', 'P. HZC', 'P. HZA', 'P. HZI', 'P. ESI']\n"
     ]
    }
   ],
   "source": [
    "features = list(data);\n",
    "print(features)"
   ]
  },
  {
   "cell_type": "code",
   "execution_count": 13,
   "metadata": {},
   "outputs": [],
   "source": [
    "x = data.loc[:,features].values\n",
    "x = StandardScaler().fit_transform(x)"
   ]
  },
  {
   "cell_type": "code",
   "execution_count": 30,
   "metadata": {},
   "outputs": [],
   "source": [
    "pca = sklearnPCA(n_components=10);"
   ]
  },
  {
   "cell_type": "code",
   "execution_count": 31,
   "metadata": {},
   "outputs": [],
   "source": [
    "principalComponents = pca.fit_transform(x)\n",
    "principalDf = pd.DataFrame(data = principalComponents, columns = ['principal component 1', 'principal component 2', 'principal component 3', 'principal component 4', 'principal component 5', 'principal component 6', 'principal component 7', 'principal component 8', 'principal component 9', 'principal component 10'])\n",
    "#principalDf = pd.DataFrame(data = principalComponents, columns = ['principal component 1', 'principal component 2'])"
   ]
  },
  {
   "cell_type": "code",
   "execution_count": 32,
   "metadata": {},
   "outputs": [
    {
     "name": "stdout",
     "output_type": "stream",
     "text": [
      "['principal component 1', 'principal component 2', 'principal component 3', 'principal component 4', 'principal component 5', 'principal component 6', 'principal component 7', 'principal component 8', 'principal component 9', 'principal component 10']\n"
     ]
    }
   ],
   "source": [
    "print(list(principalDf))"
   ]
  },
  {
   "cell_type": "code",
   "execution_count": 33,
   "metadata": {},
   "outputs": [
    {
     "name": "stdout",
     "output_type": "stream",
     "text": [
      "<class 'pandas.core.frame.DataFrame'>\n"
     ]
    }
   ],
   "source": [
    "print(type(principalDf))"
   ]
  },
  {
   "cell_type": "code",
   "execution_count": 34,
   "metadata": {},
   "outputs": [
    {
     "name": "stdout",
     "output_type": "stream",
     "text": [
      "      principal component 1  principal component 2  principal component 3  \\\n",
      "0                  7.539049              -4.033939               3.103067   \n",
      "1                  6.134000              -2.623389               2.697777   \n",
      "2                  6.575255              -4.983497               3.280990   \n",
      "3                  7.224399              -4.898131               3.982012   \n",
      "4                  7.523355              -5.618420               3.731225   \n",
      "...                     ...                    ...                    ...   \n",
      "3785               1.067799               1.423349              -0.166492   \n",
      "3786               1.651385               1.593432              -0.451713   \n",
      "3787              -2.033706              -2.838402              -0.045994   \n",
      "3788              -2.061623              -3.285581              -0.156514   \n",
      "3789              -2.114565              -3.756262              -0.297857   \n",
      "\n",
      "      principal component 4  principal component 5  principal component 6  \\\n",
      "0                 -0.702085              -1.049736              -3.246287   \n",
      "1                  0.045367              -1.013792               0.403117   \n",
      "2                 -0.667639              -0.422615              -1.706461   \n",
      "3                  0.092613              -0.696157              -0.869303   \n",
      "4                 -1.180957              -0.668079              -2.753940   \n",
      "...                     ...                    ...                    ...   \n",
      "3785              -1.597914              -0.789203               0.150103   \n",
      "3786              -2.116933              -0.444904               0.641401   \n",
      "3787              -0.241221               0.714367               0.418527   \n",
      "3788              -0.200361               1.016101               0.509179   \n",
      "3789              -0.164305               1.400614               0.674678   \n",
      "\n",
      "      principal component 7  principal component 8  principal component 9  \\\n",
      "0                 -1.148569              -0.721815              -1.121806   \n",
      "1                 -1.753568               0.310910              -0.603626   \n",
      "2                 -0.911447               1.094312              -0.808984   \n",
      "3                 -1.200682               1.238914              -0.767366   \n",
      "4                 -0.557536               1.701437              -0.936573   \n",
      "...                     ...                    ...                    ...   \n",
      "3785               0.019742              -0.218591               0.820527   \n",
      "3786               0.744135              -0.059435               1.012351   \n",
      "3787               1.774991               0.973075               0.388611   \n",
      "3788               1.774148               0.922402               0.400817   \n",
      "3789               1.876456               0.891612               0.406589   \n",
      "\n",
      "      principal component 10  \n",
      "0                  -0.361494  \n",
      "1                   0.216689  \n",
      "2                  -1.681861  \n",
      "3                  -1.358847  \n",
      "4                  -3.028168  \n",
      "...                      ...  \n",
      "3785               -0.790688  \n",
      "3786               -1.043268  \n",
      "3787               -2.790832  \n",
      "3788               -2.744679  \n",
      "3789               -2.702023  \n",
      "\n",
      "[3790 rows x 10 columns]\n"
     ]
    }
   ],
   "source": [
    "print(principalDf)"
   ]
  },
  {
   "cell_type": "code",
   "execution_count": 35,
   "metadata": {},
   "outputs": [
    {
     "name": "stdout",
     "output_type": "stream",
     "text": [
      "      P. Zone Class  P. Mass Class  P. Composition Class  P. Atmosphere Class  \\\n",
      "0                 2              1                     1                    2   \n",
      "1                 2              1                     1                    2   \n",
      "2                 2              1                     1                    2   \n",
      "3                 2              1                     1                    2   \n",
      "4                 2              1                     1                    2   \n",
      "...             ...            ...                   ...                  ...   \n",
      "3785              1              1                     1                    1   \n",
      "3786              1              1                     1                    1   \n",
      "3787              1              4                     2                    1   \n",
      "3788              1              4                     2                    1   \n",
      "3789              1              4                     2                    1   \n",
      "\n",
      "      P. Mass (EU)  P. Radius (EU)  P. Density (EU)  P. Gravity (EU)  \\\n",
      "0          4451.16           19.04             0.64            12.28   \n",
      "1          6358.80           10.94             4.86            53.12   \n",
      "2          4133.22           11.40             2.79            31.79   \n",
      "3          6358.80           11.20             4.53            50.69   \n",
      "4          4419.37           16.13             1.05            16.99   \n",
      "...            ...             ...              ...              ...   \n",
      "3785        108.10            7.97             0.21             1.70   \n",
      "3786        127.18            8.34             0.22             1.83   \n",
      "3787          0.76            0.96             0.86             0.83   \n",
      "3788          0.99            1.04             0.88             0.91   \n",
      "3789          1.14            1.09             0.89             0.97   \n",
      "\n",
      "      P. Esc Vel (EU)  P. SFlux Min (EU)  ...  S. Size from Planet (deg)  \\\n",
      "0               15.29       4.080000e-06  ...                     0.0022   \n",
      "1               24.11       2.166914e-02  ...                     0.1353   \n",
      "2               19.04       3.960000e-06  ...                     0.0024   \n",
      "3               23.83       1.030000e-05  ...                     0.0039   \n",
      "4               16.55       2.370000e-07  ...                     0.0009   \n",
      "...               ...                ...  ...                        ...   \n",
      "3785             3.68       1.247097e+02  ...                     7.6013   \n",
      "3786             3.91       1.202813e+02  ...                     8.9947   \n",
      "3787             0.89       9.110547e+00  ...                     5.7526   \n",
      "3788             0.97       4.674975e+00  ...                     4.2882   \n",
      "3789             1.03       2.268338e+00  ...                     3.2669   \n",
      "\n",
      "      S. No. Planets  S. No. Planets HZ  S. Hab Zone Min (AU)  \\\n",
      "0                  1                  0                 0.540   \n",
      "1                  1                  0                 0.461   \n",
      "2                  1                  0                 0.136   \n",
      "3                  1                  0                 0.136   \n",
      "4                  1                  0                 0.062   \n",
      "...              ...                ...                   ...   \n",
      "3785               1                  0                 0.743   \n",
      "3786               1                  0                 0.658   \n",
      "3787               3                  0                 0.039   \n",
      "3788               3                  0                 0.039   \n",
      "3789               3                  0                 0.039   \n",
      "\n",
      "      S. Hab Zone Max (AU)   P. HZD  P. HZC  P. HZA  P. HZI  P. ESI  \n",
      "0                    1.362   800.07   23.51   85.62    0.00    0.05  \n",
      "1                    1.143     9.07   15.30   45.41    0.02    0.07  \n",
      "2                    0.347   793.67   12.57  107.44    0.00    0.06  \n",
      "3                    0.347   490.45   15.72  119.46    0.00    0.08  \n",
      "4                    0.165  3028.82   19.46  133.25    0.00    0.06  \n",
      "...                    ...      ...     ...     ...     ...     ...  \n",
      "3785                 1.751    -2.33    5.02    0.57    0.15    0.16  \n",
      "3786                 1.552    -2.34    5.23    0.62    0.15    0.15  \n",
      "3787                 0.102    -1.72   -0.17   -0.91    0.34    0.43  \n",
      "3788                 0.102    -1.56   -0.17   -0.77    0.36    0.53  \n",
      "3789                 0.102    -1.34   -0.17   -0.64    0.40    0.65  \n",
      "\n",
      "[3790 rows x 44 columns]\n"
     ]
    }
   ],
   "source": [
    "print(data)"
   ]
  },
  {
   "cell_type": "code",
   "execution_count": 36,
   "metadata": {},
   "outputs": [
    {
     "name": "stdout",
     "output_type": "stream",
     "text": [
      "[0.19623322 0.15553085 0.08797298 0.07181751 0.06464863 0.05464659\n",
      " 0.04053785 0.03412522 0.02856173 0.02606095]\n"
     ]
    }
   ],
   "source": [
    "print(pca.explained_variance_ratio_)"
   ]
  },
  {
   "cell_type": "code",
   "execution_count": 38,
   "metadata": {},
   "outputs": [],
   "source": [
    "principalDf.to_csv('PCA.csv')"
   ]
  },
  {
   "cell_type": "code",
   "execution_count": null,
   "metadata": {},
   "outputs": [],
   "source": []
  }
 ],
 "metadata": {
  "kernelspec": {
   "display_name": "Python 3",
   "language": "python",
   "name": "python3"
  },
  "language_info": {
   "codemirror_mode": {
    "name": "ipython",
    "version": 3
   },
   "file_extension": ".py",
   "mimetype": "text/x-python",
   "name": "python",
   "nbconvert_exporter": "python",
   "pygments_lexer": "ipython3",
   "version": "3.7.0"
  }
 },
 "nbformat": 4,
 "nbformat_minor": 2
}
